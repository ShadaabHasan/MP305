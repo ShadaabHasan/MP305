{
  "cells": [
    {
      "cell_type": "markdown",
      "metadata": {
        "id": "view-in-github",
        "colab_type": "text"
      },
      "source": [
        "<a href=\"https://colab.research.google.com/github/ShadaabHasan/MP305/blob/main/Lab1_Network_Flows_I.ipynb\" target=\"_parent\"><img src=\"https://colab.research.google.com/assets/colab-badge.svg\" alt=\"Open In Colab\"/></a>"
      ]
    },
    {
      "cell_type": "markdown",
      "metadata": {
        "id": "y5ZKuBeQ3n-W"
      },
      "source": [
        "# MP305 Network Flow Models I"
      ]
    },
    {
      "cell_type": "code",
      "execution_count": null,
      "metadata": {
        "id": "HVbcAFEG3n-a"
      },
      "outputs": [],
      "source": [
        "from IPython.display import display, Math, Latex"
      ]
    },
    {
      "cell_type": "markdown",
      "metadata": {
        "id": "Jeyz_1tj3n-c"
      },
      "source": [
        "## Overview\n",
        "\n",
        "This file contains a number of Python functions for finding the maximal flow through a network $G$ subject to minimal cost using the Ford Fulkerson Algorithm.\n",
        "\n",
        "The network graph $G$ is stored in a set `G` of two element tuples `(i,j)` describing the directed arcs $(i,j)$ of $G$.\n",
        "\n",
        "It is assumed that node number $1$ is the source and the greatest node `Nsink` is the sink.  \n",
        "Thus `G={(1,2),(2,3),(1,3)}`  describes a network with 3 nodes where node 1 is the source and node 3 is the sink.\n",
        "\n",
        "The capacity $c(i,j)$, flow $\\phi(i,j)$ and cost $l(i,j)$ of the arc $(i,j)$ of $G$ are stored in `c[i][j]`, `phi[i][j]` and `l[i][j]`.\n",
        "Here `c`, `phi` and `l` are Python lists.\n",
        "\n",
        "## Python Functions\n",
        "### The `Initialise(G)` function\n",
        "Having defined the network $G$, initialise `c`, `phi` and `l` values to zero via the `Initialise` function before defining their values in any particular example.  The global variable `Nsink`,  the sink node of $G$, is also found by the `Initialise` function .\n",
        "\n",
        "### The main `Iterate(G)`function\n",
        "This implements the full algorithm to find the maximum flow with minimal cost."
      ]
    },
    {
      "cell_type": "code",
      "execution_count": null,
      "metadata": {
        "id": "PRaz5xgR3n-d"
      },
      "outputs": [],
      "source": []
    },
    {
      "cell_type": "markdown",
      "metadata": {
        "id": "HAProi0Y3n-d"
      },
      "source": [
        "## The `Iterate(G)` function is based on a number of other Python functions:\n",
        "\n",
        "### `Flows(G)`\n",
        "This checks for conservation of flow and prints out all of the current flows for G and the total cost of this flow.\n",
        "\n",
        "###  `Links(G)`\n",
        "This finds all arcs `(i,j1)`, ` (i,j2)`,  ... *out* of node `i` of `G`.  The nodes `j1,j2,..` are stored in a global list of sets `Out`.\n",
        "\n",
        "###  `SourceSink(G)`\n",
        "This finds all of the paths from source to sink in any network `G` and results in a global set `SinkPaths` of such paths.\n",
        "\n",
        "###  `IncremNet(G)`\n",
        "This finds the Incremental Network `Gp` associated with the current flow of the network `G`.\n",
        "\n",
        "###  `Newflows(G)`\n",
        "This updates the flows `phi` of `G` according to the best chain found through `Gp`. If the maximal flow is reached, then this is indicated and the maximum flow value is outputed. Otherwise, the output is: the change in flow (`eps`), the cost of the best chain, and the best chain.\n",
        "\n",
        "###  `Iterate(G)`\n",
        "Implements the full algorithm to find the maximum flow with minimal cost.\n",
        "The output is as follows:\n",
        "\n",
        "(1) The incremental network `Gp`.\n",
        "\n",
        "(2) The paths through `Gp` from source to sink.\n",
        "\n",
        "(3) The output of `Newflows(G)`.\n",
        "\n",
        "(4) The output of `Flows(G)` giving the current flows and cost of `G`.\n"
      ]
    },
    {
      "cell_type": "code",
      "execution_count": null,
      "metadata": {
        "id": "8VzyVRz83n-e"
      },
      "outputs": [],
      "source": []
    },
    {
      "cell_type": "code",
      "execution_count": null,
      "metadata": {
        "id": "5WQa06hQ3n-e"
      },
      "outputs": [],
      "source": [
        "def Initialise (Gin):\n",
        "    global c,phi,l,cp,lp,Nsink\n",
        "    Nsink=1\n",
        "    for arc in Gin:\n",
        "        i,j=arc\n",
        "        Nsink=max(Nsink,i,j)\n",
        "    # for convenience c[i][j] is capacity of arc [i,j]\n",
        "    c=[[0 for i in range(Nsink+1)] for j in range(Nsink+1)]\n",
        "    phi=[[0 for i in range(Nsink+1)] for j in range(Nsink+1)]\n",
        "    l=[[0 for i in range(Nsink+1)] for j in range(Nsink+1)]\n",
        "    cp=[[0 for i in range(Nsink+1)] for j in range(Nsink+1)]\n",
        "    lp=[[0 for i in range(Nsink+1)] for j in range(Nsink+1)]\n",
        "    print(\"All values of c,phi and l initialised to zero\")\n"
      ]
    },
    {
      "cell_type": "code",
      "execution_count": null,
      "metadata": {
        "id": "gzh0VNBY3n-f"
      },
      "outputs": [],
      "source": [
        "def Flows (Gin):\n",
        "    global Nsink,l,phi\n",
        "    Flowin=[0 for i in range(Nsink+1)]\n",
        "    Flowout=[0 for i in range(Nsink+1)]\n",
        "    for arc in Gin:\n",
        "        i,j=arc\n",
        "        Flowin[j] = Flowin[j] + phi[i][j]\n",
        "        Flowout[i] = Flowout[i] + phi[i][j]\n",
        "    for k in range(2,Nsink):\n",
        "        if Flowin[k] != Flowout[k]:\n",
        "            print(\"*** ERROR *** Flow not conserved at node\", k)\n",
        "    if Flowout[1] != Flowin[Nsink]:\n",
        "        print(\"*** ERROR *** Flow not conserved at source or sink\")\n",
        "    Totalcost = 0\n",
        "    for arc in Gin:\n",
        "        i,j=arc\n",
        "        phi_ij = phi[i][j]\n",
        "        Totalcost = Totalcost + l[i][j]*phi_ij\n",
        "        print(arc,\" has flow \",phi_ij)\n",
        "    print(\"Total Cost is \", Totalcost)\n"
      ]
    },
    {
      "cell_type": "code",
      "execution_count": null,
      "metadata": {
        "id": "9sid3HDI3n-f"
      },
      "outputs": [],
      "source": [
        "def Links (Gin):\n",
        "    global Nsink,Out\n",
        "    Out=[set() for k in range(Nsink)] # labelled 0..Nsink-1\n",
        "    for arc in Gin:\n",
        "        i,j = arc\n",
        "        Out[i - 1] = Out[i - 1] | set([j])"
      ]
    },
    {
      "cell_type": "code",
      "execution_count": null,
      "metadata": {
        "id": "s-3IOK273n-g"
      },
      "outputs": [],
      "source": [
        "def SourceSink(Gin):\n",
        "# finds all paths SinkPaths from source 1 to sink Nsink of network G\n",
        "    global Nsink,SinkPaths\n",
        "    Links(Gin)\n",
        "    Paths = set() # current paths from source stored as set of tuples\n",
        "    SinkPaths = set() # paths from source to sink Nsink stored as set of tuples\n",
        "    path = 1 # source node label\n",
        "    for node in Out[0]:# need out edge from node 1\n",
        "        pathn = (path,node)\n",
        "        if node == Nsink:\n",
        "            SinkPaths = SinkPaths | set([pathn])\n",
        "        else:\n",
        "            Paths = Paths | set([pathn])\n",
        "    Npaths = len(Paths)\n",
        "    while (0 < Npaths):\n",
        "        NewPaths = set()\n",
        "        for oldpath in Paths:\n",
        "            nold = len(oldpath)\n",
        "            m = oldpath[-1] # last node in tuple oldpath\n",
        "            for mout in Out[m-1]:\n",
        "                if not mout in oldpath:\n",
        "                    if mout == Nsink:\n",
        "                        SinkPaths = SinkPaths | set([oldpath+tuple([Nsink])])\n",
        "                    else:\n",
        "                        NewPaths = NewPaths | set([oldpath+tuple([mout])])\n",
        "        Paths = NewPaths\n",
        "        Npaths = len(Paths)\n",
        "    print(\"Paths from source to sink: \",SinkPaths)"
      ]
    },
    {
      "cell_type": "code",
      "execution_count": null,
      "metadata": {
        "id": "8YrckDAW3n-g"
      },
      "outputs": [],
      "source": [
        "def IncremNet(Gin):\n",
        "# procedure to create incremental network Gp from given flow network G\n",
        "    global Gp,Nsink,phi,c,l,cp,lp,ArcSign\n",
        "# define lists for ArcSign, cp and lp  (indexed by 0..Nsink-1)\n",
        "    cp=[[0 for i in range(Nsink+1)] for j in range(Nsink+1)]\n",
        "    lp=[[0 for i in range(Nsink+1)] for j in range(Nsink+1)]\n",
        "    ArcSign=[[0 for i in range(Nsink+1)] for j in range(Nsink+1)]\n",
        "    Gp=set([])\n",
        "    for arc in Gin:\n",
        "        i,j=arc\n",
        "        pij = phi[i][j]; pji = phi[j][i]; cij = c[i][j]; lij = l[i][j]\n",
        "        if (pij < cij and (pji == 0 or not (j,i) in Gin)): # ij arc\n",
        "            #Gp edges, capacitites and costs added\n",
        "            cpij = cij - pij; cp[i][j] = cpij; lpij = lij; lp[i][j] =lpij\n",
        "            ArcSign[i][j] = 1\n",
        "            Gp=Gp | {(i,j)}\n",
        "        if pij>0: # ji arc\n",
        "            cpji = pij; cp[j][i] = cpji; lpji=-lij; lp[j][i] = lpji\n",
        "            ArcSign[j][i] = -1\n",
        "            Gp=Gp | {(j,i)}\n",
        "    print(\"Incremental Network:\",Gp)"
      ]
    },
    {
      "cell_type": "code",
      "execution_count": null,
      "metadata": {
        "id": "u5lEEJ6g3n-h"
      },
      "outputs": [],
      "source": [
        "def Newflows(Gin):\n",
        "# A procedure to modify original flows on Gin along SinkPaths of Gp with minimal cost\n",
        "    global Gp,phi,c,l,cp,lp,ArcSign,Out\n",
        "    SourceSink(Gp)\n",
        "    if SinkPaths == set():\n",
        "        Links(Gin)\n",
        "        Flow = 0\n",
        "        for node in Out[0]:\n",
        "            Flow = Flow + phi[1][node]\n",
        "        Cost=0\n",
        "        for arc in Gin:\n",
        "            i,j=arc\n",
        "            Cost=Cost+l[i][j]*phi[i][j]\n",
        "        print(\"Maximal flow found:\", Flow, \" with minimal cost \", Cost)\n",
        "    else:\n",
        "        for k in range(len(SinkPaths)):\n",
        "            cost = 0\n",
        "            epset = set()\n",
        "            path=list(SinkPaths)[k]\n",
        "            for n in range(0, len(path)-1):\n",
        "                i = path[n]; j = path[n+1];  epset = epset | set([cp[i][j]]); cost = lp[i][j] + cost\n",
        "            eps = min(tuple(epset))\n",
        "            if k == 0: # first path\n",
        "                mincost = cost; bestpath = path; besteps = eps\n",
        "            elif cost < mincost:\n",
        "                mincost = cost; bestpath = path; besteps = eps\n",
        "        print(\"A best path in Gp is \", bestpath, \" of minimum cost \", mincost)\n",
        "        print(\"The min capacity on this path is epsilon \", besteps)\n",
        "        print(\"The min cost is \", mincost)\n",
        "        for k in range(0, len(bestpath) - 1):\n",
        "            i = bestpath[k]; j = bestpath[k+1]\n",
        "            if ArcSign[i][j] == 1:\n",
        "                phinewij = phi[i][j] + besteps; phi[i][j]=phinewij\n",
        "            else:\n",
        "                phinewji=phi[j][i] = phi[j][i] - besteps; phi[j][i]=phinewji\n",
        "    #print(\"Flow=\",Flow)"
      ]
    },
    {
      "cell_type": "code",
      "execution_count": null,
      "metadata": {
        "id": "tYJ2QOXw3n-h"
      },
      "outputs": [],
      "source": [
        "def Iterate(Gin):\n",
        "    IncremNet(Gin)\n",
        "    Newflows(Gin)\n",
        "    for arc in Gin:\n",
        "        i,j=arc\n",
        "        print((i,j),\" flow = \", phi[i][j])"
      ]
    },
    {
      "cell_type": "code",
      "execution_count": null,
      "metadata": {
        "id": "au-SVni_3n-i"
      },
      "outputs": [],
      "source": []
    },
    {
      "cell_type": "code",
      "execution_count": null,
      "metadata": {
        "id": "OtMLWINh3n-i"
      },
      "outputs": [],
      "source": []
    },
    {
      "cell_type": "markdown",
      "metadata": {
        "id": "tEYTLkJp3n-i"
      },
      "source": [
        "# Example 1. The first example discussed in lectures.\n",
        "## The capacity $c(i,j)$ and flow $\\phi(i,j)$ are shown on each arc $(i,j)$\n",
        "\n",
        "![Network](https://github.com/mcgettrick/mp305/blob/main/Lab1_1.jpg?raw=1)\n"
      ]
    },
    {
      "cell_type": "markdown",
      "metadata": {
        "id": "N1hQuXx33n-j"
      },
      "source": [
        "### \\* Find the incremental network and capacities at each iteration of the Ford Fulkerson algorithm.\n",
        "### \\* In the last iteration when the maximal flow is found,  identify which arcs are normal and which are inverted in the incremental network.\n",
        "### \\* Hence find the minimal capacity cut of this network flow model."
      ]
    },
    {
      "cell_type": "code",
      "execution_count": null,
      "metadata": {
        "id": "0yhOqSKb3n-j"
      },
      "outputs": [],
      "source": [
        "G={(1,2),(1,3),(2,3),(2,4),(2,5),(3,5),(4,6),(5,4),(5,6)}"
      ]
    },
    {
      "cell_type": "code",
      "execution_count": null,
      "metadata": {
        "id": "zu_DfWMF3n-j",
        "colab": {
          "base_uri": "https://localhost:8080/"
        },
        "outputId": "383a8b26-5552-4842-f1b6-cfb03f441f63"
      },
      "outputs": [
        {
          "output_type": "stream",
          "name": "stdout",
          "text": [
            "All values of c,phi and l initialised to zero\n"
          ]
        }
      ],
      "source": [
        "Initialise (G)"
      ]
    },
    {
      "cell_type": "code",
      "execution_count": null,
      "metadata": {
        "id": "C0OT_B6c3n-k",
        "colab": {
          "base_uri": "https://localhost:8080/"
        },
        "outputId": "2f0c2d3f-67df-4bc3-8273-75b1d4d57464"
      },
      "outputs": [
        {
          "output_type": "stream",
          "name": "stdout",
          "text": [
            "(2, 4)  has flow  0\n",
            "(1, 2)  has flow  0\n",
            "(5, 4)  has flow  0\n",
            "(4, 6)  has flow  0\n",
            "(2, 3)  has flow  0\n",
            "(5, 6)  has flow  0\n",
            "(2, 5)  has flow  0\n",
            "(1, 3)  has flow  0\n",
            "(3, 5)  has flow  0\n",
            "Total Cost is  0\n"
          ]
        }
      ],
      "source": [
        "Flows(G)"
      ]
    },
    {
      "cell_type": "markdown",
      "metadata": {
        "id": "-xd7FAPf3n-k"
      },
      "source": [
        "## Define Capacities"
      ]
    },
    {
      "cell_type": "code",
      "execution_count": null,
      "metadata": {
        "id": "8UA9Rc1H3n-k"
      },
      "outputs": [],
      "source": [
        "c[1][2] = 4; c[1][3] = 5; c[2][3] = 2\n",
        "c[2][4] = 1; c[2][5] = 4; c[3][5] = 3\n",
        "c[4][6] = 2; c[5][4] = 2; c[5][6] = 6"
      ]
    },
    {
      "cell_type": "markdown",
      "metadata": {
        "id": "JEPT1N2B3n-l"
      },
      "source": [
        "## Define Flows"
      ]
    },
    {
      "cell_type": "code",
      "execution_count": null,
      "metadata": {
        "id": "sNtKZjRd3n-l"
      },
      "outputs": [],
      "source": [
        "phi[1][2]=4; phi[1][3]=1; phi[2][3]=2; phi[2][4]=1; phi[2][5]=1\n",
        "phi[3][5]=3; phi[4][6]=2; phi[5][4]=1; phi[5][6]=3"
      ]
    },
    {
      "cell_type": "code",
      "execution_count": null,
      "metadata": {
        "id": "KLgnnste3n-l",
        "colab": {
          "base_uri": "https://localhost:8080/"
        },
        "outputId": "91636ebf-552e-4899-9059-ec31d0063e60"
      },
      "outputs": [
        {
          "output_type": "stream",
          "name": "stdout",
          "text": [
            "(2, 4)  has flow  1\n",
            "(1, 2)  has flow  4\n",
            "(5, 4)  has flow  1\n",
            "(4, 6)  has flow  2\n",
            "(2, 3)  has flow  2\n",
            "(5, 6)  has flow  3\n",
            "(2, 5)  has flow  1\n",
            "(1, 3)  has flow  1\n",
            "(3, 5)  has flow  3\n",
            "Total Cost is  0\n"
          ]
        }
      ],
      "source": [
        "Flows(G)"
      ]
    },
    {
      "cell_type": "markdown",
      "metadata": {
        "id": "4cF2LpiA3n-l"
      },
      "source": [
        "## Use `Iterate` to run one iteration of the Ford Fulkerson Algorithm"
      ]
    },
    {
      "cell_type": "code",
      "execution_count": null,
      "metadata": {
        "id": "_hl8rTKG3n-m",
        "colab": {
          "base_uri": "https://localhost:8080/"
        },
        "outputId": "d81e15da-c235-4e3a-bf55-d6d44ac0458f"
      },
      "outputs": [
        {
          "output_type": "stream",
          "name": "stdout",
          "text": [
            "Incremental Network: {(2, 1), (6, 5), (3, 1), (5, 4), (6, 4), (4, 2), (4, 5), (5, 6), (5, 3), (3, 2), (2, 5), (1, 3), (5, 2)}\n",
            "Paths from source to sink:  {(1, 3, 2, 5, 6)}\n",
            "A best path in Gp is  (1, 3, 2, 5, 6)  of minimum cost  0\n",
            "The min capacity on this path is epsilon  2\n",
            "The min cost is  0\n",
            "(2, 4)  flow =  1\n",
            "(1, 2)  flow =  4\n",
            "(5, 4)  flow =  1\n",
            "(4, 6)  flow =  2\n",
            "(2, 3)  flow =  0\n",
            "(5, 6)  flow =  5\n",
            "(2, 5)  flow =  3\n",
            "(1, 3)  flow =  3\n",
            "(3, 5)  flow =  3\n"
          ]
        }
      ],
      "source": [
        "Iterate(G)"
      ]
    },
    {
      "cell_type": "code",
      "execution_count": null,
      "metadata": {
        "id": "55GRxeAL3n-m",
        "colab": {
          "base_uri": "https://localhost:8080/"
        },
        "outputId": "1e7742a2-6970-41a8-f491-6961b9567ecf"
      },
      "outputs": [
        {
          "output_type": "stream",
          "name": "stdout",
          "text": [
            "Incremental Network: {(2, 1), (6, 5), (3, 1), (5, 4), (6, 4), (4, 2), (2, 3), (4, 5), (5, 6), (5, 3), (2, 5), (1, 3), (5, 2)}\n",
            "Paths from source to sink:  set()\n",
            "Maximal flow found: 7  with minimal cost  0\n",
            "(2, 4)  flow =  1\n",
            "(1, 2)  flow =  4\n",
            "(5, 4)  flow =  1\n",
            "(4, 6)  flow =  2\n",
            "(2, 3)  flow =  0\n",
            "(5, 6)  flow =  5\n",
            "(2, 5)  flow =  3\n",
            "(1, 3)  flow =  3\n",
            "(3, 5)  flow =  3\n"
          ]
        }
      ],
      "source": [
        "Iterate(G)"
      ]
    },
    {
      "cell_type": "code",
      "execution_count": null,
      "metadata": {
        "id": "Ftjd7CYz3n-m"
      },
      "outputs": [],
      "source": []
    },
    {
      "cell_type": "code",
      "execution_count": null,
      "metadata": {
        "id": "qRRuyazh3n-m"
      },
      "outputs": [],
      "source": []
    },
    {
      "cell_type": "markdown",
      "metadata": {
        "id": "Oko046Uq3n-n"
      },
      "source": [
        "## In the following two problems, first define the network and  its capacities following the template of problem 1 and then run the `Python`|code.\n",
        "\n",
        "\n"
      ]
    },
    {
      "cell_type": "markdown",
      "metadata": {
        "id": "9EEfGDLU3n-n"
      },
      "source": [
        "## Q.2 (*) . Find the maximal flow through the following network with the given capacities:\n",
        "![Network](https://github.com/mcgettrick/mp305/blob/main/Lab1_2.jpg?raw=1)"
      ]
    },
    {
      "cell_type": "markdown",
      "metadata": {
        "id": "Sjf1KO023n-o"
      },
      "source": [
        "##  Define the network `G` and the capacities `c[i][j]` for the given data and follow the same sequence of steps as for Q.1 with zero initial flow.\n",
        "### \\* Set the initial flow to zero at each arc and find the incremental network and capacities at each iteration of the Ford-Fulkerson algorithm.\n",
        "### \\* In the last iteration when the maximal flow is found,  identify which arcs are normal and which are inverted in the incremental network.\n",
        "### \\* Hence find the minimal capacity cut of this network flow model."
      ]
    },
    {
      "cell_type": "code",
      "execution_count": null,
      "metadata": {
        "id": "0VpLU9G_3n-n"
      },
      "outputs": [],
      "source": [
        "#Define the network\n",
        "G2={(1,2),(1,3),(2,3),(2,5),(3,2),(3,4),(4,2),(4,5)}"
      ]
    },
    {
      "cell_type": "code",
      "source": [
        "#Initialize the network\n",
        "Initialise(G2)"
      ],
      "metadata": {
        "colab": {
          "base_uri": "https://localhost:8080/"
        },
        "id": "LYJhh1o74l1Q",
        "outputId": "c78d7ce4-6719-43d1-e6be-f5ba6a2e22cc"
      },
      "execution_count": null,
      "outputs": [
        {
          "output_type": "stream",
          "name": "stdout",
          "text": [
            "All values of c,phi and l initialised to zero\n"
          ]
        }
      ]
    },
    {
      "cell_type": "code",
      "source": [
        "#Initial Flow is 0 through the network\n",
        "Flows(G2)"
      ],
      "metadata": {
        "colab": {
          "base_uri": "https://localhost:8080/"
        },
        "id": "lS1XqwNt4obT",
        "outputId": "45b4f423-3a06-4fe6-b9e2-65893711e7bb"
      },
      "execution_count": null,
      "outputs": [
        {
          "output_type": "stream",
          "name": "stdout",
          "text": [
            "(1, 2)  has flow  0\n",
            "(3, 4)  has flow  0\n",
            "(4, 2)  has flow  0\n",
            "(2, 3)  has flow  0\n",
            "(4, 5)  has flow  0\n",
            "(3, 2)  has flow  0\n",
            "(2, 5)  has flow  0\n",
            "(1, 3)  has flow  0\n",
            "Total Cost is  0\n"
          ]
        }
      ]
    },
    {
      "cell_type": "code",
      "source": [
        "#Define the capacities as shown in the network\n",
        "c[1][2]=2; c[1][3]=4; c[2][3]=1;\n",
        "c[2][5]=3; c[3][2]=4; c[3][4]=2;\n",
        "c[4][2]=2; c[4][5]=3"
      ],
      "metadata": {
        "id": "XB4E-wIN4qWL"
      },
      "execution_count": null,
      "outputs": []
    },
    {
      "cell_type": "code",
      "source": [
        "#First Iteration\n",
        "Iterate(G2)"
      ],
      "metadata": {
        "colab": {
          "base_uri": "https://localhost:8080/"
        },
        "id": "gPQ8KysU4uN_",
        "outputId": "034984f7-b426-4ea4-ec2c-855d2dbbf035"
      },
      "execution_count": null,
      "outputs": [
        {
          "output_type": "stream",
          "name": "stdout",
          "text": [
            "Incremental Network: {(2, 3), (4, 5), (1, 2), (3, 4), (3, 2), (2, 5), (1, 3), (4, 2)}\n",
            "Paths from source to sink:  {(1, 3, 4, 2, 5), (1, 3, 4, 5), (1, 2, 5), (1, 2, 3, 4, 5), (1, 3, 2, 5)}\n",
            "A best path in Gp is  (1, 3, 4, 2, 5)  of minimum cost  0\n",
            "The min capacity on this path is epsilon  2\n",
            "The min cost is  0\n",
            "(1, 2)  flow =  0\n",
            "(3, 4)  flow =  2\n",
            "(4, 2)  flow =  2\n",
            "(2, 3)  flow =  0\n",
            "(4, 5)  flow =  0\n",
            "(3, 2)  flow =  0\n",
            "(2, 5)  flow =  2\n",
            "(1, 3)  flow =  2\n"
          ]
        }
      ]
    },
    {
      "cell_type": "code",
      "source": [
        "#Second Iteration\n",
        "Iterate(G2)"
      ],
      "metadata": {
        "colab": {
          "base_uri": "https://localhost:8080/"
        },
        "id": "ltz8pgHh4xB9",
        "outputId": "15de1288-7bd9-45b0-fa74-38a9abc9355c"
      },
      "execution_count": null,
      "outputs": [
        {
          "output_type": "stream",
          "name": "stdout",
          "text": [
            "Incremental Network: {(2, 4), (1, 2), (4, 3), (3, 1), (2, 3), (4, 5), (3, 2), (2, 5), (1, 3), (5, 2)}\n",
            "Paths from source to sink:  {(1, 3, 2, 5), (1, 3, 2, 4, 5), (1, 2, 4, 5), (1, 2, 5)}\n",
            "A best path in Gp is  (1, 3, 2, 5)  of minimum cost  0\n",
            "The min capacity on this path is epsilon  1\n",
            "The min cost is  0\n",
            "(1, 2)  flow =  0\n",
            "(3, 4)  flow =  2\n",
            "(4, 2)  flow =  2\n",
            "(2, 3)  flow =  0\n",
            "(4, 5)  flow =  0\n",
            "(3, 2)  flow =  1\n",
            "(2, 5)  flow =  3\n",
            "(1, 3)  flow =  3\n"
          ]
        }
      ]
    },
    {
      "cell_type": "code",
      "source": [
        "#Third Iteration\n",
        "Iterate(G2)"
      ],
      "metadata": {
        "colab": {
          "base_uri": "https://localhost:8080/"
        },
        "id": "ipZfSzFW4y2v",
        "outputId": "5f2e1471-a62a-4e2b-ec22-868d56cce418"
      },
      "execution_count": null,
      "outputs": [
        {
          "output_type": "stream",
          "name": "stdout",
          "text": [
            "Incremental Network: {(2, 4), (1, 2), (4, 3), (3, 1), (2, 3), (4, 5), (3, 2), (1, 3), (5, 2)}\n",
            "Paths from source to sink:  {(1, 3, 2, 4, 5), (1, 2, 4, 5)}\n",
            "A best path in Gp is  (1, 3, 2, 4, 5)  of minimum cost  0\n",
            "The min capacity on this path is epsilon  1\n",
            "The min cost is  0\n",
            "(1, 2)  flow =  0\n",
            "(3, 4)  flow =  2\n",
            "(4, 2)  flow =  1\n",
            "(2, 3)  flow =  0\n",
            "(4, 5)  flow =  1\n",
            "(3, 2)  flow =  2\n",
            "(2, 5)  flow =  3\n",
            "(1, 3)  flow =  4\n"
          ]
        }
      ]
    },
    {
      "cell_type": "code",
      "source": [
        "#Fourth Iteration\n",
        "Iterate(G2)"
      ],
      "metadata": {
        "colab": {
          "base_uri": "https://localhost:8080/"
        },
        "id": "8yhRfwAq40g3",
        "outputId": "8e814a21-f62c-451c-9f19-9d9a81c59318"
      },
      "execution_count": null,
      "outputs": [
        {
          "output_type": "stream",
          "name": "stdout",
          "text": [
            "Incremental Network: {(2, 4), (1, 2), (4, 3), (3, 1), (5, 4), (4, 2), (2, 3), (4, 5), (3, 2), (5, 2)}\n",
            "Paths from source to sink:  {(1, 2, 4, 5)}\n",
            "A best path in Gp is  (1, 2, 4, 5)  of minimum cost  0\n",
            "The min capacity on this path is epsilon  1\n",
            "The min cost is  0\n",
            "(1, 2)  flow =  1\n",
            "(3, 4)  flow =  2\n",
            "(4, 2)  flow =  0\n",
            "(2, 3)  flow =  0\n",
            "(4, 5)  flow =  2\n",
            "(3, 2)  flow =  2\n",
            "(2, 5)  flow =  3\n",
            "(1, 3)  flow =  4\n"
          ]
        }
      ]
    },
    {
      "cell_type": "code",
      "source": [
        "#Fifth Iteration, Here we find that the maximal flow in the network is 5\n",
        "Iterate(G2)"
      ],
      "metadata": {
        "colab": {
          "base_uri": "https://localhost:8080/"
        },
        "id": "-bSrdvya42er",
        "outputId": "f9495d5f-f71e-49c5-9c1b-368fb2815183"
      },
      "execution_count": null,
      "outputs": [
        {
          "output_type": "stream",
          "name": "stdout",
          "text": [
            "Incremental Network: {(1, 2), (2, 1), (4, 3), (3, 1), (5, 4), (4, 2), (2, 3), (4, 5), (3, 2), (5, 2)}\n",
            "Paths from source to sink:  set()\n",
            "Maximal flow found: 5  with minimal cost  0\n",
            "(1, 2)  flow =  1\n",
            "(3, 4)  flow =  2\n",
            "(4, 2)  flow =  0\n",
            "(2, 3)  flow =  0\n",
            "(4, 5)  flow =  2\n",
            "(3, 2)  flow =  2\n",
            "(2, 5)  flow =  3\n",
            "(1, 3)  flow =  4\n"
          ]
        }
      ]
    },
    {
      "cell_type": "markdown",
      "source": [
        "On comparing the initial graph and the final incremental network that we got, we find out the following\n",
        "\n",
        "# Normal Arcs:\n",
        "(1,2) (4,2) (2,3) (4,5) (3,2)\n",
        "\n",
        "# Inverted Arcs:\n",
        "(2,1) (3,1) (4,3) (5,4) (5,2)"
      ],
      "metadata": {
        "id": "4zeLhqSB46BX"
      }
    },
    {
      "cell_type": "markdown",
      "source": [
        "Since the the maximal flow of the network is 5, the minimal capacity cut of the network flow model is also 5\n",
        "\n",
        "From the final incremental model we can conclude that the minimal capacity cut of the diagram goes through arcs (2,5) and (3,4)"
      ],
      "metadata": {
        "id": "B5C32z4sM9Hd"
      }
    },
    {
      "cell_type": "markdown",
      "metadata": {
        "id": "5_Fu-Zal3n-o"
      },
      "source": [
        "## Q.3 (*) A road network is shown below with the capacity on each road indicated. Notice that many roads are two way.\n",
        "![Network](https://github.com/mcgettrick/mp305/blob/main/Lab1_3.jpg?raw=1)\n",
        "### \\* Find the maximal flow through the network from `A` to `B`.\n",
        "### \\* Compare this to maximal flow from `B`  to `A` ."
      ]
    },
    {
      "cell_type": "code",
      "execution_count": null,
      "metadata": {
        "id": "mXtv1AM83n-p"
      },
      "outputs": [],
      "source": [
        "#Define the network from A to B\n",
        "G3 = {(1,2),(2,1),(1,3),(3,1),(2,5),(3,4),(4,3),(3,6),(4,2),(4,7),(7,4),(5,7),(5,8),(8,5),(6,7),(6,8),(8,6)}"
      ]
    },
    {
      "cell_type": "code",
      "execution_count": null,
      "metadata": {
        "id": "eyefW8Q13n-p",
        "colab": {
          "base_uri": "https://localhost:8080/"
        },
        "outputId": "c2d62606-720a-48b4-a3fa-d4be90c97567"
      },
      "outputs": [
        {
          "output_type": "stream",
          "name": "stdout",
          "text": [
            "All values of c,phi and l initialised to zero\n"
          ]
        }
      ],
      "source": [
        "#we initialise the network and set the values of capacity, flow and cost to 0\n",
        "Initialise(G3)"
      ]
    },
    {
      "cell_type": "code",
      "execution_count": null,
      "metadata": {
        "id": "CcwSGpoz3n-w",
        "colab": {
          "base_uri": "https://localhost:8080/"
        },
        "outputId": "4738de53-7897-48e0-daf5-d784bb3e012d"
      },
      "outputs": [
        {
          "output_type": "stream",
          "name": "stdout",
          "text": [
            "(1, 2)  has flow  0\n",
            "(2, 1)  has flow  0\n",
            "(3, 4)  has flow  0\n",
            "(4, 3)  has flow  0\n",
            "(3, 1)  has flow  0\n",
            "(5, 7)  has flow  0\n",
            "(6, 7)  has flow  0\n",
            "(8, 6)  has flow  0\n",
            "(2, 5)  has flow  0\n",
            "(1, 3)  has flow  0\n",
            "(4, 7)  has flow  0\n",
            "(7, 4)  has flow  0\n",
            "(5, 8)  has flow  0\n",
            "(6, 8)  has flow  0\n",
            "(4, 2)  has flow  0\n",
            "(3, 6)  has flow  0\n",
            "(8, 5)  has flow  0\n",
            "Total Cost is  0\n"
          ]
        }
      ],
      "source": [
        "#Initial flow set to 0\n",
        "Flows(G3)"
      ]
    },
    {
      "cell_type": "code",
      "source": [
        "#Define all capacities for this network\n",
        "c[1][2]=5; c[2][1]=5;\n",
        "c[1][3]=4; c[3][1]=4;\n",
        "c[2][5]=3;\n",
        "c[3][4]=5; c[4][3]=5;\n",
        "c[3][6]=3;\n",
        "c[4][2]=4;\n",
        "c[4][7]=5; c[7][4]=5;\n",
        "c[5][7]=2;\n",
        "c[5][8]=6; c[8][5]=6;\n",
        "c[6][7]=4;\n",
        "c[6][8]=4; c[8][6]=4"
      ],
      "metadata": {
        "id": "2Yrx2zWk7s9c"
      },
      "execution_count": null,
      "outputs": []
    },
    {
      "cell_type": "code",
      "source": [
        "#First Iteration\n",
        "Iterate(G3)"
      ],
      "metadata": {
        "colab": {
          "base_uri": "https://localhost:8080/"
        },
        "id": "c-bomiLC89Q9",
        "outputId": "0d9d1d75-e851-468b-ff9d-8e877b7e4170"
      },
      "execution_count": null,
      "outputs": [
        {
          "output_type": "stream",
          "name": "stdout",
          "text": [
            "Incremental Network: {(1, 2), (2, 1), (3, 4), (4, 3), (3, 1), (5, 7), (6, 7), (8, 6), (2, 5), (1, 3), (4, 7), (7, 4), (5, 8), (6, 8), (4, 2), (3, 6), (8, 5)}\n",
            "Paths from source to sink:  {(1, 3, 6, 7, 4, 2, 5, 8), (1, 2, 5, 8), (1, 2, 5, 7, 4, 3, 6, 8), (1, 3, 4, 2, 5, 8), (1, 3, 6, 8)}\n",
            "A best path in Gp is  (1, 3, 6, 7, 4, 2, 5, 8)  of minimum cost  0\n",
            "The min capacity on this path is epsilon  3\n",
            "The min cost is  0\n",
            "(1, 2)  flow =  0\n",
            "(2, 1)  flow =  0\n",
            "(3, 4)  flow =  0\n",
            "(4, 3)  flow =  0\n",
            "(3, 1)  flow =  0\n",
            "(5, 7)  flow =  0\n",
            "(6, 7)  flow =  3\n",
            "(8, 6)  flow =  0\n",
            "(2, 5)  flow =  3\n",
            "(1, 3)  flow =  3\n",
            "(4, 7)  flow =  0\n",
            "(7, 4)  flow =  3\n",
            "(5, 8)  flow =  3\n",
            "(6, 8)  flow =  0\n",
            "(4, 2)  flow =  3\n",
            "(3, 6)  flow =  3\n",
            "(8, 5)  flow =  0\n"
          ]
        }
      ]
    },
    {
      "cell_type": "code",
      "source": [
        "#Second Iteration\n",
        "Iterate(G3)"
      ],
      "metadata": {
        "colab": {
          "base_uri": "https://localhost:8080/"
        },
        "id": "1XZiq32H8_1J",
        "outputId": "2c38223d-af93-4fea-8609-106bc53dfbb8"
      },
      "execution_count": null,
      "outputs": [
        {
          "output_type": "stream",
          "name": "stdout",
          "text": [
            "Incremental Network: {(2, 4), (1, 2), (2, 1), (3, 4), (4, 3), (3, 1), (5, 7), (6, 7), (7, 6), (8, 6), (1, 3), (4, 7), (5, 2), (7, 4), (5, 8), (6, 8), (4, 2), (6, 3), (8, 5)}\n",
            "Paths from source to sink:  {(1, 2, 4, 7, 6, 8), (1, 3, 4, 7, 6, 8)}\n",
            "A best path in Gp is  (1, 2, 4, 7, 6, 8)  of minimum cost  0\n",
            "The min capacity on this path is epsilon  3\n",
            "The min cost is  0\n",
            "(1, 2)  flow =  3\n",
            "(2, 1)  flow =  0\n",
            "(3, 4)  flow =  0\n",
            "(4, 3)  flow =  0\n",
            "(3, 1)  flow =  0\n",
            "(5, 7)  flow =  0\n",
            "(6, 7)  flow =  0\n",
            "(8, 6)  flow =  0\n",
            "(2, 5)  flow =  3\n",
            "(1, 3)  flow =  3\n",
            "(4, 7)  flow =  0\n",
            "(7, 4)  flow =  0\n",
            "(5, 8)  flow =  3\n",
            "(6, 8)  flow =  3\n",
            "(4, 2)  flow =  0\n",
            "(3, 6)  flow =  3\n",
            "(8, 5)  flow =  0\n"
          ]
        }
      ]
    },
    {
      "cell_type": "code",
      "source": [
        "#Third Iteration, Maximal flow found to be 6\n",
        "Iterate(G3)"
      ],
      "metadata": {
        "colab": {
          "base_uri": "https://localhost:8080/"
        },
        "id": "60BsBfBS9BOk",
        "outputId": "f83dd888-2efc-479d-e849-cb665fe7b5fb"
      },
      "execution_count": null,
      "outputs": [
        {
          "output_type": "stream",
          "name": "stdout",
          "text": [
            "Incremental Network: {(1, 2), (2, 1), (3, 4), (4, 3), (3, 1), (5, 7), (6, 7), (8, 6), (1, 3), (4, 7), (5, 2), (7, 4), (5, 8), (6, 8), (4, 2), (6, 3), (8, 5)}\n",
            "Paths from source to sink:  set()\n",
            "Maximal flow found: 6  with minimal cost  0\n",
            "(1, 2)  flow =  3\n",
            "(2, 1)  flow =  0\n",
            "(3, 4)  flow =  0\n",
            "(4, 3)  flow =  0\n",
            "(3, 1)  flow =  0\n",
            "(5, 7)  flow =  0\n",
            "(6, 7)  flow =  0\n",
            "(8, 6)  flow =  0\n",
            "(2, 5)  flow =  3\n",
            "(1, 3)  flow =  3\n",
            "(4, 7)  flow =  0\n",
            "(7, 4)  flow =  0\n",
            "(5, 8)  flow =  3\n",
            "(6, 8)  flow =  3\n",
            "(4, 2)  flow =  0\n",
            "(3, 6)  flow =  3\n",
            "(8, 5)  flow =  0\n"
          ]
        }
      ]
    },
    {
      "cell_type": "code",
      "source": [
        "#Reversing the network to find the flow from B to A\n",
        "G4= {(1,2),(2,1),(1,3),(3,1),(2,4),(3,4),(4,5),(5,4),(5,6),(6,2),(6,8),(8,6),(5,7),(7,5),(7,3),(7,8),(8,7)}"
      ],
      "metadata": {
        "id": "Cm9IDZWH9aDP"
      },
      "execution_count": null,
      "outputs": []
    },
    {
      "cell_type": "code",
      "source": [
        "Initialise(G4)"
      ],
      "metadata": {
        "colab": {
          "base_uri": "https://localhost:8080/"
        },
        "id": "gob6hhIqCUQ1",
        "outputId": "24281884-d340-4a63-80d0-0545740b1531"
      },
      "execution_count": null,
      "outputs": [
        {
          "output_type": "stream",
          "name": "stdout",
          "text": [
            "All values of c,phi and l initialised to zero\n"
          ]
        }
      ]
    },
    {
      "cell_type": "code",
      "source": [
        "#Initial Flow set to 0\n",
        "Flows(G4)"
      ],
      "metadata": {
        "colab": {
          "base_uri": "https://localhost:8080/"
        },
        "id": "ZbGTwh49CXQO",
        "outputId": "55e784c8-e9d8-41bd-fafa-41730f50cf33"
      },
      "execution_count": null,
      "outputs": [
        {
          "output_type": "stream",
          "name": "stdout",
          "text": [
            "(2, 4)  has flow  0\n",
            "(1, 2)  has flow  0\n",
            "(2, 1)  has flow  0\n",
            "(3, 4)  has flow  0\n",
            "(3, 1)  has flow  0\n",
            "(5, 4)  has flow  0\n",
            "(5, 7)  has flow  0\n",
            "(7, 3)  has flow  0\n",
            "(8, 6)  has flow  0\n",
            "(1, 3)  has flow  0\n",
            "(6, 2)  has flow  0\n",
            "(8, 7)  has flow  0\n",
            "(6, 8)  has flow  0\n",
            "(4, 5)  has flow  0\n",
            "(5, 6)  has flow  0\n",
            "(7, 5)  has flow  0\n",
            "(7, 8)  has flow  0\n",
            "Total Cost is  0\n"
          ]
        }
      ]
    },
    {
      "cell_type": "code",
      "source": [
        "#Define the Capacities for the reversed network\n",
        "c[1][2]=6; c[2][1]=6;\n",
        "c[1][3]=4; c[3][1]=4;\n",
        "c[2][4]=2;\n",
        "c[3][4]=4;\n",
        "c[4][5]=5;\n",
        "c[5][4]=5;\n",
        "c[5][6]=4;\n",
        "c[6][2]=3;\n",
        "c[6][8]=5;\n",
        "c[8][6]=5;\n",
        "c[5][7]=5;\n",
        "c[7][5]=5;\n",
        "c[7][3]=3;\n",
        "c[7][8]=4;\n",
        "c[8][7]=4;"
      ],
      "metadata": {
        "id": "fzKbFpRSBBfd"
      },
      "execution_count": null,
      "outputs": []
    },
    {
      "cell_type": "code",
      "source": [
        "#First Iteration\n",
        "Iterate(G4)"
      ],
      "metadata": {
        "colab": {
          "base_uri": "https://localhost:8080/"
        },
        "id": "1fIjz4QYB_7d",
        "outputId": "fe7a372f-a1d6-4f4a-9289-f274314fbf6f"
      },
      "execution_count": null,
      "outputs": [
        {
          "output_type": "stream",
          "name": "stdout",
          "text": [
            "Incremental Network: {(2, 4), (1, 2), (2, 1), (3, 4), (3, 1), (5, 4), (5, 7), (7, 3), (8, 6), (1, 3), (6, 2), (8, 7), (6, 8), (4, 5), (5, 6), (7, 5), (7, 8)}\n",
            "Paths from source to sink:  {(1, 2, 4, 5, 7, 8), (1, 3, 4, 5, 6, 8), (1, 2, 4, 5, 6, 8), (1, 3, 4, 5, 7, 8)}\n",
            "A best path in Gp is  (1, 2, 4, 5, 7, 8)  of minimum cost  0\n",
            "The min capacity on this path is epsilon  2\n",
            "The min cost is  0\n",
            "(2, 4)  flow =  2\n",
            "(1, 2)  flow =  2\n",
            "(2, 1)  flow =  0\n",
            "(3, 4)  flow =  0\n",
            "(3, 1)  flow =  0\n",
            "(5, 4)  flow =  0\n",
            "(5, 7)  flow =  2\n",
            "(7, 3)  flow =  0\n",
            "(8, 6)  flow =  0\n",
            "(1, 3)  flow =  0\n",
            "(6, 2)  flow =  0\n",
            "(8, 7)  flow =  0\n",
            "(6, 8)  flow =  0\n",
            "(4, 5)  flow =  2\n",
            "(5, 6)  flow =  0\n",
            "(7, 5)  flow =  0\n",
            "(7, 8)  flow =  2\n"
          ]
        }
      ]
    },
    {
      "cell_type": "code",
      "source": [
        "#Second Iteration\n",
        "Iterate(G4)"
      ],
      "metadata": {
        "colab": {
          "base_uri": "https://localhost:8080/"
        },
        "id": "65HJi-bECe9B",
        "outputId": "560c2364-dd13-425d-afba-41ae096673c4"
      },
      "execution_count": null,
      "outputs": [
        {
          "output_type": "stream",
          "name": "stdout",
          "text": [
            "Incremental Network: {(1, 2), (3, 4), (2, 1), (3, 1), (5, 4), (5, 7), (7, 3), (8, 6), (1, 3), (6, 2), (8, 7), (6, 8), (4, 2), (4, 5), (5, 6), (7, 5), (7, 8)}\n",
            "Paths from source to sink:  {(1, 3, 4, 5, 6, 8), (1, 3, 4, 5, 7, 8)}\n",
            "A best path in Gp is  (1, 3, 4, 5, 6, 8)  of minimum cost  0\n",
            "The min capacity on this path is epsilon  3\n",
            "The min cost is  0\n",
            "(2, 4)  flow =  2\n",
            "(1, 2)  flow =  2\n",
            "(2, 1)  flow =  0\n",
            "(3, 4)  flow =  3\n",
            "(3, 1)  flow =  0\n",
            "(5, 4)  flow =  0\n",
            "(5, 7)  flow =  2\n",
            "(7, 3)  flow =  0\n",
            "(8, 6)  flow =  0\n",
            "(1, 3)  flow =  3\n",
            "(6, 2)  flow =  0\n",
            "(8, 7)  flow =  0\n",
            "(6, 8)  flow =  3\n",
            "(4, 5)  flow =  5\n",
            "(5, 6)  flow =  3\n",
            "(7, 5)  flow =  0\n",
            "(7, 8)  flow =  2\n"
          ]
        }
      ]
    },
    {
      "cell_type": "code",
      "source": [
        "#Third iteration\n",
        "Iterate(G4)"
      ],
      "metadata": {
        "colab": {
          "base_uri": "https://localhost:8080/"
        },
        "id": "H9fewVNgCf1p",
        "outputId": "4515bdee-5b41-4480-97fe-d290d75b425b"
      },
      "execution_count": null,
      "outputs": [
        {
          "output_type": "stream",
          "name": "stdout",
          "text": [
            "Incremental Network: {(1, 2), (3, 4), (2, 1), (4, 3), (3, 1), (5, 4), (5, 7), (7, 3), (8, 6), (1, 3), (6, 2), (6, 5), (8, 7), (6, 8), (4, 2), (5, 6), (7, 5), (7, 8)}\n",
            "Paths from source to sink:  set()\n",
            "Maximal flow found: 5  with minimal cost  0\n",
            "(2, 4)  flow =  2\n",
            "(1, 2)  flow =  2\n",
            "(2, 1)  flow =  0\n",
            "(3, 4)  flow =  3\n",
            "(3, 1)  flow =  0\n",
            "(5, 4)  flow =  0\n",
            "(5, 7)  flow =  2\n",
            "(7, 3)  flow =  0\n",
            "(8, 6)  flow =  0\n",
            "(1, 3)  flow =  3\n",
            "(6, 2)  flow =  0\n",
            "(8, 7)  flow =  0\n",
            "(6, 8)  flow =  3\n",
            "(4, 5)  flow =  5\n",
            "(5, 6)  flow =  3\n",
            "(7, 5)  flow =  0\n",
            "(7, 8)  flow =  2\n"
          ]
        }
      ]
    },
    {
      "cell_type": "code",
      "source": [
        "#Fourth Iteration, Maximal flow found to be 5\n",
        "Iterate(G4)"
      ],
      "metadata": {
        "colab": {
          "base_uri": "https://localhost:8080/"
        },
        "id": "IkXeT2ALLo86",
        "outputId": "173238a0-ad20-4845-ed49-ee29a43bef3a"
      },
      "execution_count": null,
      "outputs": [
        {
          "output_type": "stream",
          "name": "stdout",
          "text": [
            "Incremental Network: {(1, 2), (3, 4), (2, 1), (4, 3), (3, 1), (5, 4), (5, 7), (7, 3), (8, 6), (1, 3), (6, 2), (6, 5), (8, 7), (6, 8), (4, 2), (5, 6), (7, 5), (7, 8)}\n",
            "Paths from source to sink:  set()\n",
            "Maximal flow found: 5  with minimal cost  0\n",
            "(2, 4)  flow =  2\n",
            "(1, 2)  flow =  2\n",
            "(2, 1)  flow =  0\n",
            "(3, 4)  flow =  3\n",
            "(3, 1)  flow =  0\n",
            "(5, 4)  flow =  0\n",
            "(5, 7)  flow =  2\n",
            "(7, 3)  flow =  0\n",
            "(8, 6)  flow =  0\n",
            "(1, 3)  flow =  3\n",
            "(6, 2)  flow =  0\n",
            "(8, 7)  flow =  0\n",
            "(6, 8)  flow =  3\n",
            "(4, 5)  flow =  5\n",
            "(5, 6)  flow =  3\n",
            "(7, 5)  flow =  0\n",
            "(7, 8)  flow =  2\n"
          ]
        }
      ]
    },
    {
      "cell_type": "markdown",
      "source": [
        "# Comparing the flows of graph A to B and graph B to A we find the the maximal flow of graph A to B is higher than graph B to A"
      ],
      "metadata": {
        "id": "-Q70T8rOL6kk"
      }
    }
  ],
  "metadata": {
    "kernelspec": {
      "display_name": "Python 3 (ipykernel)",
      "language": "python",
      "name": "python3"
    },
    "language_info": {
      "codemirror_mode": {
        "name": "ipython",
        "version": 3
      },
      "file_extension": ".py",
      "mimetype": "text/x-python",
      "name": "python",
      "nbconvert_exporter": "python",
      "pygments_lexer": "ipython3",
      "version": "3.11.4"
    },
    "colab": {
      "provenance": [],
      "include_colab_link": true
    }
  },
  "nbformat": 4,
  "nbformat_minor": 0
}