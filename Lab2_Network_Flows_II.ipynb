{
  "cells": [
    {
      "cell_type": "markdown",
      "metadata": {
        "id": "view-in-github",
        "colab_type": "text"
      },
      "source": [
        "<a href=\"https://colab.research.google.com/github/ShadaabHasan/MP305/blob/main/Lab2_Network_Flows_II.ipynb\" target=\"_parent\"><img src=\"https://colab.research.google.com/assets/colab-badge.svg\" alt=\"Open In Colab\"/></a>"
      ]
    },
    {
      "cell_type": "markdown",
      "metadata": {
        "id": "JvukRtFg8vuP"
      },
      "source": [
        "# MP305 Network Flow Models II"
      ]
    },
    {
      "cell_type": "code",
      "execution_count": null,
      "metadata": {
        "id": "q2VnJRaY8vuQ"
      },
      "outputs": [],
      "source": [
        "from IPython.display import display, Math, Latex"
      ]
    },
    {
      "cell_type": "markdown",
      "metadata": {
        "id": "e-0-4iTd8vuQ"
      },
      "source": [
        "## Overview\n",
        "\n",
        "This file contains a number of Python functions for finding the maximal flow through a network $G$ subject to minimal cost using the Ford Fulkerson Algorithm.\n",
        "\n",
        "The network graph $G$ is stored in a set `G` of two element tuples `(i,j)` describing the directed arcs $(i,j)$ of $G$.\n",
        "\n",
        "It is assumed that node number $1$ is the source and the greatest node `Nsink` is the sink.  \n",
        "Thus `G={(1,2),(2,3),(1,3)}`  describes a network with 3 nodes where node 1 is the source and node 3 is the sink.\n",
        "\n",
        "The capacity $c(i,j)$, flow $\\phi(i,j)$ and cost $l(i,j)$ of the arc $(i,j)$ of $G$ are stored in `c[i][j]`, `phi[i][j]` and `l[i][j]`.\n",
        "Here `c`, `phi` and `l` are Python lists.\n",
        "\n",
        "## Python Functions\n",
        "### The `Initialise(G)` function\n",
        "Having defined the network $G$, initialise `c`, `phi` and `l` values to zero via the `Initialise` function before defining their values in any particular example.  The global variable `Nsink`,  the sink node of $G$, is also found by the `Initialise` function .\n",
        "\n",
        "### The main `Iterate(G)`function\n",
        "This implements the full algorithm to find the maximum flow with minimal cost."
      ]
    },
    {
      "cell_type": "code",
      "execution_count": null,
      "metadata": {
        "id": "O_3AxNe98vuR"
      },
      "outputs": [],
      "source": []
    },
    {
      "cell_type": "markdown",
      "metadata": {
        "id": "lnpo95Q48vuR"
      },
      "source": [
        "## The `Iterate(G)` function is based on a number of other Python functions:\n",
        "\n",
        "### `Flows(G)`\n",
        "This checks for conservation of flow and prints out all of the current flows for G and the total cost of this flow.\n",
        "\n",
        "###  `Links(G)`\n",
        "This finds all arcs `(i,j1)`, ` (i,j2)`,  ... *out* of node `i` of `G`.  The nodes `j1,j2,..` are stored in a global list of sets `Out`.\n",
        "\n",
        "###  `SourceSink(G)`\n",
        "This finds all of the paths from source to sink in any network `G` and results in a global set `SinkPaths` of such paths.\n",
        "\n",
        "###  `IncremNet(G)`\n",
        "This finds the Incremental Network `Gp` associated with the current flow of the network `G`.\n",
        "\n",
        "###  `Newflows(G)`\n",
        "This updates the flows `phi` of `G` according to the best chain found through `Gp`. If the maximal flow is reached, then this is indicated and the maximum flow value is outputed. Otherwise, the output is: the change in flow (`eps`), the cost of the best chain, and the best chain.\n",
        "\n",
        "###  `Iterate(G)`\n",
        "Implements the full algorithm to find the maximum flow with minimal cost.\n",
        "The output is as follows:\n",
        "\n",
        "(1) The incremental network `Gp`.\n",
        "\n",
        "(2) The paths through `Gp` from source to sink.\n",
        "\n",
        "(3) The output of `Newflows(G)`.\n",
        "\n",
        "(4) The output of `Flows(G)` giving the current flows and cost of `G`.\n"
      ]
    },
    {
      "cell_type": "code",
      "execution_count": null,
      "metadata": {
        "id": "vZln7SHf8vuS"
      },
      "outputs": [],
      "source": []
    },
    {
      "cell_type": "code",
      "execution_count": null,
      "metadata": {
        "id": "b-MFUtL08vuS"
      },
      "outputs": [],
      "source": [
        "def Initialise (Gin):\n",
        "    global c,phi,l,cp,lp,Nsink\n",
        "    Nsink=1\n",
        "    for arc in Gin:\n",
        "        i,j=arc\n",
        "        Nsink=max(Nsink,i,j)\n",
        "    # for convenience c[i][j] is capacity of arc [i,j]\n",
        "    c=[[0 for i in range(Nsink+1)] for j in range(Nsink+1)]\n",
        "    phi=[[0 for i in range(Nsink+1)] for j in range(Nsink+1)]\n",
        "    l=[[0 for i in range(Nsink+1)] for j in range(Nsink+1)]\n",
        "    cp=[[0 for i in range(Nsink+1)] for j in range(Nsink+1)]\n",
        "    lp=[[0 for i in range(Nsink+1)] for j in range(Nsink+1)]\n",
        "    print(\"All values of c,phi and l initialised to zero\")\n"
      ]
    },
    {
      "cell_type": "code",
      "execution_count": null,
      "metadata": {
        "id": "Cnp6_dBy8vuS"
      },
      "outputs": [],
      "source": [
        "def Flows (Gin):\n",
        "    global Nsink,l,phi\n",
        "    Flowin=[0 for i in range(Nsink+1)]\n",
        "    Flowout=[0 for i in range(Nsink+1)]\n",
        "    for arc in Gin:\n",
        "        i,j=arc\n",
        "        Flowin[j] = Flowin[j] + phi[i][j]\n",
        "        Flowout[i] = Flowout[i] + phi[i][j]\n",
        "    for k in range(2,Nsink):\n",
        "        if Flowin[k] != Flowout[k]:\n",
        "            print(\"*** ERROR *** Flow not conserved at node\", k)\n",
        "    if Flowout[1] != Flowin[Nsink]:\n",
        "        print(\"*** ERROR *** Flow not conserved at source or sink\")\n",
        "    Totalcost = 0\n",
        "    for arc in Gin:\n",
        "        i,j=arc\n",
        "        phi_ij = phi[i][j]\n",
        "        Totalcost = Totalcost + l[i][j]*phi_ij\n",
        "        print(arc,\" has flow \",phi_ij)\n",
        "    print(\"Total Cost is \", Totalcost)\n"
      ]
    },
    {
      "cell_type": "code",
      "execution_count": null,
      "metadata": {
        "id": "WSrnxY-R8vuS"
      },
      "outputs": [],
      "source": [
        "def Links (Gin):\n",
        "    global Nsink,Out\n",
        "    Out=[set() for k in range(Nsink)] # labelled 0..Nsink-1\n",
        "    for arc in Gin:\n",
        "        i,j = arc\n",
        "        Out[i - 1] = Out[i - 1] | set([j])"
      ]
    },
    {
      "cell_type": "code",
      "execution_count": null,
      "metadata": {
        "id": "iUI1HL7x8vuS"
      },
      "outputs": [],
      "source": [
        "def SourceSink(Gin):\n",
        "# finds all paths SinkPaths from source 1 to sink Nsink of network G\n",
        "    global Nsink,SinkPaths\n",
        "    Links(Gin)\n",
        "    Paths = set() # current paths from source stored as set of tuples\n",
        "    SinkPaths = set() # paths from source to sink Nsink stored as set of tuples\n",
        "    path = 1 # source node label\n",
        "    for node in Out[0]:# need out edge from node 1\n",
        "        pathn = (path,node)\n",
        "        if node == Nsink:\n",
        "            SinkPaths = SinkPaths | set([pathn])\n",
        "        else:\n",
        "            Paths = Paths | set([pathn])\n",
        "    Npaths = len(Paths)\n",
        "    while (0 < Npaths):\n",
        "        NewPaths = set()\n",
        "        for oldpath in Paths:\n",
        "            nold = len(oldpath)\n",
        "            m = oldpath[-1] # last node in tuple oldpath\n",
        "            for mout in Out[m-1]:\n",
        "                if not mout in oldpath:\n",
        "                    if mout == Nsink:\n",
        "                        SinkPaths = SinkPaths | set([oldpath+tuple([Nsink])])\n",
        "                    else:\n",
        "                        NewPaths = NewPaths | set([oldpath+tuple([mout])])\n",
        "        Paths = NewPaths\n",
        "        Npaths = len(Paths)\n",
        "    print(\"Paths from source to sink: \",SinkPaths)"
      ]
    },
    {
      "cell_type": "code",
      "execution_count": null,
      "metadata": {
        "id": "oNqBU6sR8vuT"
      },
      "outputs": [],
      "source": [
        "def Newflows(Gin):\n",
        "# A procedure to modify original flows on Gin along SinkPaths of Gp with minimal cost\n",
        "    global Gp,phi,c,l,cp,lp,ArcSign,Out\n",
        "    SourceSink(Gp)\n",
        "    if SinkPaths == set():\n",
        "        Links(Gin)\n",
        "        Flow = 0\n",
        "        for node in Out[0]:\n",
        "            Flow = Flow + phi[1][node]\n",
        "        Cost=0\n",
        "        for arc in Gin:\n",
        "            i,j=arc\n",
        "            Cost=Cost+l[i][j]*phi[i][j]\n",
        "        print(\"Maximal flow found:\", Flow, \" with minimal cost \", Cost)\n",
        "    else:\n",
        "        for k in range(len(SinkPaths)):\n",
        "            cost = 0\n",
        "            epset = set()\n",
        "            path=list(SinkPaths)[k]\n",
        "            for n in range(0, len(path)-1):\n",
        "                i = path[n]; j = path[n+1];  epset = epset | set([cp[i][j]]); cost = lp[i][j] + cost\n",
        "            eps = min(tuple(epset))\n",
        "            if k == 0: # first path\n",
        "                mincost = cost; bestpath = path; besteps = eps\n",
        "            elif cost < mincost:\n",
        "                mincost = cost; bestpath = path; besteps = eps\n",
        "        print(\"A best path in Gp is \", bestpath, \" of minimum cost \", mincost)\n",
        "        print(\"The min capacity on this path is epsilon \", besteps)\n",
        "        print(\"The min cost is \", mincost)\n",
        "        for k in range(0, len(bestpath) - 1):\n",
        "            i = bestpath[k]; j = bestpath[k+1]\n",
        "            if ArcSign[i][j] == 1:\n",
        "                phinewij = phi[i][j] + besteps; phi[i][j]=phinewij\n",
        "            else:\n",
        "                phinewji=phi[j][i] = phi[j][i] - besteps; phi[j][i]=phinewji\n",
        "    #print(\"Flow=\",Flow)"
      ]
    },
    {
      "cell_type": "code",
      "execution_count": null,
      "metadata": {
        "id": "zT1IUYw_8vuT"
      },
      "outputs": [],
      "source": [
        "def Iterate(Gin):\n",
        "    IncremNet(Gin)\n",
        "    Newflows(Gin)\n",
        "    for arc in Gin:\n",
        "        i,j=arc\n",
        "        print((i,j),\" flow = \", phi[i][j])"
      ]
    },
    {
      "cell_type": "code",
      "execution_count": null,
      "metadata": {
        "id": "uijAOIUi8vuT"
      },
      "outputs": [],
      "source": [
        "def IncremNet(Gin):\n",
        "# procedure to create incremental network Gp from given flow network G\n",
        "    global Gp,Nsink,phi,c,l,cp,lp,ArcSign\n",
        "# define lists for ArcSign, cp and lp  (indexed by 0..Nsink-1)\n",
        "    cp=[[0 for i in range(Nsink+1)] for j in range(Nsink+1)]\n",
        "    lp=[[0 for i in range(Nsink+1)] for j in range(Nsink+1)]\n",
        "    ArcSign=[[0 for i in range(Nsink+1)] for j in range(Nsink+1)]\n",
        "    Gp=set([])\n",
        "    for arc in Gin:\n",
        "        i,j=arc\n",
        "        pij = phi[i][j]; pji = phi[j][i]; cij = c[i][j]; lij = l[i][j]\n",
        "        if (pij < cij and (pji == 0 or not (j,i) in Gin)): # ij arc\n",
        "            #Gp edges, capacitites and costs added\n",
        "            cpij = cij - pij; cp[i][j] = cpij; lpij = lij; lp[i][j] =lpij\n",
        "            ArcSign[i][j] = 1\n",
        "            Gp=Gp | {(i,j)}\n",
        "        if pij>0: # ji arc\n",
        "            cpji = pij; cp[j][i] = cpji; lpji=-lij; lp[j][i] = lpji\n",
        "            ArcSign[j][i] = -1\n",
        "            Gp=Gp | {(j,i)}\n",
        "    print(\"Incremental Network:\",Gp)"
      ]
    },
    {
      "cell_type": "code",
      "execution_count": null,
      "metadata": {
        "id": "-Rgbfvqy8vuT"
      },
      "outputs": [],
      "source": []
    },
    {
      "cell_type": "markdown",
      "metadata": {
        "id": "nmP9IP9v8vuT"
      },
      "source": [
        "# Q 1. Power Station/Coal Field Supply\n",
        "### Find the maximal flow for minimal cost for the network below where (capacity,cost) is shown:\n",
        "\n",
        "![Network](https://github.com/mcgettrick/mp305/blob/main/Lab2_1.jpg?raw=1)\n"
      ]
    },
    {
      "cell_type": "markdown",
      "metadata": {
        "id": "_yOqjm8s8vuT"
      },
      "source": [
        "## This is the Coalfield/Power station supply problem discussed in the notes\n",
        "### * Find the incremental network, its capacities and costs at each iteration."
      ]
    },
    {
      "cell_type": "code",
      "execution_count": null,
      "metadata": {
        "id": "2UlSVnem8vuT"
      },
      "outputs": [],
      "source": [
        "#define the nodes\n",
        "G={(1,2),(1,3),(2,4),(2,5),(3,4),(3,5),(4,6),(5,6)}"
      ]
    },
    {
      "cell_type": "code",
      "execution_count": null,
      "metadata": {
        "id": "HBEZKnml8vuT",
        "outputId": "24b2ca5e-d3be-4465-cf06-ac3bb8407205",
        "colab": {
          "base_uri": "https://localhost:8080/"
        }
      },
      "outputs": [
        {
          "output_type": "stream",
          "name": "stdout",
          "text": [
            "All values of c,phi and l initialised to zero\n"
          ]
        }
      ],
      "source": [
        "#initialise the network and set all values to 0\n",
        "Initialise(G)"
      ]
    },
    {
      "cell_type": "markdown",
      "metadata": {
        "id": "ZfBP579i8vuU"
      },
      "source": [
        "## Input capacities"
      ]
    },
    {
      "cell_type": "code",
      "execution_count": null,
      "metadata": {
        "id": "j3KE-0mL8vuU"
      },
      "outputs": [],
      "source": [
        "#define capacities\n",
        "c[1][2]=3; c[1][3]=5; c[2][4]=3; c[2][5]=3\n",
        "c[3][5]=5; c[3][4]=5; c[4][6]=2; c[5][6]=5"
      ]
    },
    {
      "cell_type": "markdown",
      "metadata": {
        "id": "sWkkM9UC8vuU"
      },
      "source": [
        "## Input costs"
      ]
    },
    {
      "cell_type": "code",
      "execution_count": null,
      "metadata": {
        "id": "-VKP2LqM8vuU"
      },
      "outputs": [],
      "source": [
        "#define the costs\n",
        "l[1][2]=5; l[1][3]=3;\n",
        "l[2][4]=3\n",
        "l[2][5]=6; l[3][4]=5\n",
        "l[3][5]=9"
      ]
    },
    {
      "cell_type": "code",
      "execution_count": null,
      "metadata": {
        "id": "0RW88dSJ8vuU",
        "outputId": "6f9fe8b7-ca02-4e74-d98c-52c873d7036c",
        "colab": {
          "base_uri": "https://localhost:8080/"
        }
      },
      "outputs": [
        {
          "output_type": "stream",
          "name": "stdout",
          "text": [
            "(2, 4)  has flow  0\n",
            "(1, 2)  has flow  0\n",
            "(3, 4)  has flow  0\n",
            "(4, 6)  has flow  0\n",
            "(5, 6)  has flow  0\n",
            "(2, 5)  has flow  0\n",
            "(1, 3)  has flow  0\n",
            "(3, 5)  has flow  0\n",
            "Total Cost is  0\n"
          ]
        }
      ],
      "source": [
        "#initialise the flow to 0\n",
        "Flows(G)"
      ]
    },
    {
      "cell_type": "code",
      "execution_count": null,
      "metadata": {
        "id": "mxVna0U68vuU",
        "outputId": "0ba4959d-f46b-48f4-ba43-85d09686a9f9",
        "colab": {
          "base_uri": "https://localhost:8080/"
        }
      },
      "outputs": [
        {
          "output_type": "stream",
          "name": "stdout",
          "text": [
            "Incremental Network: {(2, 4), (1, 2), (2, 5), (3, 4), (5, 6), (4, 6), (1, 3), (3, 5)}\n",
            "Paths from source to sink:  {(1, 2, 5, 6), (1, 3, 4, 6), (1, 2, 4, 6), (1, 3, 5, 6)}\n",
            "A best path in Gp is  (1, 3, 4, 6)  of minimum cost  8\n",
            "The min capacity on this path is epsilon  2\n",
            "The min cost is  8\n",
            "(2, 4)  flow =  0\n",
            "(1, 2)  flow =  0\n",
            "(3, 4)  flow =  2\n",
            "(4, 6)  flow =  2\n",
            "(5, 6)  flow =  0\n",
            "(2, 5)  flow =  0\n",
            "(1, 3)  flow =  2\n",
            "(3, 5)  flow =  0\n"
          ]
        }
      ],
      "source": [
        "#first iteration\n",
        "Iterate(G)"
      ]
    },
    {
      "cell_type": "markdown",
      "metadata": {
        "id": "-wRkN81o8vuU"
      },
      "source": [
        "### Continue to iterate until max flow for minimal cost found"
      ]
    },
    {
      "cell_type": "code",
      "execution_count": null,
      "metadata": {
        "id": "lVddsoGE8vuU",
        "outputId": "a73ef84b-da7e-4045-e954-2f8c5aae4a4b",
        "colab": {
          "base_uri": "https://localhost:8080/"
        }
      },
      "outputs": [
        {
          "output_type": "stream",
          "name": "stdout",
          "text": [
            "Incremental Network: {(2, 4), (1, 2), (3, 4), (4, 3), (3, 1), (6, 4), (5, 6), (2, 5), (1, 3), (3, 5)}\n",
            "Paths from source to sink:  {(1, 2, 5, 6), (1, 2, 4, 3, 5, 6), (1, 3, 5, 6)}\n",
            "A best path in Gp is  (1, 2, 5, 6)  of minimum cost  11\n",
            "The min capacity on this path is epsilon  3\n",
            "The min cost is  11\n",
            "(2, 4)  flow =  0\n",
            "(1, 2)  flow =  3\n",
            "(3, 4)  flow =  2\n",
            "(4, 6)  flow =  2\n",
            "(5, 6)  flow =  3\n",
            "(2, 5)  flow =  3\n",
            "(1, 3)  flow =  2\n",
            "(3, 5)  flow =  0\n"
          ]
        }
      ],
      "source": [
        "#second iteration\n",
        "Iterate(G)"
      ]
    },
    {
      "cell_type": "code",
      "execution_count": null,
      "metadata": {
        "id": "aAoYL6Yh8vuV",
        "outputId": "760481de-52b3-445b-a237-cc05835cdd0b",
        "colab": {
          "base_uri": "https://localhost:8080/"
        }
      },
      "outputs": [
        {
          "output_type": "stream",
          "name": "stdout",
          "text": [
            "Incremental Network: {(2, 4), (2, 1), (3, 4), (4, 3), (6, 5), (3, 1), (6, 4), (5, 6), (1, 3), (3, 5), (5, 2)}\n",
            "Paths from source to sink:  {(1, 3, 5, 6)}\n",
            "A best path in Gp is  (1, 3, 5, 6)  of minimum cost  12\n",
            "The min capacity on this path is epsilon  2\n",
            "The min cost is  12\n",
            "(2, 4)  flow =  0\n",
            "(1, 2)  flow =  3\n",
            "(3, 4)  flow =  2\n",
            "(4, 6)  flow =  2\n",
            "(5, 6)  flow =  5\n",
            "(2, 5)  flow =  3\n",
            "(1, 3)  flow =  4\n",
            "(3, 5)  flow =  2\n"
          ]
        }
      ],
      "source": [
        "#third iteration\n",
        "Iterate(G)"
      ]
    },
    {
      "cell_type": "code",
      "execution_count": null,
      "metadata": {
        "id": "XvJtc-5q8vuV",
        "outputId": "3208204b-406b-4a21-f244-76c8cb873a66",
        "colab": {
          "base_uri": "https://localhost:8080/"
        }
      },
      "outputs": [
        {
          "output_type": "stream",
          "name": "stdout",
          "text": [
            "Incremental Network: {(2, 4), (2, 1), (3, 4), (4, 3), (6, 5), (3, 1), (6, 4), (5, 3), (1, 3), (3, 5), (5, 2)}\n",
            "Paths from source to sink:  set()\n",
            "Maximal flow found: 7  with minimal cost  73\n",
            "(2, 4)  flow =  0\n",
            "(1, 2)  flow =  3\n",
            "(3, 4)  flow =  2\n",
            "(4, 6)  flow =  2\n",
            "(5, 6)  flow =  5\n",
            "(2, 5)  flow =  3\n",
            "(1, 3)  flow =  4\n",
            "(3, 5)  flow =  2\n"
          ]
        }
      ],
      "source": [
        "#fourth iteration\n",
        "Iterate(G)"
      ]
    },
    {
      "cell_type": "code",
      "execution_count": null,
      "metadata": {
        "id": "_Q_WCkE98vuV"
      },
      "outputs": [],
      "source": []
    },
    {
      "cell_type": "markdown",
      "metadata": {
        "id": "uz99MKAa8vuV"
      },
      "source": [
        "# Q2. (*)  \n",
        "## A road network is shown below with the capacity and time taken per car on each road indicated.\n",
        "![Network](https://github.com/mcgettrick/mp305/blob/main/Lab2_2.jpg?raw=1)\n"
      ]
    },
    {
      "cell_type": "markdown",
      "metadata": {
        "id": "IhUC2cix8vuV"
      },
      "source": [
        "## * Find the maximal flow through the network for minimal total travel time for all cars from A to B.\n",
        "## * Compare this to the flow from B to A.\n",
        "\n",
        "### Note: You can use the network and capacitites you created in the first lab Network Flows I, Question 3."
      ]
    },
    {
      "cell_type": "markdown",
      "source": [
        "# A TO B"
      ],
      "metadata": {
        "id": "nWhDKZChMcnE"
      }
    },
    {
      "cell_type": "code",
      "execution_count": null,
      "metadata": {
        "id": "rfD6vyGC8vuV"
      },
      "outputs": [],
      "source": [
        "# Define the network from A to B\n",
        "G2={(1,2),(2,1),(1,3),(3,1),(2,6),(3,4),(3,7),(4,3),(4,2),(4,5),(5,4),(6,5),(6,8),(7,5),(7,8),(8,6),(8,7)}"
      ]
    },
    {
      "cell_type": "code",
      "source": [
        "#initialise the network and set all the values to 0\n",
        "Initialise(G2)"
      ],
      "metadata": {
        "colab": {
          "base_uri": "https://localhost:8080/"
        },
        "id": "bb0C0G1dJ1gr",
        "outputId": "9af1f7c4-f314-40a3-8b26-a1b1a54332fb"
      },
      "execution_count": null,
      "outputs": [
        {
          "output_type": "stream",
          "name": "stdout",
          "text": [
            "All values of c,phi and l initialised to zero\n"
          ]
        }
      ]
    },
    {
      "cell_type": "code",
      "execution_count": null,
      "metadata": {
        "id": "ElS7X7hW8vuW"
      },
      "outputs": [],
      "source": [
        "#Define the capacities as shown in the network\n",
        "c[1][2]=5; c[2][1]=5;\n",
        "c[1][3]=4; c[3][1]=4;\n",
        "c[2][6]=3;\n",
        "c[3][4]=5; c[4][3]=5;\n",
        "c[3][7]=3;\n",
        "c[4][2]=4;\n",
        "c[4][5]=5; c[5][4]=5;\n",
        "c[6][5]=2;\n",
        "c[6][8]=6; c[8][6]=6;\n",
        "c[7][5]=4;\n",
        "c[7][8]=4; c[8][7]=4;"
      ]
    },
    {
      "cell_type": "code",
      "source": [
        "#Define the costs as shown in the network\n",
        "l[1][2]=3; l[2][1]=3;\n",
        "l[1][3]=2; l[3][1]=2;\n",
        "l[2][6]=2;\n",
        "l[3][4]=1; l[4][3]=1;\n",
        "l[3][7]=2;\n",
        "l[4][2]=3;\n",
        "l[4][5]=2; l[5][4]=2;\n",
        "l[6][5]=3;\n",
        "l[6][8]=3; l[8][6]=3;\n",
        "l[7][5]=3;\n",
        "l[7][8]=1; l[8][7]=1;"
      ],
      "metadata": {
        "id": "TA3dq6NQJ8p_"
      },
      "execution_count": null,
      "outputs": []
    },
    {
      "cell_type": "code",
      "source": [
        "#Initialise the flow as 0 through the network\n",
        "Flows(G2)"
      ],
      "metadata": {
        "colab": {
          "base_uri": "https://localhost:8080/"
        },
        "id": "ki7-dKcYKR1N",
        "outputId": "7f0fcc55-9d4c-4b8d-838a-51fcdacf7b58"
      },
      "execution_count": null,
      "outputs": [
        {
          "output_type": "stream",
          "name": "stdout",
          "text": [
            "(1, 2)  has flow  0\n",
            "(2, 1)  has flow  0\n",
            "(3, 4)  has flow  0\n",
            "(4, 3)  has flow  0\n",
            "(3, 1)  has flow  0\n",
            "(3, 7)  has flow  0\n",
            "(5, 4)  has flow  0\n",
            "(8, 6)  has flow  0\n",
            "(1, 3)  has flow  0\n",
            "(6, 5)  has flow  0\n",
            "(8, 7)  has flow  0\n",
            "(6, 8)  has flow  0\n",
            "(4, 2)  has flow  0\n",
            "(4, 5)  has flow  0\n",
            "(2, 6)  has flow  0\n",
            "(7, 5)  has flow  0\n",
            "(7, 8)  has flow  0\n",
            "Total Cost is  0\n"
          ]
        }
      ]
    },
    {
      "cell_type": "code",
      "source": [
        "# First iteration\n",
        "Iterate(G2)"
      ],
      "metadata": {
        "colab": {
          "base_uri": "https://localhost:8080/"
        },
        "id": "3jA3oTP5KTsO",
        "outputId": "f645e5ff-36d8-4cba-94ff-cd2f8aad62d7"
      },
      "execution_count": null,
      "outputs": [
        {
          "output_type": "stream",
          "name": "stdout",
          "text": [
            "Incremental Network: {(1, 2), (2, 1), (3, 4), (4, 3), (3, 1), (3, 7), (5, 4), (8, 6), (1, 3), (6, 5), (8, 7), (6, 8), (4, 2), (4, 5), (2, 6), (7, 5), (7, 8)}\n",
            "Paths from source to sink:  {(1, 3, 7, 8), (1, 3, 4, 2, 6, 8), (1, 2, 6, 5, 4, 3, 7, 8), (1, 2, 6, 8), (1, 3, 7, 5, 4, 2, 6, 8)}\n",
            "A best path in Gp is  (1, 3, 7, 8)  of minimum cost  5\n",
            "The min capacity on this path is epsilon  3\n",
            "The min cost is  5\n",
            "(1, 2)  flow =  0\n",
            "(2, 1)  flow =  0\n",
            "(3, 4)  flow =  0\n",
            "(4, 3)  flow =  0\n",
            "(3, 1)  flow =  0\n",
            "(3, 7)  flow =  3\n",
            "(5, 4)  flow =  0\n",
            "(8, 6)  flow =  0\n",
            "(1, 3)  flow =  3\n",
            "(6, 5)  flow =  0\n",
            "(8, 7)  flow =  0\n",
            "(6, 8)  flow =  0\n",
            "(4, 2)  flow =  0\n",
            "(4, 5)  flow =  0\n",
            "(2, 6)  flow =  0\n",
            "(7, 5)  flow =  0\n",
            "(7, 8)  flow =  3\n"
          ]
        }
      ]
    },
    {
      "cell_type": "code",
      "source": [
        "# Second iteration\n",
        "Iterate(G2)"
      ],
      "metadata": {
        "colab": {
          "base_uri": "https://localhost:8080/"
        },
        "id": "hi3ydo5KKWUZ",
        "outputId": "7e234d67-f3a0-4e2a-e82a-b2b1d8788aad"
      },
      "execution_count": null,
      "outputs": [
        {
          "output_type": "stream",
          "name": "stdout",
          "text": [
            "Incremental Network: {(1, 2), (2, 1), (3, 4), (4, 3), (3, 1), (5, 4), (7, 3), (8, 6), (1, 3), (6, 5), (8, 7), (6, 8), (4, 2), (4, 5), (2, 6), (7, 5), (7, 8)}\n",
            "Paths from source to sink:  {(1, 2, 6, 8), (1, 3, 4, 2, 6, 8)}\n",
            "A best path in Gp is  (1, 2, 6, 8)  of minimum cost  8\n",
            "The min capacity on this path is epsilon  3\n",
            "The min cost is  8\n",
            "(1, 2)  flow =  3\n",
            "(2, 1)  flow =  0\n",
            "(3, 4)  flow =  0\n",
            "(4, 3)  flow =  0\n",
            "(3, 1)  flow =  0\n",
            "(3, 7)  flow =  3\n",
            "(5, 4)  flow =  0\n",
            "(8, 6)  flow =  0\n",
            "(1, 3)  flow =  3\n",
            "(6, 5)  flow =  0\n",
            "(8, 7)  flow =  0\n",
            "(6, 8)  flow =  3\n",
            "(4, 2)  flow =  0\n",
            "(4, 5)  flow =  0\n",
            "(2, 6)  flow =  3\n",
            "(7, 5)  flow =  0\n",
            "(7, 8)  flow =  3\n"
          ]
        }
      ]
    },
    {
      "cell_type": "code",
      "source": [
        "# Third iteration\n",
        "Iterate(G2)"
      ],
      "metadata": {
        "colab": {
          "base_uri": "https://localhost:8080/"
        },
        "id": "zc-yYPRcKXHc",
        "outputId": "b9251d76-f655-4d35-a4d7-afcf86a5d35f"
      },
      "execution_count": null,
      "outputs": [
        {
          "output_type": "stream",
          "name": "stdout",
          "text": [
            "Incremental Network: {(1, 2), (2, 1), (3, 4), (4, 3), (3, 1), (5, 4), (7, 3), (8, 6), (1, 3), (6, 2), (6, 5), (8, 7), (6, 8), (4, 2), (4, 5), (7, 5), (7, 8)}\n",
            "Paths from source to sink:  set()\n",
            "Maximal flow found: 6  with minimal cost  39\n",
            "(1, 2)  flow =  3\n",
            "(2, 1)  flow =  0\n",
            "(3, 4)  flow =  0\n",
            "(4, 3)  flow =  0\n",
            "(3, 1)  flow =  0\n",
            "(3, 7)  flow =  3\n",
            "(5, 4)  flow =  0\n",
            "(8, 6)  flow =  0\n",
            "(1, 3)  flow =  3\n",
            "(6, 5)  flow =  0\n",
            "(8, 7)  flow =  0\n",
            "(6, 8)  flow =  3\n",
            "(4, 2)  flow =  0\n",
            "(4, 5)  flow =  0\n",
            "(2, 6)  flow =  3\n",
            "(7, 5)  flow =  0\n",
            "(7, 8)  flow =  3\n"
          ]
        }
      ]
    },
    {
      "cell_type": "markdown",
      "source": [
        "# B to A"
      ],
      "metadata": {
        "id": "L-vvSPCXKnFC"
      }
    },
    {
      "cell_type": "code",
      "source": [
        "# Define the network from B to A\n",
        "G2_reversed={(1,2),(2,1),(1,3),(3,1),(2,4),(3,4),(4,5),(5,4),(5,6),(5,7),(7,5),(6,2),(7,3),(6,8),(7,8),(8,7),(8,6)}"
      ],
      "metadata": {
        "id": "WPHOrB1rKm1Z"
      },
      "execution_count": null,
      "outputs": []
    },
    {
      "cell_type": "code",
      "source": [
        "#initialise the network and set all the values to 0\n",
        "Initialise(G2_reversed)"
      ],
      "metadata": {
        "colab": {
          "base_uri": "https://localhost:8080/"
        },
        "id": "Bn9PiOkTLWEr",
        "outputId": "17b335b7-ca99-45c7-de38-a0bfd592f97f"
      },
      "execution_count": null,
      "outputs": [
        {
          "output_type": "stream",
          "name": "stdout",
          "text": [
            "All values of c,phi and l initialised to zero\n"
          ]
        }
      ]
    },
    {
      "cell_type": "code",
      "source": [
        "# Define the capacites as shown in the network\n",
        "c[1][2]=6; c[2][1]=6;\n",
        "c[1][3]=4; c[3][1]=4;\n",
        "c[2][4]=2;\n",
        "c[3][4]=4;\n",
        "c[4][5]=5;\n",
        "c[5][4]=5;\n",
        "c[5][6]=4;\n",
        "c[5][7]=5; c[7][5]=5;\n",
        "c[6][2]=3;\n",
        "c[7][3]=3;\n",
        "c[6][8]=5; c[8][6]=5;\n",
        "c[7][8]=4; c[8][7]=4;\n"
      ],
      "metadata": {
        "id": "2h2z8WobLaBk"
      },
      "execution_count": null,
      "outputs": []
    },
    {
      "cell_type": "code",
      "source": [
        "# Define the cost as shown in the network\n",
        "l[1][2]=3; l[2][1]=3;\n",
        "l[1][3]=1; l[3][1]=1;\n",
        "l[2][4]=3;\n",
        "l[3][4]=3;\n",
        "l[4][5]=2; l[5][4]=2;\n",
        "l[5][6]=3;\n",
        "l[5][7]=1; l[7][5]=1;\n",
        "l[6][2]=2;\n",
        "l[7][3]=2;\n",
        "l[6][8]=3; l[8][6]=3;\n",
        "l[7][8]=2; l[8][7]=2;\n"
      ],
      "metadata": {
        "id": "HEnUJqZ5L8za"
      },
      "execution_count": null,
      "outputs": []
    },
    {
      "cell_type": "code",
      "source": [
        "#Initialise the flow as 0 through the network\n",
        "Flows(G2_reversed)"
      ],
      "metadata": {
        "colab": {
          "base_uri": "https://localhost:8080/"
        },
        "id": "2L7bMLIVMOrB",
        "outputId": "6ded21f1-7071-4074-8615-ad4266ff78fa"
      },
      "execution_count": null,
      "outputs": [
        {
          "output_type": "stream",
          "name": "stdout",
          "text": [
            "(2, 4)  has flow  0\n",
            "(1, 2)  has flow  0\n",
            "(2, 1)  has flow  0\n",
            "(3, 4)  has flow  0\n",
            "(3, 1)  has flow  0\n",
            "(5, 4)  has flow  0\n",
            "(5, 7)  has flow  0\n",
            "(7, 3)  has flow  0\n",
            "(8, 6)  has flow  0\n",
            "(1, 3)  has flow  0\n",
            "(6, 2)  has flow  0\n",
            "(8, 7)  has flow  0\n",
            "(6, 8)  has flow  0\n",
            "(4, 5)  has flow  0\n",
            "(5, 6)  has flow  0\n",
            "(7, 5)  has flow  0\n",
            "(7, 8)  has flow  0\n",
            "Total Cost is  0\n"
          ]
        }
      ]
    },
    {
      "cell_type": "code",
      "source": [
        "#First iteration\n",
        "Iterate(G2_reversed)"
      ],
      "metadata": {
        "colab": {
          "base_uri": "https://localhost:8080/"
        },
        "id": "BpU2TcG2MQfM",
        "outputId": "fbbca113-d2c5-4396-cf66-1698d51ac777"
      },
      "execution_count": null,
      "outputs": [
        {
          "output_type": "stream",
          "name": "stdout",
          "text": [
            "Incremental Network: {(2, 4), (1, 2), (2, 1), (3, 4), (3, 1), (5, 4), (5, 7), (7, 3), (8, 6), (1, 3), (6, 2), (8, 7), (6, 8), (4, 5), (5, 6), (7, 5), (7, 8)}\n",
            "Paths from source to sink:  {(1, 2, 4, 5, 7, 8), (1, 3, 4, 5, 6, 8), (1, 2, 4, 5, 6, 8), (1, 3, 4, 5, 7, 8)}\n",
            "A best path in Gp is  (1, 3, 4, 5, 7, 8)  of minimum cost  9\n",
            "The min capacity on this path is epsilon  4\n",
            "The min cost is  9\n",
            "(2, 4)  flow =  0\n",
            "(1, 2)  flow =  0\n",
            "(2, 1)  flow =  0\n",
            "(3, 4)  flow =  4\n",
            "(3, 1)  flow =  0\n",
            "(5, 4)  flow =  0\n",
            "(5, 7)  flow =  4\n",
            "(7, 3)  flow =  0\n",
            "(8, 6)  flow =  0\n",
            "(1, 3)  flow =  4\n",
            "(6, 2)  flow =  0\n",
            "(8, 7)  flow =  0\n",
            "(6, 8)  flow =  0\n",
            "(4, 5)  flow =  4\n",
            "(5, 6)  flow =  0\n",
            "(7, 5)  flow =  0\n",
            "(7, 8)  flow =  4\n"
          ]
        }
      ]
    },
    {
      "cell_type": "code",
      "source": [
        "#Second Iteration\n",
        "Iterate(G2_reversed)"
      ],
      "metadata": {
        "colab": {
          "base_uri": "https://localhost:8080/"
        },
        "id": "cV-82AP9MTLT",
        "outputId": "607fcf92-33be-4984-9585-1f2aaa2a03d0"
      },
      "execution_count": null,
      "outputs": [
        {
          "output_type": "stream",
          "name": "stdout",
          "text": [
            "Incremental Network: {(2, 4), (1, 2), (6, 2), (2, 1), (4, 3), (3, 1), (8, 7), (6, 8), (5, 4), (5, 7), (7, 3), (4, 5), (5, 6), (8, 6), (7, 5)}\n",
            "Paths from source to sink:  {(1, 2, 4, 5, 6, 8)}\n",
            "A best path in Gp is  (1, 2, 4, 5, 6, 8)  of minimum cost  14\n",
            "The min capacity on this path is epsilon  1\n",
            "The min cost is  14\n",
            "(2, 4)  flow =  1\n",
            "(1, 2)  flow =  1\n",
            "(2, 1)  flow =  0\n",
            "(3, 4)  flow =  4\n",
            "(3, 1)  flow =  0\n",
            "(5, 4)  flow =  0\n",
            "(5, 7)  flow =  4\n",
            "(7, 3)  flow =  0\n",
            "(8, 6)  flow =  0\n",
            "(1, 3)  flow =  4\n",
            "(6, 2)  flow =  0\n",
            "(8, 7)  flow =  0\n",
            "(6, 8)  flow =  1\n",
            "(4, 5)  flow =  5\n",
            "(5, 6)  flow =  1\n",
            "(7, 5)  flow =  0\n",
            "(7, 8)  flow =  4\n"
          ]
        }
      ]
    },
    {
      "cell_type": "code",
      "source": [
        "# Third iteration\n",
        "Iterate(G2_reversed)"
      ],
      "metadata": {
        "colab": {
          "base_uri": "https://localhost:8080/"
        },
        "id": "_o-BS0FVMT0F",
        "outputId": "54dac4ef-f433-40e7-d50f-b4b8f77b922a"
      },
      "execution_count": null,
      "outputs": [
        {
          "output_type": "stream",
          "name": "stdout",
          "text": [
            "Incremental Network: {(2, 4), (1, 2), (6, 2), (2, 1), (6, 5), (4, 3), (3, 1), (8, 7), (6, 8), (5, 4), (5, 7), (4, 2), (7, 3), (5, 6), (8, 6), (7, 5)}\n",
            "Paths from source to sink:  set()\n",
            "Maximal flow found: 5  with minimal cost  50\n",
            "(2, 4)  flow =  1\n",
            "(1, 2)  flow =  1\n",
            "(2, 1)  flow =  0\n",
            "(3, 4)  flow =  4\n",
            "(3, 1)  flow =  0\n",
            "(5, 4)  flow =  0\n",
            "(5, 7)  flow =  4\n",
            "(7, 3)  flow =  0\n",
            "(8, 6)  flow =  0\n",
            "(1, 3)  flow =  4\n",
            "(6, 2)  flow =  0\n",
            "(8, 7)  flow =  0\n",
            "(6, 8)  flow =  1\n",
            "(4, 5)  flow =  5\n",
            "(5, 6)  flow =  1\n",
            "(7, 5)  flow =  0\n",
            "(7, 8)  flow =  4\n"
          ]
        }
      ]
    },
    {
      "cell_type": "markdown",
      "source": [
        "## Comparing the flow from A to B and the reverse flow B to A, we can see that the maximal flow from A to B is 6 which is more as compared to B to A and the minimal flow from A to B is 39 which is less as compared to B to A"
      ],
      "metadata": {
        "id": "RZQugVRyaLH8"
      }
    },
    {
      "cell_type": "markdown",
      "metadata": {
        "id": "7LLtTAoD8vuW"
      },
      "source": [
        " # Q.3 (*) Soft Drinks Stock Control\n",
        " ## A soft drinks firm buys fruit at the beginning of each month $i$ at a cost per 100kg $p_i$ in units of 1000 Euro.\n",
        " ## The firm can store up 2000kg of fruit at any given time where cost in units 1000 Euro of refrigeration per month per 100kg is $r_i$.\n",
        "## The consumption requirements are $c_i$ per month in 100kg units.\n",
        "\n",
        "## Based on last year's figures,  the following estimates have been made:\n",
        "\\begin{array}{|l|l|l|l|l|l|l|l|l|l|l|l|l|}\n",
        "\\hline\n",
        "i & Jan & Feb & Mar & April & May & June & July & Aug & Sept & Oct & Nov &\n",
        "Dec \\\\ \\hline\n",
        "p_{i} & 18 & 17 & 17 & 15 & 12 & 8 & 7 & 6 & 9 & 12 & 14 & 17 \\\\ \\hline\n",
        "r_{i} & 1 & 1 & 2 & 2 & 3 & 5 & 6 & 6 & 5 & 3 & 2 & 1 \\\\ \\hline\n",
        "c_{i} & 9 & 6 & 6 & 7 & 11 & 14 & 16 & 18 & 15 & 10 & 7 & 6 \\\\ \\hline\n",
        "\\end{array}"
      ]
    },
    {
      "cell_type": "markdown",
      "metadata": {
        "id": "RJb0-0XO8vuW"
      },
      "source": [
        "## (a) Find the best purchasing schedule starting from January based on these estimates assuming that the firm has no fruit in storage on Jan 1st.\n",
        "## How much will fruit cost for the year and how much will be spent on refrigeration?\n",
        "\n",
        "## (b) Suppose that the firm has 500kg of fruit in storage at the beginning of the year.\n",
        "## What is the best purchasing schedule that ensures that 500kg of fruit is again in storage at the very end of the year?"
      ]
    },
    {
      "cell_type": "markdown",
      "source": [
        "#Part A"
      ],
      "metadata": {
        "id": "IXYGjuh6OIyK"
      }
    },
    {
      "cell_type": "code",
      "execution_count": null,
      "metadata": {
        "id": "XSI4kWw08vuW"
      },
      "outputs": [],
      "source": [
        "#define the network\n",
        "G3 ={(1,2),(1,3),(1,4),(1,5),(1,6),(1,7),(1,8),(1,9),(1,10),(1,11),(1,12),(1,13),(2,14),(3,15),(4,16),(5,17),(6,18),(7,19),(8,20),(9,21),(10,22),(11,23),(12,24),(13,25),(14,3),(15,4),(16,5),(17,6),(18,7),(19,8),(20,9),(21,10),(22,11),(23,12),(24,13),(14,26),(15,26),(16,26),(17,26),(18,26),(19,26),(20,26),(21,26),(22,26),(23,26),(24,26),(25,26)}"
      ]
    },
    {
      "cell_type": "code",
      "execution_count": null,
      "metadata": {
        "id": "S3CtpFB38vuW",
        "colab": {
          "base_uri": "https://localhost:8080/"
        },
        "outputId": "ab4a23a2-f966-45b5-d422-a655c24f889f"
      },
      "outputs": [
        {
          "output_type": "stream",
          "name": "stdout",
          "text": [
            "All values of c,phi and l initialised to zero\n"
          ]
        }
      ],
      "source": [
        "#initialise the network and set the values to 0\n",
        "Initialise(G3)"
      ]
    },
    {
      "cell_type": "code",
      "execution_count": null,
      "metadata": {
        "id": "mha9Fe9u8vuW"
      },
      "outputs": [],
      "source": [
        "#defining capacities\n",
        "#from source to firm\n",
        "c[1][2]=20\n",
        "c[1][3]=20\n",
        "c[1][4]=20\n",
        "c[1][5]=20\n",
        "c[1][6]=20\n",
        "c[1][7]=20\n",
        "c[1][8]=20\n",
        "c[1][9]=20\n",
        "c[1][10]=20\n",
        "c[1][11]=20\n",
        "c[1][12]=20\n",
        "c[1][13]=20\n",
        "c[2][14]=20\n",
        "c[3][15]=20\n",
        "c[4][16]=20\n",
        "c[5][17]=20\n",
        "c[6][18]=20\n",
        "c[7][19]=20\n",
        "c[8][20]=20\n",
        "c[9][21]=20\n",
        "c[10][22]=20\n",
        "c[11][23]=20\n",
        "c[12][24]=20\n",
        "c[13][25]=20\n",
        "\n",
        "#leftover\n",
        "c[14][3]=20\n",
        "c[15][4]=20\n",
        "c[16][5]=20\n",
        "c[17][6]=20\n",
        "c[18][7]=20\n",
        "c[19][8]=20\n",
        "c[20][9]=20\n",
        "c[21][10]=20\n",
        "c[22][11]=20\n",
        "c[23][12]=20\n",
        "c[24][13]=20\n",
        "\n",
        "#storage to consumption\n",
        "c[14][26]=9\n",
        "c[15][26]=6\n",
        "c[16][26]=6\n",
        "c[17][26]=7\n",
        "c[18][26]=11\n",
        "c[19][26]=14\n",
        "c[20][26]=16\n",
        "c[21][26]=18\n",
        "c[22][26]=15\n",
        "c[23][26]=10\n",
        "c[24][26]=7\n",
        "c[25][26]=6"
      ]
    },
    {
      "cell_type": "code",
      "execution_count": null,
      "metadata": {
        "id": "DgwW2d_28vuW"
      },
      "outputs": [],
      "source": [
        "#defining cost\n",
        "#from source to firm\n",
        "l[1][2]=18\n",
        "l[1][3]=17\n",
        "l[1][4]=17\n",
        "l[1][5]=15\n",
        "l[1][6]=12\n",
        "l[1][7]=8\n",
        "l[1][8]=7\n",
        "l[1][9]=6\n",
        "l[1][10]=9\n",
        "l[1][11]=12\n",
        "l[1][12]=14\n",
        "l[1][13]=17\n",
        "l[2][14]=0\n",
        "l[3][15]=0\n",
        "l[4][16]=0\n",
        "l[5][17]=0\n",
        "l[6][18]=0\n",
        "l[7][19]=0\n",
        "l[8][20]=0\n",
        "l[9][21]=0\n",
        "l[10][22]=0\n",
        "l[11][23]=0\n",
        "l[12][24]=0\n",
        "l[13][25]=0\n",
        "\n",
        "#leftover\n",
        "l[14][3]=1\n",
        "l[15][4]=1\n",
        "l[16][5]=2\n",
        "l[17][6]=2\n",
        "l[18][7]=3\n",
        "l[19][8]=5\n",
        "l[20][9]=6\n",
        "l[21][10]=6\n",
        "l[22][11]=5\n",
        "l[23][12]=3\n",
        "l[24][13]=2\n",
        "\n",
        "#storage to consumption\n",
        "l[14][26]=0\n",
        "l[15][26]=0\n",
        "l[16][26]=0\n",
        "l[17][26]=0\n",
        "l[18][26]=0\n",
        "l[19][26]=0\n",
        "l[20][26]=0\n",
        "l[21][26]=0\n",
        "l[22][26]=0\n",
        "l[23][26]=0\n",
        "l[24][26]=0\n",
        "l[25][26]=0"
      ]
    },
    {
      "cell_type": "code",
      "source": [
        "#initialise the flow to 0\n",
        "Flows(G3)"
      ],
      "metadata": {
        "colab": {
          "base_uri": "https://localhost:8080/"
        },
        "id": "HAp_nIsDLL0e",
        "outputId": "3926a0e4-6783-45d4-b848-a565473be0b9"
      },
      "execution_count": null,
      "outputs": [
        {
          "output_type": "stream",
          "name": "stdout",
          "text": [
            "(6, 18)  has flow  0\n",
            "(21, 10)  has flow  0\n",
            "(16, 26)  has flow  0\n",
            "(22, 11)  has flow  0\n",
            "(18, 26)  has flow  0\n",
            "(20, 26)  has flow  0\n",
            "(17, 6)  has flow  0\n",
            "(22, 26)  has flow  0\n",
            "(1, 6)  has flow  0\n",
            "(1, 3)  has flow  0\n",
            "(1, 9)  has flow  0\n",
            "(2, 14)  has flow  0\n",
            "(1, 12)  has flow  0\n",
            "(11, 23)  has flow  0\n",
            "(18, 7)  has flow  0\n",
            "(24, 26)  has flow  0\n",
            "(7, 19)  has flow  0\n",
            "(15, 26)  has flow  0\n",
            "(14, 3)  has flow  0\n",
            "(23, 12)  has flow  0\n",
            "(3, 15)  has flow  0\n",
            "(12, 24)  has flow  0\n",
            "(19, 8)  has flow  0\n",
            "(1, 2)  has flow  0\n",
            "(17, 26)  has flow  0\n",
            "(1, 5)  has flow  0\n",
            "(1, 11)  has flow  0\n",
            "(15, 4)  has flow  0\n",
            "(8, 20)  has flow  0\n",
            "(1, 8)  has flow  0\n",
            "(19, 26)  has flow  0\n",
            "(24, 13)  has flow  0\n",
            "(20, 9)  has flow  0\n",
            "(13, 25)  has flow  0\n",
            "(4, 16)  has flow  0\n",
            "(21, 26)  has flow  0\n",
            "(23, 26)  has flow  0\n",
            "(5, 17)  has flow  0\n",
            "(14, 26)  has flow  0\n",
            "(1, 4)  has flow  0\n",
            "(9, 21)  has flow  0\n",
            "(1, 7)  has flow  0\n",
            "(1, 13)  has flow  0\n",
            "(16, 5)  has flow  0\n",
            "(1, 10)  has flow  0\n",
            "(10, 22)  has flow  0\n",
            "(25, 26)  has flow  0\n",
            "Total Cost is  0\n"
          ]
        }
      ]
    },
    {
      "cell_type": "code",
      "source": [
        "#First iteration\n",
        "Iterate(G3)"
      ],
      "metadata": {
        "colab": {
          "base_uri": "https://localhost:8080/"
        },
        "id": "c9gaV29gL63H",
        "outputId": "7a593eee-2f00-4c2b-ee46-5edbbfb4b958"
      },
      "execution_count": null,
      "outputs": [
        {
          "output_type": "stream",
          "name": "stdout",
          "text": [
            "Incremental Network: {(6, 18), (21, 10), (16, 26), (22, 11), (18, 26), (20, 26), (17, 6), (22, 26), (1, 6), (1, 3), (1, 9), (2, 14), (1, 12), (11, 23), (18, 7), (24, 26), (7, 19), (15, 26), (14, 3), (23, 12), (12, 24), (3, 15), (19, 8), (1, 2), (17, 26), (1, 5), (1, 11), (15, 4), (8, 20), (1, 8), (19, 26), (24, 13), (20, 9), (13, 25), (4, 16), (21, 26), (23, 26), (5, 17), (14, 26), (1, 4), (9, 21), (1, 7), (1, 13), (16, 5), (1, 10), (10, 22), (25, 26)}\n",
            "Paths from source to sink:  {(1, 7, 19, 8, 20, 9, 21, 10, 22, 11, 23, 26), (1, 2, 14, 3, 15, 4, 16, 26), (1, 3, 15, 4, 16, 5, 17, 6, 18, 7, 19, 8, 20, 9, 21, 26), (1, 2, 14, 26), (1, 5, 17, 6, 18, 7, 19, 8, 20, 26), (1, 5, 17, 6, 18, 7, 19, 8, 20, 9, 21, 10, 22, 11, 23, 26), (1, 3, 15, 4, 16, 5, 17, 6, 18, 7, 19, 8, 20, 26), (1, 3, 15, 4, 16, 5, 17, 6, 18, 7, 19, 8, 20, 9, 21, 10, 22, 26), (1, 4, 16, 5, 17, 6, 18, 7, 19, 8, 20, 9, 21, 10, 22, 11, 23, 26), (1, 6, 18, 7, 19, 8, 20, 9, 21, 10, 22, 11, 23, 12, 24, 26), (1, 3, 15, 4, 16, 5, 17, 6, 18, 7, 19, 8, 20, 9, 21, 10, 22, 11, 23, 26), (1, 2, 14, 3, 15, 4, 16, 5, 17, 6, 18, 7, 19, 8, 20, 9, 21, 10, 22, 26), (1, 3, 15, 4, 16, 5, 17, 6, 18, 26), (1, 10, 22, 11, 23, 12, 24, 13, 25, 26), (1, 4, 16, 5, 17, 6, 18, 7, 19, 8, 20, 9, 21, 10, 22, 11, 23, 12, 24, 13, 25, 26), (1, 2, 14, 3, 15, 4, 16, 5, 17, 26), (1, 6, 18, 7, 19, 26), (1, 5, 17, 6, 18, 7, 19, 8, 20, 9, 21, 10, 22, 11, 23, 12, 24, 26), (1, 3, 15, 4, 16, 5, 17, 6, 18, 7, 19, 8, 20, 9, 21, 10, 22, 11, 23, 12, 24, 13, 25, 26), (1, 11, 23, 12, 24, 26), (1, 7, 19, 8, 20, 9, 21, 10, 22, 11, 23, 12, 24, 13, 25, 26), (1, 5, 17, 6, 18, 7, 19, 26), (1, 9, 21, 26), (1, 13, 25, 26), (1, 5, 17, 6, 18, 7, 19, 8, 20, 9, 21, 10, 22, 26), (1, 11, 23, 12, 24, 13, 25, 26), (1, 2, 14, 3, 15, 4, 16, 5, 17, 6, 18, 7, 19, 8, 20, 26), (1, 8, 20, 9, 21, 26), (1, 10, 22, 26), (1, 4, 16, 5, 17, 6, 18, 7, 19, 26), (1, 4, 16, 5, 17, 6, 18, 7, 19, 8, 20, 9, 21, 10, 22, 26), (1, 6, 18, 7, 19, 8, 20, 9, 21, 10, 22, 11, 23, 26), (1, 2, 14, 3, 15, 4, 16, 5, 17, 6, 18, 7, 19, 26), (1, 9, 21, 10, 22, 11, 23, 26), (1, 11, 23, 26), (1, 8, 20, 9, 21, 10, 22, 11, 23, 12, 24, 26), (1, 3, 15, 26), (1, 8, 20, 9, 21, 10, 22, 26), (1, 12, 24, 26), (1, 7, 19, 8, 20, 9, 21, 26), (1, 5, 17, 6, 18, 7, 19, 8, 20, 9, 21, 10, 22, 11, 23, 12, 24, 13, 25, 26), (1, 6, 18, 7, 19, 8, 20, 26), (1, 12, 24, 13, 25, 26), (1, 2, 14, 3, 15, 26), (1, 4, 16, 5, 17, 6, 18, 7, 19, 8, 20, 26), (1, 10, 22, 11, 23, 12, 24, 26), (1, 2, 14, 3, 15, 4, 16, 5, 17, 6, 18, 26), (1, 6, 18, 26), (1, 2, 14, 3, 15, 4, 16, 5, 17, 6, 18, 7, 19, 8, 20, 9, 21, 26), (1, 4, 16, 26), (1, 5, 17, 26), (1, 8, 20, 9, 21, 10, 22, 11, 23, 26), (1, 3, 15, 4, 16, 5, 17, 6, 18, 7, 19, 8, 20, 9, 21, 10, 22, 11, 23, 12, 24, 26), (1, 2, 14, 3, 15, 4, 16, 5, 17, 6, 18, 7, 19, 8, 20, 9, 21, 10, 22, 11, 23, 12, 24, 13, 25, 26), (1, 3, 15, 4, 16, 26), (1, 7, 19, 8, 20, 9, 21, 10, 22, 26), (1, 5, 17, 6, 18, 7, 19, 8, 20, 9, 21, 26), (1, 4, 16, 5, 17, 6, 18, 7, 19, 8, 20, 9, 21, 26), (1, 8, 20, 9, 21, 10, 22, 11, 23, 12, 24, 13, 25, 26), (1, 9, 21, 10, 22, 11, 23, 12, 24, 26), (1, 4, 16, 5, 17, 6, 18, 7, 19, 8, 20, 9, 21, 10, 22, 11, 23, 12, 24, 26), (1, 5, 17, 6, 18, 26), (1, 2, 14, 3, 15, 4, 16, 5, 17, 6, 18, 7, 19, 8, 20, 9, 21, 10, 22, 11, 23, 12, 24, 26), (1, 6, 18, 7, 19, 8, 20, 9, 21, 10, 22, 26), (1, 6, 18, 7, 19, 8, 20, 9, 21, 26), (1, 7, 19, 26), (1, 4, 16, 5, 17, 6, 18, 26), (1, 10, 22, 11, 23, 26), (1, 2, 14, 3, 15, 4, 16, 5, 17, 6, 18, 7, 19, 8, 20, 9, 21, 10, 22, 11, 23, 26), (1, 7, 19, 8, 20, 26), (1, 3, 15, 4, 16, 5, 17, 26), (1, 3, 15, 4, 16, 5, 17, 6, 18, 7, 19, 26), (1, 9, 21, 10, 22, 26), (1, 6, 18, 7, 19, 8, 20, 9, 21, 10, 22, 11, 23, 12, 24, 13, 25, 26), (1, 4, 16, 5, 17, 26), (1, 7, 19, 8, 20, 9, 21, 10, 22, 11, 23, 12, 24, 26), (1, 9, 21, 10, 22, 11, 23, 12, 24, 13, 25, 26), (1, 8, 20, 26)}\n",
            "A best path in Gp is  (1, 9, 21, 26)  of minimum cost  6\n",
            "The min capacity on this path is epsilon  18\n",
            "The min cost is  6\n",
            "(6, 18)  flow =  0\n",
            "(21, 10)  flow =  0\n",
            "(16, 26)  flow =  0\n",
            "(22, 11)  flow =  0\n",
            "(18, 26)  flow =  0\n",
            "(20, 26)  flow =  0\n",
            "(17, 6)  flow =  0\n",
            "(22, 26)  flow =  0\n",
            "(1, 6)  flow =  0\n",
            "(1, 3)  flow =  0\n",
            "(1, 9)  flow =  18\n",
            "(2, 14)  flow =  0\n",
            "(1, 12)  flow =  0\n",
            "(11, 23)  flow =  0\n",
            "(18, 7)  flow =  0\n",
            "(24, 26)  flow =  0\n",
            "(7, 19)  flow =  0\n",
            "(15, 26)  flow =  0\n",
            "(14, 3)  flow =  0\n",
            "(23, 12)  flow =  0\n",
            "(3, 15)  flow =  0\n",
            "(12, 24)  flow =  0\n",
            "(19, 8)  flow =  0\n",
            "(1, 2)  flow =  0\n",
            "(17, 26)  flow =  0\n",
            "(1, 5)  flow =  0\n",
            "(1, 11)  flow =  0\n",
            "(15, 4)  flow =  0\n",
            "(8, 20)  flow =  0\n",
            "(1, 8)  flow =  0\n",
            "(19, 26)  flow =  0\n",
            "(24, 13)  flow =  0\n",
            "(20, 9)  flow =  0\n",
            "(13, 25)  flow =  0\n",
            "(4, 16)  flow =  0\n",
            "(21, 26)  flow =  18\n",
            "(23, 26)  flow =  0\n",
            "(5, 17)  flow =  0\n",
            "(14, 26)  flow =  0\n",
            "(1, 4)  flow =  0\n",
            "(9, 21)  flow =  18\n",
            "(1, 7)  flow =  0\n",
            "(1, 13)  flow =  0\n",
            "(16, 5)  flow =  0\n",
            "(1, 10)  flow =  0\n",
            "(10, 22)  flow =  0\n",
            "(25, 26)  flow =  0\n"
          ]
        }
      ]
    },
    {
      "cell_type": "code",
      "source": [
        "#Second Iteration\n",
        "Iterate(G3)"
      ],
      "metadata": {
        "colab": {
          "base_uri": "https://localhost:8080/"
        },
        "id": "q5hI3ylRL9aX",
        "outputId": "fe056ac0-ee93-4a6a-e6dd-4c0d1bfa05e4"
      },
      "execution_count": null,
      "outputs": [
        {
          "output_type": "stream",
          "name": "stdout",
          "text": [
            "Incremental Network: {(26, 21), (6, 18), (21, 10), (16, 26), (22, 11), (18, 26), (20, 26), (17, 6), (22, 26), (1, 6), (1, 3), (1, 9), (2, 14), (1, 12), (11, 23), (18, 7), (24, 26), (21, 9), (7, 19), (15, 26), (14, 3), (23, 12), (9, 1), (12, 24), (3, 15), (19, 8), (1, 2), (17, 26), (1, 5), (1, 11), (15, 4), (8, 20), (1, 8), (19, 26), (24, 13), (20, 9), (13, 25), (4, 16), (23, 26), (5, 17), (14, 26), (1, 4), (9, 21), (1, 7), (1, 13), (16, 5), (1, 10), (10, 22), (25, 26)}\n",
            "Paths from source to sink:  {(1, 7, 19, 8, 20, 9, 21, 10, 22, 11, 23, 26), (1, 2, 14, 3, 15, 4, 16, 26), (1, 2, 14, 26), (1, 5, 17, 6, 18, 7, 19, 8, 20, 26), (1, 5, 17, 6, 18, 7, 19, 8, 20, 9, 21, 10, 22, 11, 23, 26), (1, 3, 15, 4, 16, 5, 17, 6, 18, 7, 19, 8, 20, 26), (1, 3, 15, 4, 16, 5, 17, 6, 18, 7, 19, 8, 20, 9, 21, 10, 22, 26), (1, 4, 16, 5, 17, 6, 18, 7, 19, 8, 20, 9, 21, 10, 22, 11, 23, 26), (1, 6, 18, 7, 19, 8, 20, 9, 21, 10, 22, 11, 23, 12, 24, 26), (1, 3, 15, 4, 16, 5, 17, 6, 18, 7, 19, 8, 20, 9, 21, 10, 22, 11, 23, 26), (1, 2, 14, 3, 15, 4, 16, 5, 17, 6, 18, 7, 19, 8, 20, 9, 21, 10, 22, 26), (1, 3, 15, 4, 16, 5, 17, 6, 18, 26), (1, 10, 22, 11, 23, 12, 24, 13, 25, 26), (1, 4, 16, 5, 17, 6, 18, 7, 19, 8, 20, 9, 21, 10, 22, 11, 23, 12, 24, 13, 25, 26), (1, 2, 14, 3, 15, 4, 16, 5, 17, 26), (1, 6, 18, 7, 19, 26), (1, 5, 17, 6, 18, 7, 19, 8, 20, 9, 21, 10, 22, 11, 23, 12, 24, 26), (1, 3, 15, 4, 16, 5, 17, 6, 18, 7, 19, 8, 20, 9, 21, 10, 22, 11, 23, 12, 24, 13, 25, 26), (1, 11, 23, 12, 24, 26), (1, 7, 19, 8, 20, 9, 21, 10, 22, 11, 23, 12, 24, 13, 25, 26), (1, 5, 17, 6, 18, 7, 19, 26), (1, 5, 17, 6, 18, 7, 19, 8, 20, 9, 21, 10, 22, 26), (1, 13, 25, 26), (1, 11, 23, 12, 24, 13, 25, 26), (1, 2, 14, 3, 15, 4, 16, 5, 17, 6, 18, 7, 19, 8, 20, 26), (1, 10, 22, 26), (1, 4, 16, 5, 17, 6, 18, 7, 19, 26), (1, 4, 16, 5, 17, 6, 18, 7, 19, 8, 20, 9, 21, 10, 22, 26), (1, 6, 18, 7, 19, 8, 20, 9, 21, 10, 22, 11, 23, 26), (1, 2, 14, 3, 15, 4, 16, 5, 17, 6, 18, 7, 19, 26), (1, 9, 21, 10, 22, 11, 23, 26), (1, 11, 23, 26), (1, 8, 20, 9, 21, 10, 22, 11, 23, 12, 24, 26), (1, 3, 15, 26), (1, 8, 20, 9, 21, 10, 22, 26), (1, 12, 24, 26), (1, 5, 17, 6, 18, 7, 19, 8, 20, 9, 21, 10, 22, 11, 23, 12, 24, 13, 25, 26), (1, 6, 18, 7, 19, 8, 20, 26), (1, 12, 24, 13, 25, 26), (1, 2, 14, 3, 15, 26), (1, 4, 16, 5, 17, 6, 18, 7, 19, 8, 20, 26), (1, 10, 22, 11, 23, 12, 24, 26), (1, 2, 14, 3, 15, 4, 16, 5, 17, 6, 18, 26), (1, 6, 18, 26), (1, 4, 16, 26), (1, 5, 17, 26), (1, 8, 20, 9, 21, 10, 22, 11, 23, 26), (1, 3, 15, 4, 16, 5, 17, 6, 18, 7, 19, 8, 20, 9, 21, 10, 22, 11, 23, 12, 24, 26), (1, 2, 14, 3, 15, 4, 16, 5, 17, 6, 18, 7, 19, 8, 20, 9, 21, 10, 22, 11, 23, 12, 24, 13, 25, 26), (1, 3, 15, 4, 16, 26), (1, 7, 19, 8, 20, 9, 21, 10, 22, 26), (1, 8, 20, 9, 21, 10, 22, 11, 23, 12, 24, 13, 25, 26), (1, 9, 21, 10, 22, 11, 23, 12, 24, 26), (1, 4, 16, 5, 17, 6, 18, 7, 19, 8, 20, 9, 21, 10, 22, 11, 23, 12, 24, 26), (1, 5, 17, 6, 18, 26), (1, 2, 14, 3, 15, 4, 16, 5, 17, 6, 18, 7, 19, 8, 20, 9, 21, 10, 22, 11, 23, 12, 24, 26), (1, 6, 18, 7, 19, 8, 20, 9, 21, 10, 22, 26), (1, 7, 19, 26), (1, 4, 16, 5, 17, 6, 18, 26), (1, 10, 22, 11, 23, 26), (1, 2, 14, 3, 15, 4, 16, 5, 17, 6, 18, 7, 19, 8, 20, 9, 21, 10, 22, 11, 23, 26), (1, 7, 19, 8, 20, 26), (1, 3, 15, 4, 16, 5, 17, 26), (1, 3, 15, 4, 16, 5, 17, 6, 18, 7, 19, 26), (1, 9, 21, 10, 22, 26), (1, 6, 18, 7, 19, 8, 20, 9, 21, 10, 22, 11, 23, 12, 24, 13, 25, 26), (1, 4, 16, 5, 17, 26), (1, 7, 19, 8, 20, 9, 21, 10, 22, 11, 23, 12, 24, 26), (1, 9, 21, 10, 22, 11, 23, 12, 24, 13, 25, 26), (1, 8, 20, 26)}\n",
            "A best path in Gp is  (1, 8, 20, 26)  of minimum cost  7\n",
            "The min capacity on this path is epsilon  16\n",
            "The min cost is  7\n",
            "(6, 18)  flow =  0\n",
            "(21, 10)  flow =  0\n",
            "(16, 26)  flow =  0\n",
            "(22, 11)  flow =  0\n",
            "(18, 26)  flow =  0\n",
            "(20, 26)  flow =  16\n",
            "(17, 6)  flow =  0\n",
            "(22, 26)  flow =  0\n",
            "(1, 6)  flow =  0\n",
            "(1, 3)  flow =  0\n",
            "(1, 9)  flow =  18\n",
            "(2, 14)  flow =  0\n",
            "(1, 12)  flow =  0\n",
            "(11, 23)  flow =  0\n",
            "(18, 7)  flow =  0\n",
            "(24, 26)  flow =  0\n",
            "(7, 19)  flow =  0\n",
            "(15, 26)  flow =  0\n",
            "(14, 3)  flow =  0\n",
            "(23, 12)  flow =  0\n",
            "(3, 15)  flow =  0\n",
            "(12, 24)  flow =  0\n",
            "(19, 8)  flow =  0\n",
            "(1, 2)  flow =  0\n",
            "(17, 26)  flow =  0\n",
            "(1, 5)  flow =  0\n",
            "(1, 11)  flow =  0\n",
            "(15, 4)  flow =  0\n",
            "(8, 20)  flow =  16\n",
            "(1, 8)  flow =  16\n",
            "(19, 26)  flow =  0\n",
            "(24, 13)  flow =  0\n",
            "(20, 9)  flow =  0\n",
            "(13, 25)  flow =  0\n",
            "(4, 16)  flow =  0\n",
            "(21, 26)  flow =  18\n",
            "(23, 26)  flow =  0\n",
            "(5, 17)  flow =  0\n",
            "(14, 26)  flow =  0\n",
            "(1, 4)  flow =  0\n",
            "(9, 21)  flow =  18\n",
            "(1, 7)  flow =  0\n",
            "(1, 13)  flow =  0\n",
            "(16, 5)  flow =  0\n",
            "(1, 10)  flow =  0\n",
            "(10, 22)  flow =  0\n",
            "(25, 26)  flow =  0\n"
          ]
        }
      ]
    },
    {
      "cell_type": "code",
      "source": [
        "#Third Iteration\n",
        "Iterate(G3)"
      ],
      "metadata": {
        "colab": {
          "base_uri": "https://localhost:8080/"
        },
        "id": "dx-zQdjwL_7t",
        "outputId": "ba50bee6-624f-491e-cff9-c5ee4f063de8"
      },
      "execution_count": null,
      "outputs": [
        {
          "output_type": "stream",
          "name": "stdout",
          "text": [
            "Incremental Network: {(26, 21), (6, 18), (21, 10), (16, 26), (20, 8), (22, 11), (18, 26), (17, 6), (22, 26), (1, 6), (1, 3), (1, 9), (2, 14), (1, 12), (11, 23), (18, 7), (26, 20), (24, 26), (21, 9), (7, 19), (15, 26), (14, 3), (23, 12), (9, 1), (12, 24), (3, 15), (19, 8), (1, 2), (17, 26), (1, 5), (1, 11), (15, 4), (8, 20), (1, 8), (19, 26), (24, 13), (20, 9), (13, 25), (4, 16), (8, 1), (23, 26), (5, 17), (14, 26), (1, 4), (9, 21), (1, 7), (1, 13), (16, 5), (1, 10), (10, 22), (25, 26)}\n",
            "Paths from source to sink:  {(1, 7, 19, 8, 20, 9, 21, 10, 22, 11, 23, 26), (1, 2, 14, 3, 15, 4, 16, 26), (1, 12, 24, 13, 25, 26), (1, 2, 14, 3, 15, 26), (1, 2, 14, 26), (1, 10, 22, 11, 23, 12, 24, 26), (1, 5, 17, 6, 18, 7, 19, 8, 20, 9, 21, 10, 22, 11, 23, 26), (1, 2, 14, 3, 15, 4, 16, 5, 17, 6, 18, 26), (1, 3, 15, 4, 16, 5, 17, 6, 18, 7, 19, 8, 20, 9, 21, 10, 22, 26), (1, 6, 18, 26), (1, 4, 16, 5, 17, 6, 18, 7, 19, 8, 20, 9, 21, 10, 22, 11, 23, 26), (1, 6, 18, 7, 19, 8, 20, 9, 21, 10, 22, 11, 23, 12, 24, 26), (1, 3, 15, 4, 16, 5, 17, 6, 18, 7, 19, 8, 20, 9, 21, 10, 22, 11, 23, 26), (1, 2, 14, 3, 15, 4, 16, 5, 17, 6, 18, 7, 19, 8, 20, 9, 21, 10, 22, 26), (1, 3, 15, 4, 16, 5, 17, 6, 18, 26), (1, 10, 22, 11, 23, 12, 24, 13, 25, 26), (1, 4, 16, 5, 17, 6, 18, 7, 19, 8, 20, 9, 21, 10, 22, 11, 23, 12, 24, 13, 25, 26), (1, 2, 14, 3, 15, 4, 16, 5, 17, 26), (1, 4, 16, 26), (1, 6, 18, 7, 19, 26), (1, 5, 17, 6, 18, 7, 19, 8, 20, 9, 21, 10, 22, 11, 23, 12, 24, 26), (1, 3, 15, 4, 16, 5, 17, 6, 18, 7, 19, 8, 20, 9, 21, 10, 22, 11, 23, 12, 24, 13, 25, 26), (1, 11, 23, 12, 24, 26), (1, 5, 17, 26), (1, 7, 19, 8, 20, 9, 21, 10, 22, 11, 23, 12, 24, 13, 25, 26), (1, 8, 20, 9, 21, 10, 22, 11, 23, 26), (1, 5, 17, 6, 18, 7, 19, 26), (1, 3, 15, 4, 16, 5, 17, 6, 18, 7, 19, 8, 20, 9, 21, 10, 22, 11, 23, 12, 24, 26), (1, 2, 14, 3, 15, 4, 16, 5, 17, 6, 18, 7, 19, 8, 20, 9, 21, 10, 22, 11, 23, 12, 24, 13, 25, 26), (1, 5, 17, 6, 18, 7, 19, 8, 20, 9, 21, 10, 22, 26), (1, 13, 25, 26), (1, 3, 15, 4, 16, 26), (1, 11, 23, 12, 24, 13, 25, 26), (1, 7, 19, 8, 20, 9, 21, 10, 22, 26), (1, 8, 20, 9, 21, 10, 22, 11, 23, 12, 24, 13, 25, 26), (1, 9, 21, 10, 22, 11, 23, 12, 24, 26), (1, 10, 22, 26), (1, 4, 16, 5, 17, 6, 18, 7, 19, 8, 20, 9, 21, 10, 22, 11, 23, 12, 24, 26), (1, 4, 16, 5, 17, 6, 18, 7, 19, 26), (1, 4, 16, 5, 17, 6, 18, 7, 19, 8, 20, 9, 21, 10, 22, 26), (1, 6, 18, 7, 19, 8, 20, 9, 21, 10, 22, 11, 23, 26), (1, 2, 14, 3, 15, 4, 16, 5, 17, 6, 18, 7, 19, 26), (1, 5, 17, 6, 18, 26), (1, 2, 14, 3, 15, 4, 16, 5, 17, 6, 18, 7, 19, 8, 20, 9, 21, 10, 22, 11, 23, 12, 24, 26), (1, 6, 18, 7, 19, 8, 20, 9, 21, 10, 22, 26), (1, 7, 19, 26), (1, 4, 16, 5, 17, 6, 18, 26), (1, 10, 22, 11, 23, 26), (1, 9, 21, 10, 22, 11, 23, 26), (1, 11, 23, 26), (1, 8, 20, 9, 21, 10, 22, 11, 23, 12, 24, 26), (1, 2, 14, 3, 15, 4, 16, 5, 17, 6, 18, 7, 19, 8, 20, 9, 21, 10, 22, 11, 23, 26), (1, 3, 15, 4, 16, 5, 17, 26), (1, 3, 15, 26), (1, 8, 20, 9, 21, 10, 22, 26), (1, 3, 15, 4, 16, 5, 17, 6, 18, 7, 19, 26), (1, 12, 24, 26), (1, 6, 18, 7, 19, 8, 20, 9, 21, 10, 22, 11, 23, 12, 24, 13, 25, 26), (1, 4, 16, 5, 17, 26), (1, 7, 19, 8, 20, 9, 21, 10, 22, 11, 23, 12, 24, 26), (1, 9, 21, 10, 22, 11, 23, 12, 24, 13, 25, 26), (1, 5, 17, 6, 18, 7, 19, 8, 20, 9, 21, 10, 22, 11, 23, 12, 24, 13, 25, 26), (1, 9, 21, 10, 22, 26)}\n",
            "A best path in Gp is  (1, 7, 19, 26)  of minimum cost  8\n",
            "The min capacity on this path is epsilon  14\n",
            "The min cost is  8\n",
            "(6, 18)  flow =  0\n",
            "(21, 10)  flow =  0\n",
            "(16, 26)  flow =  0\n",
            "(22, 11)  flow =  0\n",
            "(18, 26)  flow =  0\n",
            "(20, 26)  flow =  16\n",
            "(17, 6)  flow =  0\n",
            "(22, 26)  flow =  0\n",
            "(1, 6)  flow =  0\n",
            "(1, 3)  flow =  0\n",
            "(1, 9)  flow =  18\n",
            "(2, 14)  flow =  0\n",
            "(1, 12)  flow =  0\n",
            "(11, 23)  flow =  0\n",
            "(18, 7)  flow =  0\n",
            "(24, 26)  flow =  0\n",
            "(7, 19)  flow =  14\n",
            "(15, 26)  flow =  0\n",
            "(14, 3)  flow =  0\n",
            "(23, 12)  flow =  0\n",
            "(3, 15)  flow =  0\n",
            "(12, 24)  flow =  0\n",
            "(19, 8)  flow =  0\n",
            "(1, 2)  flow =  0\n",
            "(17, 26)  flow =  0\n",
            "(1, 5)  flow =  0\n",
            "(1, 11)  flow =  0\n",
            "(15, 4)  flow =  0\n",
            "(8, 20)  flow =  16\n",
            "(1, 8)  flow =  16\n",
            "(19, 26)  flow =  14\n",
            "(24, 13)  flow =  0\n",
            "(20, 9)  flow =  0\n",
            "(13, 25)  flow =  0\n",
            "(4, 16)  flow =  0\n",
            "(21, 26)  flow =  18\n",
            "(23, 26)  flow =  0\n",
            "(5, 17)  flow =  0\n",
            "(14, 26)  flow =  0\n",
            "(1, 4)  flow =  0\n",
            "(9, 21)  flow =  18\n",
            "(1, 7)  flow =  14\n",
            "(1, 13)  flow =  0\n",
            "(16, 5)  flow =  0\n",
            "(1, 10)  flow =  0\n",
            "(10, 22)  flow =  0\n",
            "(25, 26)  flow =  0\n"
          ]
        }
      ]
    },
    {
      "cell_type": "code",
      "source": [
        "#Fourth Iteration\n",
        "Iterate(G3)"
      ],
      "metadata": {
        "colab": {
          "base_uri": "https://localhost:8080/"
        },
        "id": "AzOrt_-1MCaa",
        "outputId": "02bea1b7-4ce1-4806-8bbd-ccda0e030d13"
      },
      "execution_count": null,
      "outputs": [
        {
          "output_type": "stream",
          "name": "stdout",
          "text": [
            "Incremental Network: {(26, 21), (6, 18), (21, 10), (16, 26), (20, 8), (22, 11), (18, 26), (17, 6), (22, 26), (1, 6), (1, 3), (1, 9), (2, 14), (1, 12), (11, 23), (7, 1), (18, 7), (26, 20), (24, 26), (21, 9), (7, 19), (15, 26), (14, 3), (23, 12), (9, 1), (12, 24), (3, 15), (19, 8), (1, 2), (17, 26), (1, 5), (1, 11), (15, 4), (8, 20), (1, 8), (24, 13), (26, 19), (20, 9), (13, 25), (4, 16), (8, 1), (19, 7), (23, 26), (5, 17), (14, 26), (1, 4), (9, 21), (1, 7), (1, 13), (16, 5), (1, 10), (10, 22), (25, 26)}\n",
            "Paths from source to sink:  {(1, 7, 19, 8, 20, 9, 21, 10, 22, 11, 23, 26), (1, 2, 14, 3, 15, 4, 16, 26), (1, 12, 24, 13, 25, 26), (1, 2, 14, 3, 15, 26), (1, 2, 14, 26), (1, 10, 22, 11, 23, 12, 24, 26), (1, 5, 17, 6, 18, 7, 19, 8, 20, 9, 21, 10, 22, 11, 23, 26), (1, 2, 14, 3, 15, 4, 16, 5, 17, 6, 18, 26), (1, 3, 15, 4, 16, 5, 17, 6, 18, 7, 19, 8, 20, 9, 21, 10, 22, 26), (1, 6, 18, 26), (1, 4, 16, 5, 17, 6, 18, 7, 19, 8, 20, 9, 21, 10, 22, 11, 23, 26), (1, 6, 18, 7, 19, 8, 20, 9, 21, 10, 22, 11, 23, 12, 24, 26), (1, 3, 15, 4, 16, 5, 17, 6, 18, 7, 19, 8, 20, 9, 21, 10, 22, 11, 23, 26), (1, 2, 14, 3, 15, 4, 16, 5, 17, 6, 18, 7, 19, 8, 20, 9, 21, 10, 22, 26), (1, 3, 15, 4, 16, 5, 17, 6, 18, 26), (1, 10, 22, 11, 23, 12, 24, 13, 25, 26), (1, 4, 16, 5, 17, 6, 18, 7, 19, 8, 20, 9, 21, 10, 22, 11, 23, 12, 24, 13, 25, 26), (1, 2, 14, 3, 15, 4, 16, 5, 17, 26), (1, 4, 16, 26), (1, 5, 17, 6, 18, 7, 19, 8, 20, 9, 21, 10, 22, 11, 23, 12, 24, 26), (1, 3, 15, 4, 16, 5, 17, 6, 18, 7, 19, 8, 20, 9, 21, 10, 22, 11, 23, 12, 24, 13, 25, 26), (1, 11, 23, 12, 24, 26), (1, 5, 17, 26), (1, 7, 19, 8, 20, 9, 21, 10, 22, 11, 23, 12, 24, 13, 25, 26), (1, 8, 20, 9, 21, 10, 22, 11, 23, 26), (1, 3, 15, 4, 16, 5, 17, 6, 18, 7, 19, 8, 20, 9, 21, 10, 22, 11, 23, 12, 24, 26), (1, 2, 14, 3, 15, 4, 16, 5, 17, 6, 18, 7, 19, 8, 20, 9, 21, 10, 22, 11, 23, 12, 24, 13, 25, 26), (1, 5, 17, 6, 18, 7, 19, 8, 20, 9, 21, 10, 22, 26), (1, 13, 25, 26), (1, 7, 19, 8, 20, 9, 21, 10, 22, 26), (1, 3, 15, 4, 16, 26), (1, 11, 23, 12, 24, 13, 25, 26), (1, 8, 20, 9, 21, 10, 22, 11, 23, 12, 24, 13, 25, 26), (1, 9, 21, 10, 22, 11, 23, 12, 24, 26), (1, 10, 22, 26), (1, 4, 16, 5, 17, 6, 18, 7, 19, 8, 20, 9, 21, 10, 22, 11, 23, 12, 24, 26), (1, 4, 16, 5, 17, 6, 18, 7, 19, 8, 20, 9, 21, 10, 22, 26), (1, 6, 18, 7, 19, 8, 20, 9, 21, 10, 22, 11, 23, 26), (1, 5, 17, 6, 18, 26), (1, 2, 14, 3, 15, 4, 16, 5, 17, 6, 18, 7, 19, 8, 20, 9, 21, 10, 22, 11, 23, 12, 24, 26), (1, 6, 18, 7, 19, 8, 20, 9, 21, 10, 22, 26), (1, 4, 16, 5, 17, 6, 18, 26), (1, 10, 22, 11, 23, 26), (1, 9, 21, 10, 22, 11, 23, 26), (1, 11, 23, 26), (1, 8, 20, 9, 21, 10, 22, 11, 23, 12, 24, 26), (1, 2, 14, 3, 15, 4, 16, 5, 17, 6, 18, 7, 19, 8, 20, 9, 21, 10, 22, 11, 23, 26), (1, 3, 15, 4, 16, 5, 17, 26), (1, 3, 15, 26), (1, 8, 20, 9, 21, 10, 22, 26), (1, 12, 24, 26), (1, 6, 18, 7, 19, 8, 20, 9, 21, 10, 22, 11, 23, 12, 24, 13, 25, 26), (1, 4, 16, 5, 17, 26), (1, 7, 19, 8, 20, 9, 21, 10, 22, 11, 23, 12, 24, 26), (1, 9, 21, 10, 22, 11, 23, 12, 24, 13, 25, 26), (1, 5, 17, 6, 18, 7, 19, 8, 20, 9, 21, 10, 22, 11, 23, 12, 24, 13, 25, 26), (1, 9, 21, 10, 22, 26)}\n",
            "A best path in Gp is  (1, 10, 22, 26)  of minimum cost  9\n",
            "The min capacity on this path is epsilon  15\n",
            "The min cost is  9\n",
            "(6, 18)  flow =  0\n",
            "(21, 10)  flow =  0\n",
            "(16, 26)  flow =  0\n",
            "(22, 11)  flow =  0\n",
            "(18, 26)  flow =  0\n",
            "(20, 26)  flow =  16\n",
            "(17, 6)  flow =  0\n",
            "(22, 26)  flow =  15\n",
            "(1, 6)  flow =  0\n",
            "(1, 3)  flow =  0\n",
            "(1, 9)  flow =  18\n",
            "(2, 14)  flow =  0\n",
            "(1, 12)  flow =  0\n",
            "(11, 23)  flow =  0\n",
            "(18, 7)  flow =  0\n",
            "(24, 26)  flow =  0\n",
            "(7, 19)  flow =  14\n",
            "(15, 26)  flow =  0\n",
            "(14, 3)  flow =  0\n",
            "(23, 12)  flow =  0\n",
            "(3, 15)  flow =  0\n",
            "(12, 24)  flow =  0\n",
            "(19, 8)  flow =  0\n",
            "(1, 2)  flow =  0\n",
            "(17, 26)  flow =  0\n",
            "(1, 5)  flow =  0\n",
            "(1, 11)  flow =  0\n",
            "(15, 4)  flow =  0\n",
            "(8, 20)  flow =  16\n",
            "(1, 8)  flow =  16\n",
            "(19, 26)  flow =  14\n",
            "(24, 13)  flow =  0\n",
            "(20, 9)  flow =  0\n",
            "(13, 25)  flow =  0\n",
            "(4, 16)  flow =  0\n",
            "(21, 26)  flow =  18\n",
            "(23, 26)  flow =  0\n",
            "(5, 17)  flow =  0\n",
            "(14, 26)  flow =  0\n",
            "(1, 4)  flow =  0\n",
            "(9, 21)  flow =  18\n",
            "(1, 7)  flow =  14\n",
            "(1, 13)  flow =  0\n",
            "(16, 5)  flow =  0\n",
            "(1, 10)  flow =  15\n",
            "(10, 22)  flow =  15\n",
            "(25, 26)  flow =  0\n"
          ]
        }
      ]
    },
    {
      "cell_type": "code",
      "source": [
        "#Fifth Iteration\n",
        "Iterate(G3)"
      ],
      "metadata": {
        "colab": {
          "base_uri": "https://localhost:8080/"
        },
        "id": "VNzjfvUIME3c",
        "outputId": "87bcabd7-f1bb-4e4b-fdd6-b54158742f2d"
      },
      "execution_count": null,
      "outputs": [
        {
          "output_type": "stream",
          "name": "stdout",
          "text": [
            "Incremental Network: {(26, 21), (6, 18), (21, 10), (16, 26), (20, 8), (22, 11), (18, 26), (17, 6), (1, 6), (1, 3), (1, 9), (2, 14), (1, 12), (11, 23), (7, 1), (18, 7), (26, 20), (24, 26), (21, 9), (7, 19), (15, 26), (14, 3), (23, 12), (22, 10), (9, 1), (12, 24), (3, 15), (19, 8), (1, 2), (17, 26), (1, 5), (1, 11), (15, 4), (8, 20), (1, 8), (24, 13), (26, 19), (20, 9), (13, 25), (26, 22), (4, 16), (8, 1), (19, 7), (23, 26), (5, 17), (14, 26), (1, 4), (10, 1), (9, 21), (1, 7), (1, 13), (16, 5), (1, 10), (10, 22), (25, 26)}\n",
            "Paths from source to sink:  {(1, 7, 19, 8, 20, 9, 21, 10, 22, 11, 23, 26), (1, 2, 14, 3, 15, 4, 16, 26), (1, 12, 24, 13, 25, 26), (1, 2, 14, 3, 15, 26), (1, 2, 14, 26), (1, 10, 22, 11, 23, 12, 24, 26), (1, 5, 17, 6, 18, 7, 19, 8, 20, 9, 21, 10, 22, 11, 23, 26), (1, 2, 14, 3, 15, 4, 16, 5, 17, 6, 18, 26), (1, 6, 18, 26), (1, 4, 16, 5, 17, 6, 18, 7, 19, 8, 20, 9, 21, 10, 22, 11, 23, 26), (1, 6, 18, 7, 19, 8, 20, 9, 21, 10, 22, 11, 23, 12, 24, 26), (1, 3, 15, 4, 16, 5, 17, 6, 18, 7, 19, 8, 20, 9, 21, 10, 22, 11, 23, 26), (1, 3, 15, 4, 16, 5, 17, 6, 18, 26), (1, 10, 22, 11, 23, 12, 24, 13, 25, 26), (1, 4, 16, 5, 17, 6, 18, 7, 19, 8, 20, 9, 21, 10, 22, 11, 23, 12, 24, 13, 25, 26), (1, 2, 14, 3, 15, 4, 16, 5, 17, 26), (1, 4, 16, 26), (1, 5, 17, 6, 18, 7, 19, 8, 20, 9, 21, 10, 22, 11, 23, 12, 24, 26), (1, 3, 15, 4, 16, 5, 17, 6, 18, 7, 19, 8, 20, 9, 21, 10, 22, 11, 23, 12, 24, 13, 25, 26), (1, 11, 23, 12, 24, 26), (1, 5, 17, 26), (1, 7, 19, 8, 20, 9, 21, 10, 22, 11, 23, 12, 24, 13, 25, 26), (1, 8, 20, 9, 21, 10, 22, 11, 23, 26), (1, 3, 15, 4, 16, 5, 17, 6, 18, 7, 19, 8, 20, 9, 21, 10, 22, 11, 23, 12, 24, 26), (1, 2, 14, 3, 15, 4, 16, 5, 17, 6, 18, 7, 19, 8, 20, 9, 21, 10, 22, 11, 23, 12, 24, 13, 25, 26), (1, 13, 25, 26), (1, 3, 15, 4, 16, 26), (1, 11, 23, 12, 24, 13, 25, 26), (1, 8, 20, 9, 21, 10, 22, 11, 23, 12, 24, 13, 25, 26), (1, 9, 21, 10, 22, 11, 23, 12, 24, 26), (1, 4, 16, 5, 17, 6, 18, 7, 19, 8, 20, 9, 21, 10, 22, 11, 23, 12, 24, 26), (1, 6, 18, 7, 19, 8, 20, 9, 21, 10, 22, 11, 23, 26), (1, 5, 17, 6, 18, 26), (1, 2, 14, 3, 15, 4, 16, 5, 17, 6, 18, 7, 19, 8, 20, 9, 21, 10, 22, 11, 23, 12, 24, 26), (1, 4, 16, 5, 17, 6, 18, 26), (1, 10, 22, 11, 23, 26), (1, 9, 21, 10, 22, 11, 23, 26), (1, 11, 23, 26), (1, 8, 20, 9, 21, 10, 22, 11, 23, 12, 24, 26), (1, 2, 14, 3, 15, 4, 16, 5, 17, 6, 18, 7, 19, 8, 20, 9, 21, 10, 22, 11, 23, 26), (1, 3, 15, 4, 16, 5, 17, 26), (1, 3, 15, 26), (1, 12, 24, 26), (1, 6, 18, 7, 19, 8, 20, 9, 21, 10, 22, 11, 23, 12, 24, 13, 25, 26), (1, 4, 16, 5, 17, 26), (1, 7, 19, 8, 20, 9, 21, 10, 22, 11, 23, 12, 24, 26), (1, 9, 21, 10, 22, 11, 23, 12, 24, 13, 25, 26), (1, 5, 17, 6, 18, 7, 19, 8, 20, 9, 21, 10, 22, 11, 23, 12, 24, 13, 25, 26)}\n",
            "A best path in Gp is  (1, 6, 18, 26)  of minimum cost  12\n",
            "The min capacity on this path is epsilon  11\n",
            "The min cost is  12\n",
            "(6, 18)  flow =  11\n",
            "(21, 10)  flow =  0\n",
            "(16, 26)  flow =  0\n",
            "(22, 11)  flow =  0\n",
            "(18, 26)  flow =  11\n",
            "(20, 26)  flow =  16\n",
            "(17, 6)  flow =  0\n",
            "(22, 26)  flow =  15\n",
            "(1, 6)  flow =  11\n",
            "(1, 3)  flow =  0\n",
            "(1, 9)  flow =  18\n",
            "(2, 14)  flow =  0\n",
            "(1, 12)  flow =  0\n",
            "(11, 23)  flow =  0\n",
            "(18, 7)  flow =  0\n",
            "(24, 26)  flow =  0\n",
            "(7, 19)  flow =  14\n",
            "(15, 26)  flow =  0\n",
            "(14, 3)  flow =  0\n",
            "(23, 12)  flow =  0\n",
            "(3, 15)  flow =  0\n",
            "(12, 24)  flow =  0\n",
            "(19, 8)  flow =  0\n",
            "(1, 2)  flow =  0\n",
            "(17, 26)  flow =  0\n",
            "(1, 5)  flow =  0\n",
            "(1, 11)  flow =  0\n",
            "(15, 4)  flow =  0\n",
            "(8, 20)  flow =  16\n",
            "(1, 8)  flow =  16\n",
            "(19, 26)  flow =  14\n",
            "(24, 13)  flow =  0\n",
            "(20, 9)  flow =  0\n",
            "(13, 25)  flow =  0\n",
            "(4, 16)  flow =  0\n",
            "(21, 26)  flow =  18\n",
            "(23, 26)  flow =  0\n",
            "(5, 17)  flow =  0\n",
            "(14, 26)  flow =  0\n",
            "(1, 4)  flow =  0\n",
            "(9, 21)  flow =  18\n",
            "(1, 7)  flow =  14\n",
            "(1, 13)  flow =  0\n",
            "(16, 5)  flow =  0\n",
            "(1, 10)  flow =  15\n",
            "(10, 22)  flow =  15\n",
            "(25, 26)  flow =  0\n"
          ]
        }
      ]
    },
    {
      "cell_type": "code",
      "source": [
        "#Sixth Iteration\n",
        "Iterate(G3)"
      ],
      "metadata": {
        "colab": {
          "base_uri": "https://localhost:8080/"
        },
        "id": "O98rhzTyMF88",
        "outputId": "7be5547b-7426-4bb9-b89d-2cf7ea844727"
      },
      "execution_count": null,
      "outputs": [
        {
          "output_type": "stream",
          "name": "stdout",
          "text": [
            "Incremental Network: {(26, 21), (6, 18), (16, 26), (21, 10), (20, 8), (22, 11), (17, 6), (1, 6), (1, 3), (1, 9), (2, 14), (1, 12), (11, 23), (7, 1), (18, 7), (26, 20), (24, 26), (21, 9), (7, 19), (15, 26), (14, 3), (23, 12), (22, 10), (9, 1), (12, 24), (3, 15), (19, 8), (1, 2), (17, 26), (1, 5), (1, 11), (6, 1), (15, 4), (8, 20), (1, 8), (24, 13), (18, 6), (26, 19), (20, 9), (13, 25), (26, 22), (4, 16), (8, 1), (19, 7), (23, 26), (5, 17), (14, 26), (1, 4), (10, 1), (9, 21), (1, 7), (1, 13), (16, 5), (1, 10), (10, 22), (26, 18), (25, 26)}\n",
            "Paths from source to sink:  {(1, 7, 19, 8, 20, 9, 21, 10, 22, 11, 23, 26), (1, 2, 14, 3, 15, 4, 16, 26), (1, 12, 24, 13, 25, 26), (1, 2, 14, 3, 15, 26), (1, 2, 14, 26), (1, 10, 22, 11, 23, 12, 24, 26), (1, 5, 17, 6, 18, 7, 19, 8, 20, 9, 21, 10, 22, 11, 23, 26), (1, 4, 16, 5, 17, 6, 18, 7, 19, 8, 20, 9, 21, 10, 22, 11, 23, 26), (1, 6, 18, 7, 19, 8, 20, 9, 21, 10, 22, 11, 23, 12, 24, 26), (1, 3, 15, 4, 16, 5, 17, 6, 18, 7, 19, 8, 20, 9, 21, 10, 22, 11, 23, 26), (1, 10, 22, 11, 23, 12, 24, 13, 25, 26), (1, 4, 16, 5, 17, 6, 18, 7, 19, 8, 20, 9, 21, 10, 22, 11, 23, 12, 24, 13, 25, 26), (1, 2, 14, 3, 15, 4, 16, 5, 17, 26), (1, 4, 16, 26), (1, 5, 17, 6, 18, 7, 19, 8, 20, 9, 21, 10, 22, 11, 23, 12, 24, 26), (1, 3, 15, 4, 16, 5, 17, 6, 18, 7, 19, 8, 20, 9, 21, 10, 22, 11, 23, 12, 24, 13, 25, 26), (1, 11, 23, 12, 24, 26), (1, 5, 17, 26), (1, 7, 19, 8, 20, 9, 21, 10, 22, 11, 23, 12, 24, 13, 25, 26), (1, 8, 20, 9, 21, 10, 22, 11, 23, 26), (1, 3, 15, 4, 16, 5, 17, 6, 18, 7, 19, 8, 20, 9, 21, 10, 22, 11, 23, 12, 24, 26), (1, 2, 14, 3, 15, 4, 16, 5, 17, 6, 18, 7, 19, 8, 20, 9, 21, 10, 22, 11, 23, 12, 24, 13, 25, 26), (1, 13, 25, 26), (1, 3, 15, 4, 16, 26), (1, 11, 23, 12, 24, 13, 25, 26), (1, 8, 20, 9, 21, 10, 22, 11, 23, 12, 24, 13, 25, 26), (1, 9, 21, 10, 22, 11, 23, 12, 24, 26), (1, 4, 16, 5, 17, 6, 18, 7, 19, 8, 20, 9, 21, 10, 22, 11, 23, 12, 24, 26), (1, 6, 18, 7, 19, 8, 20, 9, 21, 10, 22, 11, 23, 26), (1, 2, 14, 3, 15, 4, 16, 5, 17, 6, 18, 7, 19, 8, 20, 9, 21, 10, 22, 11, 23, 12, 24, 26), (1, 10, 22, 11, 23, 26), (1, 9, 21, 10, 22, 11, 23, 26), (1, 11, 23, 26), (1, 8, 20, 9, 21, 10, 22, 11, 23, 12, 24, 26), (1, 2, 14, 3, 15, 4, 16, 5, 17, 6, 18, 7, 19, 8, 20, 9, 21, 10, 22, 11, 23, 26), (1, 3, 15, 4, 16, 5, 17, 26), (1, 3, 15, 26), (1, 12, 24, 26), (1, 6, 18, 7, 19, 8, 20, 9, 21, 10, 22, 11, 23, 12, 24, 13, 25, 26), (1, 4, 16, 5, 17, 26), (1, 7, 19, 8, 20, 9, 21, 10, 22, 11, 23, 12, 24, 26), (1, 9, 21, 10, 22, 11, 23, 12, 24, 13, 25, 26), (1, 5, 17, 6, 18, 7, 19, 8, 20, 9, 21, 10, 22, 11, 23, 12, 24, 13, 25, 26)}\n",
            "A best path in Gp is  (1, 11, 23, 26)  of minimum cost  12\n",
            "The min capacity on this path is epsilon  10\n",
            "The min cost is  12\n",
            "(6, 18)  flow =  11\n",
            "(21, 10)  flow =  0\n",
            "(16, 26)  flow =  0\n",
            "(22, 11)  flow =  0\n",
            "(18, 26)  flow =  11\n",
            "(20, 26)  flow =  16\n",
            "(17, 6)  flow =  0\n",
            "(22, 26)  flow =  15\n",
            "(1, 6)  flow =  11\n",
            "(1, 3)  flow =  0\n",
            "(1, 9)  flow =  18\n",
            "(2, 14)  flow =  0\n",
            "(1, 12)  flow =  0\n",
            "(11, 23)  flow =  10\n",
            "(18, 7)  flow =  0\n",
            "(24, 26)  flow =  0\n",
            "(7, 19)  flow =  14\n",
            "(15, 26)  flow =  0\n",
            "(14, 3)  flow =  0\n",
            "(23, 12)  flow =  0\n",
            "(3, 15)  flow =  0\n",
            "(12, 24)  flow =  0\n",
            "(19, 8)  flow =  0\n",
            "(1, 2)  flow =  0\n",
            "(17, 26)  flow =  0\n",
            "(1, 5)  flow =  0\n",
            "(1, 11)  flow =  10\n",
            "(15, 4)  flow =  0\n",
            "(8, 20)  flow =  16\n",
            "(1, 8)  flow =  16\n",
            "(19, 26)  flow =  14\n",
            "(24, 13)  flow =  0\n",
            "(20, 9)  flow =  0\n",
            "(13, 25)  flow =  0\n",
            "(4, 16)  flow =  0\n",
            "(21, 26)  flow =  18\n",
            "(23, 26)  flow =  10\n",
            "(5, 17)  flow =  0\n",
            "(14, 26)  flow =  0\n",
            "(1, 4)  flow =  0\n",
            "(9, 21)  flow =  18\n",
            "(1, 7)  flow =  14\n",
            "(1, 13)  flow =  0\n",
            "(16, 5)  flow =  0\n",
            "(1, 10)  flow =  15\n",
            "(10, 22)  flow =  15\n",
            "(25, 26)  flow =  0\n"
          ]
        }
      ]
    },
    {
      "cell_type": "code",
      "source": [
        "#Seventh Iteration\n",
        "Iterate(G3)"
      ],
      "metadata": {
        "colab": {
          "base_uri": "https://localhost:8080/"
        },
        "id": "rrjxbi2qMG5B",
        "outputId": "30cd8676-2e6a-448b-beeb-9b3c59702458"
      },
      "execution_count": null,
      "outputs": [
        {
          "output_type": "stream",
          "name": "stdout",
          "text": [
            "Incremental Network: {(26, 21), (6, 18), (16, 26), (21, 10), (20, 8), (22, 11), (17, 6), (1, 6), (1, 3), (1, 9), (2, 14), (1, 12), (11, 23), (7, 1), (18, 7), (26, 20), (24, 26), (26, 23), (21, 9), (7, 19), (15, 26), (14, 3), (23, 12), (22, 10), (9, 1), (12, 24), (3, 15), (11, 1), (19, 8), (1, 2), (17, 26), (1, 5), (1, 11), (6, 1), (15, 4), (8, 20), (1, 8), (24, 13), (18, 6), (26, 19), (20, 9), (13, 25), (26, 22), (23, 11), (4, 16), (8, 1), (19, 7), (5, 17), (14, 26), (1, 4), (10, 1), (9, 21), (1, 7), (1, 13), (16, 5), (1, 10), (10, 22), (26, 18), (25, 26)}\n",
            "Paths from source to sink:  {(1, 2, 14, 3, 15, 4, 16, 26), (1, 12, 24, 13, 25, 26), (1, 2, 14, 3, 15, 26), (1, 2, 14, 26), (1, 10, 22, 11, 23, 12, 24, 26), (1, 6, 18, 7, 19, 8, 20, 9, 21, 10, 22, 11, 23, 12, 24, 26), (1, 10, 22, 11, 23, 12, 24, 13, 25, 26), (1, 4, 16, 5, 17, 6, 18, 7, 19, 8, 20, 9, 21, 10, 22, 11, 23, 12, 24, 13, 25, 26), (1, 2, 14, 3, 15, 4, 16, 5, 17, 26), (1, 4, 16, 26), (1, 5, 17, 6, 18, 7, 19, 8, 20, 9, 21, 10, 22, 11, 23, 12, 24, 26), (1, 3, 15, 4, 16, 5, 17, 6, 18, 7, 19, 8, 20, 9, 21, 10, 22, 11, 23, 12, 24, 13, 25, 26), (1, 11, 23, 12, 24, 26), (1, 5, 17, 26), (1, 7, 19, 8, 20, 9, 21, 10, 22, 11, 23, 12, 24, 13, 25, 26), (1, 3, 15, 4, 16, 5, 17, 6, 18, 7, 19, 8, 20, 9, 21, 10, 22, 11, 23, 12, 24, 26), (1, 2, 14, 3, 15, 4, 16, 5, 17, 6, 18, 7, 19, 8, 20, 9, 21, 10, 22, 11, 23, 12, 24, 13, 25, 26), (1, 13, 25, 26), (1, 3, 15, 4, 16, 26), (1, 11, 23, 12, 24, 13, 25, 26), (1, 8, 20, 9, 21, 10, 22, 11, 23, 12, 24, 13, 25, 26), (1, 9, 21, 10, 22, 11, 23, 12, 24, 26), (1, 4, 16, 5, 17, 6, 18, 7, 19, 8, 20, 9, 21, 10, 22, 11, 23, 12, 24, 26), (1, 2, 14, 3, 15, 4, 16, 5, 17, 6, 18, 7, 19, 8, 20, 9, 21, 10, 22, 11, 23, 12, 24, 26), (1, 8, 20, 9, 21, 10, 22, 11, 23, 12, 24, 26), (1, 3, 15, 4, 16, 5, 17, 26), (1, 3, 15, 26), (1, 12, 24, 26), (1, 6, 18, 7, 19, 8, 20, 9, 21, 10, 22, 11, 23, 12, 24, 13, 25, 26), (1, 4, 16, 5, 17, 26), (1, 7, 19, 8, 20, 9, 21, 10, 22, 11, 23, 12, 24, 26), (1, 9, 21, 10, 22, 11, 23, 12, 24, 13, 25, 26), (1, 5, 17, 6, 18, 7, 19, 8, 20, 9, 21, 10, 22, 11, 23, 12, 24, 13, 25, 26)}\n",
            "A best path in Gp is  (1, 12, 24, 26)  of minimum cost  14\n",
            "The min capacity on this path is epsilon  7\n",
            "The min cost is  14\n",
            "(6, 18)  flow =  11\n",
            "(21, 10)  flow =  0\n",
            "(16, 26)  flow =  0\n",
            "(22, 11)  flow =  0\n",
            "(18, 26)  flow =  11\n",
            "(20, 26)  flow =  16\n",
            "(17, 6)  flow =  0\n",
            "(22, 26)  flow =  15\n",
            "(1, 6)  flow =  11\n",
            "(1, 3)  flow =  0\n",
            "(1, 9)  flow =  18\n",
            "(2, 14)  flow =  0\n",
            "(1, 12)  flow =  7\n",
            "(11, 23)  flow =  10\n",
            "(18, 7)  flow =  0\n",
            "(24, 26)  flow =  7\n",
            "(7, 19)  flow =  14\n",
            "(15, 26)  flow =  0\n",
            "(14, 3)  flow =  0\n",
            "(23, 12)  flow =  0\n",
            "(3, 15)  flow =  0\n",
            "(12, 24)  flow =  7\n",
            "(19, 8)  flow =  0\n",
            "(1, 2)  flow =  0\n",
            "(17, 26)  flow =  0\n",
            "(1, 5)  flow =  0\n",
            "(1, 11)  flow =  10\n",
            "(15, 4)  flow =  0\n",
            "(8, 20)  flow =  16\n",
            "(1, 8)  flow =  16\n",
            "(19, 26)  flow =  14\n",
            "(24, 13)  flow =  0\n",
            "(20, 9)  flow =  0\n",
            "(13, 25)  flow =  0\n",
            "(4, 16)  flow =  0\n",
            "(21, 26)  flow =  18\n",
            "(23, 26)  flow =  10\n",
            "(5, 17)  flow =  0\n",
            "(14, 26)  flow =  0\n",
            "(1, 4)  flow =  0\n",
            "(9, 21)  flow =  18\n",
            "(1, 7)  flow =  14\n",
            "(1, 13)  flow =  0\n",
            "(16, 5)  flow =  0\n",
            "(1, 10)  flow =  15\n",
            "(10, 22)  flow =  15\n",
            "(25, 26)  flow =  0\n"
          ]
        }
      ]
    },
    {
      "cell_type": "code",
      "source": [
        "#Eigth iteration\n",
        "Iterate(G3)"
      ],
      "metadata": {
        "colab": {
          "base_uri": "https://localhost:8080/"
        },
        "id": "wlixPikLMIS-",
        "outputId": "d86cff49-c78e-4e6a-e354-4334d3f02724"
      },
      "execution_count": null,
      "outputs": [
        {
          "output_type": "stream",
          "name": "stdout",
          "text": [
            "Incremental Network: {(26, 21), (6, 18), (16, 26), (21, 10), (12, 1), (22, 11), (26, 24), (20, 8), (17, 6), (1, 6), (1, 3), (1, 9), (2, 14), (1, 12), (11, 23), (7, 1), (18, 7), (26, 20), (21, 9), (26, 23), (7, 19), (15, 26), (14, 3), (23, 12), (22, 10), (9, 1), (12, 24), (3, 15), (11, 1), (19, 8), (1, 2), (17, 26), (1, 5), (1, 11), (6, 1), (15, 4), (8, 20), (1, 8), (24, 13), (18, 6), (26, 19), (20, 9), (13, 25), (26, 22), (23, 11), (4, 16), (8, 1), (19, 7), (5, 17), (14, 26), (1, 4), (10, 1), (9, 21), (1, 7), (1, 13), (16, 5), (24, 12), (1, 10), (10, 22), (26, 18), (25, 26)}\n",
            "Paths from source to sink:  {(1, 2, 14, 3, 15, 4, 16, 26), (1, 12, 24, 13, 25, 26), (1, 11, 23, 12, 24, 13, 25, 26), (1, 2, 14, 3, 15, 26), (1, 2, 14, 26), (1, 10, 22, 11, 23, 12, 24, 13, 25, 26), (1, 4, 16, 5, 17, 6, 18, 7, 19, 8, 20, 9, 21, 10, 22, 11, 23, 12, 24, 13, 25, 26), (1, 2, 14, 3, 15, 4, 16, 5, 17, 26), (1, 4, 16, 26), (1, 3, 15, 4, 16, 5, 17, 26), (1, 3, 15, 26), (1, 3, 15, 4, 16, 5, 17, 6, 18, 7, 19, 8, 20, 9, 21, 10, 22, 11, 23, 12, 24, 13, 25, 26), (1, 5, 17, 26), (1, 7, 19, 8, 20, 9, 21, 10, 22, 11, 23, 12, 24, 13, 25, 26), (1, 6, 18, 7, 19, 8, 20, 9, 21, 10, 22, 11, 23, 12, 24, 13, 25, 26), (1, 4, 16, 5, 17, 26), (1, 2, 14, 3, 15, 4, 16, 5, 17, 6, 18, 7, 19, 8, 20, 9, 21, 10, 22, 11, 23, 12, 24, 13, 25, 26), (1, 13, 25, 26), (1, 3, 15, 4, 16, 26), (1, 9, 21, 10, 22, 11, 23, 12, 24, 13, 25, 26), (1, 5, 17, 6, 18, 7, 19, 8, 20, 9, 21, 10, 22, 11, 23, 12, 24, 13, 25, 26), (1, 8, 20, 9, 21, 10, 22, 11, 23, 12, 24, 13, 25, 26)}\n",
            "A best path in Gp is  (1, 5, 17, 26)  of minimum cost  15\n",
            "The min capacity on this path is epsilon  7\n",
            "The min cost is  15\n",
            "(6, 18)  flow =  11\n",
            "(21, 10)  flow =  0\n",
            "(16, 26)  flow =  0\n",
            "(22, 11)  flow =  0\n",
            "(18, 26)  flow =  11\n",
            "(20, 26)  flow =  16\n",
            "(17, 6)  flow =  0\n",
            "(22, 26)  flow =  15\n",
            "(1, 6)  flow =  11\n",
            "(1, 3)  flow =  0\n",
            "(1, 9)  flow =  18\n",
            "(2, 14)  flow =  0\n",
            "(1, 12)  flow =  7\n",
            "(11, 23)  flow =  10\n",
            "(18, 7)  flow =  0\n",
            "(24, 26)  flow =  7\n",
            "(7, 19)  flow =  14\n",
            "(15, 26)  flow =  0\n",
            "(14, 3)  flow =  0\n",
            "(23, 12)  flow =  0\n",
            "(3, 15)  flow =  0\n",
            "(12, 24)  flow =  7\n",
            "(19, 8)  flow =  0\n",
            "(1, 2)  flow =  0\n",
            "(17, 26)  flow =  7\n",
            "(1, 5)  flow =  7\n",
            "(1, 11)  flow =  10\n",
            "(15, 4)  flow =  0\n",
            "(8, 20)  flow =  16\n",
            "(1, 8)  flow =  16\n",
            "(19, 26)  flow =  14\n",
            "(24, 13)  flow =  0\n",
            "(20, 9)  flow =  0\n",
            "(13, 25)  flow =  0\n",
            "(4, 16)  flow =  0\n",
            "(21, 26)  flow =  18\n",
            "(23, 26)  flow =  10\n",
            "(5, 17)  flow =  7\n",
            "(14, 26)  flow =  0\n",
            "(1, 4)  flow =  0\n",
            "(9, 21)  flow =  18\n",
            "(1, 7)  flow =  14\n",
            "(1, 13)  flow =  0\n",
            "(16, 5)  flow =  0\n",
            "(1, 10)  flow =  15\n",
            "(10, 22)  flow =  15\n",
            "(25, 26)  flow =  0\n"
          ]
        }
      ]
    },
    {
      "cell_type": "code",
      "source": [
        "#Ninth Iteration\n",
        "Iterate(G3)"
      ],
      "metadata": {
        "colab": {
          "base_uri": "https://localhost:8080/"
        },
        "id": "SZQgD8ncMKg_",
        "outputId": "4dcc677f-6fa3-49ee-90dd-763b35a07f2b"
      },
      "execution_count": null,
      "outputs": [
        {
          "output_type": "stream",
          "name": "stdout",
          "text": [
            "Incremental Network: {(26, 21), (6, 18), (16, 26), (21, 10), (12, 1), (22, 11), (26, 24), (20, 8), (5, 1), (17, 6), (1, 6), (1, 3), (1, 9), (2, 14), (1, 12), (11, 23), (7, 1), (18, 7), (26, 20), (26, 17), (26, 23), (21, 9), (7, 19), (15, 26), (14, 3), (23, 12), (22, 10), (17, 5), (9, 1), (12, 24), (3, 15), (11, 1), (19, 8), (1, 2), (1, 5), (1, 11), (6, 1), (15, 4), (8, 20), (1, 8), (24, 13), (18, 6), (26, 19), (20, 9), (13, 25), (26, 22), (23, 11), (4, 16), (8, 1), (19, 7), (5, 17), (14, 26), (1, 4), (10, 1), (9, 21), (1, 7), (1, 13), (16, 5), (24, 12), (1, 10), (10, 22), (26, 18), (25, 26)}\n",
            "Paths from source to sink:  {(1, 2, 14, 3, 15, 4, 16, 26), (1, 12, 24, 13, 25, 26), (1, 11, 23, 12, 24, 13, 25, 26), (1, 2, 14, 3, 15, 26), (1, 2, 14, 26), (1, 10, 22, 11, 23, 12, 24, 13, 25, 26), (1, 4, 16, 5, 17, 6, 18, 7, 19, 8, 20, 9, 21, 10, 22, 11, 23, 12, 24, 13, 25, 26), (1, 4, 16, 26), (1, 3, 15, 26), (1, 3, 15, 4, 16, 5, 17, 6, 18, 7, 19, 8, 20, 9, 21, 10, 22, 11, 23, 12, 24, 13, 25, 26), (1, 7, 19, 8, 20, 9, 21, 10, 22, 11, 23, 12, 24, 13, 25, 26), (1, 6, 18, 7, 19, 8, 20, 9, 21, 10, 22, 11, 23, 12, 24, 13, 25, 26), (1, 2, 14, 3, 15, 4, 16, 5, 17, 6, 18, 7, 19, 8, 20, 9, 21, 10, 22, 11, 23, 12, 24, 13, 25, 26), (1, 13, 25, 26), (1, 3, 15, 4, 16, 26), (1, 9, 21, 10, 22, 11, 23, 12, 24, 13, 25, 26), (1, 5, 17, 6, 18, 7, 19, 8, 20, 9, 21, 10, 22, 11, 23, 12, 24, 13, 25, 26), (1, 8, 20, 9, 21, 10, 22, 11, 23, 12, 24, 13, 25, 26)}\n",
            "A best path in Gp is  (1, 12, 24, 13, 25, 26)  of minimum cost  16\n",
            "The min capacity on this path is epsilon  6\n",
            "The min cost is  16\n",
            "(6, 18)  flow =  11\n",
            "(21, 10)  flow =  0\n",
            "(16, 26)  flow =  0\n",
            "(22, 11)  flow =  0\n",
            "(18, 26)  flow =  11\n",
            "(20, 26)  flow =  16\n",
            "(17, 6)  flow =  0\n",
            "(22, 26)  flow =  15\n",
            "(1, 6)  flow =  11\n",
            "(1, 3)  flow =  0\n",
            "(1, 9)  flow =  18\n",
            "(2, 14)  flow =  0\n",
            "(1, 12)  flow =  13\n",
            "(11, 23)  flow =  10\n",
            "(18, 7)  flow =  0\n",
            "(24, 26)  flow =  7\n",
            "(7, 19)  flow =  14\n",
            "(15, 26)  flow =  0\n",
            "(14, 3)  flow =  0\n",
            "(23, 12)  flow =  0\n",
            "(3, 15)  flow =  0\n",
            "(12, 24)  flow =  13\n",
            "(19, 8)  flow =  0\n",
            "(1, 2)  flow =  0\n",
            "(17, 26)  flow =  7\n",
            "(1, 5)  flow =  7\n",
            "(1, 11)  flow =  10\n",
            "(15, 4)  flow =  0\n",
            "(8, 20)  flow =  16\n",
            "(1, 8)  flow =  16\n",
            "(19, 26)  flow =  14\n",
            "(24, 13)  flow =  6\n",
            "(20, 9)  flow =  0\n",
            "(13, 25)  flow =  6\n",
            "(4, 16)  flow =  0\n",
            "(21, 26)  flow =  18\n",
            "(23, 26)  flow =  10\n",
            "(5, 17)  flow =  7\n",
            "(14, 26)  flow =  0\n",
            "(1, 4)  flow =  0\n",
            "(9, 21)  flow =  18\n",
            "(1, 7)  flow =  14\n",
            "(1, 13)  flow =  0\n",
            "(16, 5)  flow =  0\n",
            "(1, 10)  flow =  15\n",
            "(10, 22)  flow =  15\n",
            "(25, 26)  flow =  6\n"
          ]
        }
      ]
    },
    {
      "cell_type": "code",
      "source": [
        "#Tenth Iteration\n",
        "Iterate(G3)"
      ],
      "metadata": {
        "colab": {
          "base_uri": "https://localhost:8080/"
        },
        "id": "E_sy2dJVML5K",
        "outputId": "7555af48-aa8c-46a4-b4a2-6051d13d0261"
      },
      "execution_count": null,
      "outputs": [
        {
          "output_type": "stream",
          "name": "stdout",
          "text": [
            "Incremental Network: {(26, 21), (6, 18), (12, 1), (22, 11), (5, 1), (1, 9), (11, 23), (7, 1), (21, 9), (26, 23), (7, 19), (23, 12), (22, 10), (17, 5), (9, 1), (3, 15), (19, 8), (1, 2), (1, 11), (1, 8), (20, 9), (26, 25), (13, 25), (26, 22), (8, 1), (14, 26), (1, 4), (9, 21), (1, 13), (24, 12), (1, 10), (10, 22), (26, 18), (16, 26), (21, 10), (26, 24), (20, 8), (17, 6), (1, 6), (1, 3), (2, 14), (1, 12), (25, 13), (18, 7), (26, 20), (26, 17), (15, 26), (14, 3), (12, 24), (11, 1), (1, 5), (15, 4), (6, 1), (8, 20), (24, 13), (18, 6), (26, 19), (23, 11), (4, 16), (19, 7), (5, 17), (10, 1), (1, 7), (16, 5), (13, 24)}\n",
            "Paths from source to sink:  {(1, 4, 16, 26), (1, 2, 14, 3, 15, 4, 16, 26), (1, 2, 14, 3, 15, 26), (1, 2, 14, 26), (1, 3, 15, 26), (1, 3, 15, 4, 16, 26)}\n",
            "A best path in Gp is  (1, 4, 16, 26)  of minimum cost  17\n",
            "The min capacity on this path is epsilon  6\n",
            "The min cost is  17\n",
            "(6, 18)  flow =  11\n",
            "(21, 10)  flow =  0\n",
            "(16, 26)  flow =  6\n",
            "(22, 11)  flow =  0\n",
            "(18, 26)  flow =  11\n",
            "(20, 26)  flow =  16\n",
            "(17, 6)  flow =  0\n",
            "(22, 26)  flow =  15\n",
            "(1, 6)  flow =  11\n",
            "(1, 3)  flow =  0\n",
            "(1, 9)  flow =  18\n",
            "(2, 14)  flow =  0\n",
            "(1, 12)  flow =  13\n",
            "(11, 23)  flow =  10\n",
            "(18, 7)  flow =  0\n",
            "(24, 26)  flow =  7\n",
            "(7, 19)  flow =  14\n",
            "(15, 26)  flow =  0\n",
            "(14, 3)  flow =  0\n",
            "(23, 12)  flow =  0\n",
            "(3, 15)  flow =  0\n",
            "(12, 24)  flow =  13\n",
            "(19, 8)  flow =  0\n",
            "(1, 2)  flow =  0\n",
            "(17, 26)  flow =  7\n",
            "(1, 5)  flow =  7\n",
            "(1, 11)  flow =  10\n",
            "(15, 4)  flow =  0\n",
            "(8, 20)  flow =  16\n",
            "(1, 8)  flow =  16\n",
            "(19, 26)  flow =  14\n",
            "(24, 13)  flow =  6\n",
            "(20, 9)  flow =  0\n",
            "(13, 25)  flow =  6\n",
            "(4, 16)  flow =  6\n",
            "(21, 26)  flow =  18\n",
            "(23, 26)  flow =  10\n",
            "(5, 17)  flow =  7\n",
            "(14, 26)  flow =  0\n",
            "(1, 4)  flow =  6\n",
            "(9, 21)  flow =  18\n",
            "(1, 7)  flow =  14\n",
            "(1, 13)  flow =  0\n",
            "(16, 5)  flow =  0\n",
            "(1, 10)  flow =  15\n",
            "(10, 22)  flow =  15\n",
            "(25, 26)  flow =  6\n"
          ]
        }
      ]
    },
    {
      "cell_type": "code",
      "source": [
        "#Eleventh Iteration\n",
        "Iterate(G3)"
      ],
      "metadata": {
        "colab": {
          "base_uri": "https://localhost:8080/"
        },
        "id": "HA42G-znMM55",
        "outputId": "b4b73932-9a9f-4a57-ed0b-3240ccffbe72"
      },
      "execution_count": null,
      "outputs": [
        {
          "output_type": "stream",
          "name": "stdout",
          "text": [
            "Incremental Network: {(26, 21), (6, 18), (12, 1), (22, 11), (5, 1), (1, 9), (11, 23), (7, 1), (21, 9), (26, 23), (7, 19), (23, 12), (22, 10), (17, 5), (9, 1), (3, 15), (19, 8), (1, 2), (1, 11), (1, 8), (26, 16), (20, 9), (26, 25), (13, 25), (26, 22), (4, 1), (8, 1), (14, 26), (1, 4), (9, 21), (1, 13), (24, 12), (1, 10), (10, 22), (26, 18), (21, 10), (26, 24), (20, 8), (17, 6), (1, 6), (1, 3), (16, 4), (2, 14), (1, 12), (25, 13), (18, 7), (26, 20), (26, 17), (15, 26), (14, 3), (12, 24), (11, 1), (1, 5), (15, 4), (6, 1), (8, 20), (24, 13), (18, 6), (26, 19), (23, 11), (4, 16), (19, 7), (5, 17), (10, 1), (1, 7), (16, 5), (13, 24)}\n",
            "Paths from source to sink:  {(1, 2, 14, 26), (1, 3, 15, 26), (1, 2, 14, 3, 15, 26)}\n",
            "A best path in Gp is  (1, 3, 15, 26)  of minimum cost  17\n",
            "The min capacity on this path is epsilon  6\n",
            "The min cost is  17\n",
            "(6, 18)  flow =  11\n",
            "(21, 10)  flow =  0\n",
            "(16, 26)  flow =  6\n",
            "(22, 11)  flow =  0\n",
            "(18, 26)  flow =  11\n",
            "(20, 26)  flow =  16\n",
            "(17, 6)  flow =  0\n",
            "(22, 26)  flow =  15\n",
            "(1, 6)  flow =  11\n",
            "(1, 3)  flow =  6\n",
            "(1, 9)  flow =  18\n",
            "(2, 14)  flow =  0\n",
            "(1, 12)  flow =  13\n",
            "(11, 23)  flow =  10\n",
            "(18, 7)  flow =  0\n",
            "(24, 26)  flow =  7\n",
            "(7, 19)  flow =  14\n",
            "(15, 26)  flow =  6\n",
            "(14, 3)  flow =  0\n",
            "(23, 12)  flow =  0\n",
            "(3, 15)  flow =  6\n",
            "(12, 24)  flow =  13\n",
            "(19, 8)  flow =  0\n",
            "(1, 2)  flow =  0\n",
            "(17, 26)  flow =  7\n",
            "(1, 5)  flow =  7\n",
            "(1, 11)  flow =  10\n",
            "(15, 4)  flow =  0\n",
            "(8, 20)  flow =  16\n",
            "(1, 8)  flow =  16\n",
            "(19, 26)  flow =  14\n",
            "(24, 13)  flow =  6\n",
            "(20, 9)  flow =  0\n",
            "(13, 25)  flow =  6\n",
            "(4, 16)  flow =  6\n",
            "(21, 26)  flow =  18\n",
            "(23, 26)  flow =  10\n",
            "(5, 17)  flow =  7\n",
            "(14, 26)  flow =  0\n",
            "(1, 4)  flow =  6\n",
            "(9, 21)  flow =  18\n",
            "(1, 7)  flow =  14\n",
            "(1, 13)  flow =  0\n",
            "(16, 5)  flow =  0\n",
            "(1, 10)  flow =  15\n",
            "(10, 22)  flow =  15\n",
            "(25, 26)  flow =  6\n"
          ]
        }
      ]
    },
    {
      "cell_type": "code",
      "source": [
        "#Twelfth Iteration\n",
        "Iterate(G3)"
      ],
      "metadata": {
        "colab": {
          "base_uri": "https://localhost:8080/"
        },
        "id": "2N6k20FMMO6u",
        "outputId": "3b659384-e22d-4bf3-e750-88a0159654de"
      },
      "execution_count": null,
      "outputs": [
        {
          "output_type": "stream",
          "name": "stdout",
          "text": [
            "Incremental Network: {(26, 21), (6, 18), (12, 1), (22, 11), (5, 1), (1, 9), (11, 23), (7, 1), (21, 9), (26, 23), (7, 19), (23, 12), (22, 10), (17, 5), (9, 1), (3, 15), (19, 8), (1, 2), (1, 11), (1, 8), (26, 16), (20, 9), (26, 25), (13, 25), (26, 22), (4, 1), (8, 1), (14, 26), (1, 4), (9, 21), (1, 13), (24, 12), (1, 10), (10, 22), (26, 18), (26, 15), (21, 10), (26, 24), (20, 8), (3, 1), (17, 6), (1, 6), (1, 3), (16, 4), (2, 14), (1, 12), (25, 13), (18, 7), (26, 20), (26, 17), (14, 3), (12, 24), (11, 1), (1, 5), (15, 4), (6, 1), (8, 20), (24, 13), (18, 6), (26, 19), (23, 11), (4, 16), (19, 7), (5, 17), (10, 1), (1, 7), (16, 5), (15, 3), (13, 24)}\n",
            "Paths from source to sink:  {(1, 2, 14, 26)}\n",
            "A best path in Gp is  (1, 2, 14, 26)  of minimum cost  18\n",
            "The min capacity on this path is epsilon  9\n",
            "The min cost is  18\n",
            "(6, 18)  flow =  11\n",
            "(21, 10)  flow =  0\n",
            "(16, 26)  flow =  6\n",
            "(22, 11)  flow =  0\n",
            "(18, 26)  flow =  11\n",
            "(20, 26)  flow =  16\n",
            "(17, 6)  flow =  0\n",
            "(22, 26)  flow =  15\n",
            "(1, 6)  flow =  11\n",
            "(1, 3)  flow =  6\n",
            "(1, 9)  flow =  18\n",
            "(2, 14)  flow =  9\n",
            "(1, 12)  flow =  13\n",
            "(11, 23)  flow =  10\n",
            "(18, 7)  flow =  0\n",
            "(24, 26)  flow =  7\n",
            "(7, 19)  flow =  14\n",
            "(15, 26)  flow =  6\n",
            "(14, 3)  flow =  0\n",
            "(23, 12)  flow =  0\n",
            "(3, 15)  flow =  6\n",
            "(12, 24)  flow =  13\n",
            "(19, 8)  flow =  0\n",
            "(1, 2)  flow =  9\n",
            "(17, 26)  flow =  7\n",
            "(1, 5)  flow =  7\n",
            "(1, 11)  flow =  10\n",
            "(15, 4)  flow =  0\n",
            "(8, 20)  flow =  16\n",
            "(1, 8)  flow =  16\n",
            "(19, 26)  flow =  14\n",
            "(24, 13)  flow =  6\n",
            "(20, 9)  flow =  0\n",
            "(13, 25)  flow =  6\n",
            "(4, 16)  flow =  6\n",
            "(21, 26)  flow =  18\n",
            "(23, 26)  flow =  10\n",
            "(5, 17)  flow =  7\n",
            "(14, 26)  flow =  9\n",
            "(1, 4)  flow =  6\n",
            "(9, 21)  flow =  18\n",
            "(1, 7)  flow =  14\n",
            "(1, 13)  flow =  0\n",
            "(16, 5)  flow =  0\n",
            "(1, 10)  flow =  15\n",
            "(10, 22)  flow =  15\n",
            "(25, 26)  flow =  6\n"
          ]
        }
      ]
    },
    {
      "cell_type": "code",
      "source": [
        "#Thirteenth Iteration\n",
        "Iterate(G3)"
      ],
      "metadata": {
        "colab": {
          "base_uri": "https://localhost:8080/"
        },
        "id": "EE8UeMFAMQoM",
        "outputId": "b0a19eac-713e-42ca-e4b8-ad249107d38c"
      },
      "execution_count": null,
      "outputs": [
        {
          "output_type": "stream",
          "name": "stdout",
          "text": [
            "Incremental Network: {(26, 21), (6, 18), (12, 1), (22, 11), (5, 1), (1, 9), (11, 23), (7, 1), (26, 14), (21, 9), (26, 23), (7, 19), (23, 12), (22, 10), (17, 5), (9, 1), (3, 15), (19, 8), (1, 2), (2, 1), (1, 11), (1, 8), (26, 16), (20, 9), (26, 25), (13, 25), (26, 22), (14, 2), (4, 1), (8, 1), (1, 4), (9, 21), (1, 13), (24, 12), (1, 10), (10, 22), (26, 18), (26, 15), (21, 10), (26, 24), (20, 8), (3, 1), (17, 6), (1, 6), (1, 3), (16, 4), (2, 14), (1, 12), (25, 13), (18, 7), (26, 20), (26, 17), (14, 3), (12, 24), (11, 1), (1, 5), (15, 4), (6, 1), (8, 20), (24, 13), (18, 6), (26, 19), (23, 11), (4, 16), (19, 7), (5, 17), (10, 1), (1, 7), (16, 5), (15, 3), (13, 24)}\n",
            "Paths from source to sink:  set()\n",
            "Maximal flow found: 125  with minimal cost  1384\n",
            "(6, 18)  flow =  11\n",
            "(21, 10)  flow =  0\n",
            "(16, 26)  flow =  6\n",
            "(22, 11)  flow =  0\n",
            "(18, 26)  flow =  11\n",
            "(20, 26)  flow =  16\n",
            "(17, 6)  flow =  0\n",
            "(22, 26)  flow =  15\n",
            "(1, 6)  flow =  11\n",
            "(1, 3)  flow =  6\n",
            "(1, 9)  flow =  18\n",
            "(2, 14)  flow =  9\n",
            "(1, 12)  flow =  13\n",
            "(11, 23)  flow =  10\n",
            "(18, 7)  flow =  0\n",
            "(24, 26)  flow =  7\n",
            "(7, 19)  flow =  14\n",
            "(15, 26)  flow =  6\n",
            "(14, 3)  flow =  0\n",
            "(23, 12)  flow =  0\n",
            "(3, 15)  flow =  6\n",
            "(12, 24)  flow =  13\n",
            "(19, 8)  flow =  0\n",
            "(1, 2)  flow =  9\n",
            "(17, 26)  flow =  7\n",
            "(1, 5)  flow =  7\n",
            "(1, 11)  flow =  10\n",
            "(15, 4)  flow =  0\n",
            "(8, 20)  flow =  16\n",
            "(1, 8)  flow =  16\n",
            "(19, 26)  flow =  14\n",
            "(24, 13)  flow =  6\n",
            "(20, 9)  flow =  0\n",
            "(13, 25)  flow =  6\n",
            "(4, 16)  flow =  6\n",
            "(21, 26)  flow =  18\n",
            "(23, 26)  flow =  10\n",
            "(5, 17)  flow =  7\n",
            "(14, 26)  flow =  9\n",
            "(1, 4)  flow =  6\n",
            "(9, 21)  flow =  18\n",
            "(1, 7)  flow =  14\n",
            "(1, 13)  flow =  0\n",
            "(16, 5)  flow =  0\n",
            "(1, 10)  flow =  15\n",
            "(10, 22)  flow =  15\n",
            "(25, 26)  flow =  6\n"
          ]
        }
      ]
    },
    {
      "cell_type": "markdown",
      "source": [
        "#Part B"
      ],
      "metadata": {
        "id": "uT3yGb67OMlh"
      }
    },
    {
      "cell_type": "code",
      "source": [
        "#Define the network\n",
        "G4 ={(1,2),(2,3),(1,3),(1,4),(1,5),(1,6),(1,7),(1,8),(1,9),(1,10),(1,11),(1,12),(1,13),(1,14),(3,15),(4,16),(5,17),(6,18),(7,19),(8,20),(9,21),(10,22),(11,23),(12,24),(13,25),(14,26),(15,4),(16,5),(17,6),(18,7),(19,8),(20,9),(21,10),(22,11),(23,12),(24,13),(25,14),(15,27),(16,27),(17,27),(18,27),(19,27),(20,27),(21,27),(22,27),(23,27),(24,27),(25,27),(26,27)}"
      ],
      "metadata": {
        "id": "ohWQ4NWfQSPb"
      },
      "execution_count": null,
      "outputs": []
    },
    {
      "cell_type": "code",
      "source": [
        "#Initialise the network and set all values to 0\n",
        "Initialise(G4)"
      ],
      "metadata": {
        "colab": {
          "base_uri": "https://localhost:8080/"
        },
        "id": "Y8oUDNa0Qbo5",
        "outputId": "f1def24b-16d7-402a-ca09-d79e27873986"
      },
      "execution_count": null,
      "outputs": [
        {
          "output_type": "stream",
          "name": "stdout",
          "text": [
            "All values of c,phi and l initialised to zero\n"
          ]
        }
      ]
    },
    {
      "cell_type": "code",
      "source": [
        "#defining capacities\n",
        "#from source to firm\n",
        "c[1][2]=5\n",
        "c[2][3]=5\n",
        "# c[26][3]=5\n",
        "c[1][3]=20\n",
        "c[1][4]=20\n",
        "c[1][5]=20\n",
        "c[1][6]=20\n",
        "c[1][7]=20\n",
        "c[1][8]=20\n",
        "c[1][9]=20\n",
        "c[1][10]=20\n",
        "c[1][11]=20\n",
        "c[1][12]=20\n",
        "c[1][13]=20\n",
        "c[1][14]=20\n",
        "c[3][15]=20\n",
        "c[4][16]=20\n",
        "c[5][17]=20\n",
        "c[6][18]=20\n",
        "c[7][19]=20\n",
        "c[8][20]=20\n",
        "c[9][21]=20\n",
        "c[10][22]=20\n",
        "c[11][23]=20\n",
        "c[12][24]=20\n",
        "c[13][25]=20\n",
        "c[14][26]=20\n",
        "\n",
        "#leftover\n",
        "c[15][4]=20\n",
        "c[16][5]=20\n",
        "c[17][6]=20\n",
        "c[18][7]=20\n",
        "c[19][8]=20\n",
        "c[20][9]=20\n",
        "c[21][10]=20\n",
        "c[22][11]=20\n",
        "c[23][12]=20\n",
        "c[24][13]=20\n",
        "c[25][14]=20\n",
        "\n",
        "#storage to consumption\n",
        "c[15][27]=9\n",
        "c[16][27]=6\n",
        "c[17][27]=6\n",
        "c[18][27]=7\n",
        "c[19][27]=11\n",
        "c[20][27]=14\n",
        "c[21][27]=16\n",
        "c[22][27]=18\n",
        "c[23][27]=15\n",
        "c[24][27]=10\n",
        "c[25][27]=7\n",
        "c[26][27]=11"
      ],
      "metadata": {
        "id": "IC9oFz-dQcAL"
      },
      "execution_count": null,
      "outputs": []
    },
    {
      "cell_type": "code",
      "source": [
        "#defining cost\n",
        "#from source to firm\n",
        "l[1][2]=0\n",
        "l[2][3]=0\n",
        "l[1][3]=18\n",
        "l[1][4]=17\n",
        "l[1][5]=17\n",
        "l[1][6]=15\n",
        "l[1][7]=12\n",
        "l[1][8]=8\n",
        "l[1][9]=7\n",
        "l[1][10]=6\n",
        "l[1][11]=9\n",
        "l[1][12]=12\n",
        "l[1][13]=14\n",
        "l[1][14]=17\n",
        "l[3][15]=0\n",
        "l[4][16]=0\n",
        "l[5][17]=0\n",
        "l[6][18]=0\n",
        "l[7][19]=0\n",
        "l[8][20]=0\n",
        "l[9][21]=0\n",
        "l[10][22]=0\n",
        "l[11][23]=0\n",
        "l[12][24]=0\n",
        "l[13][25]=0\n",
        "l[14][26]=0\n",
        "\n",
        "#leftover\n",
        "l[15][4]=1\n",
        "l[16][5]=1\n",
        "l[17][6]=2\n",
        "l[18][7]=2\n",
        "l[19][8]=3\n",
        "l[20][9]=5\n",
        "l[21][10]=6\n",
        "l[22][11]=6\n",
        "l[23][12]=5\n",
        "l[24][13]=3\n",
        "l[25][14]=2\n",
        "# l[26][3]=0\n",
        "\n",
        "#storage to consumption\n",
        "l[14][26]=0\n",
        "l[15][26]=0\n",
        "l[16][26]=0\n",
        "l[17][26]=0\n",
        "l[18][26]=0\n",
        "l[19][26]=0\n",
        "l[20][26]=0\n",
        "l[21][26]=0\n",
        "l[22][26]=0\n",
        "l[23][26]=0\n",
        "l[24][26]=0\n",
        "l[25][26]=0"
      ],
      "metadata": {
        "id": "wxZ6BBxkQhNg"
      },
      "execution_count": null,
      "outputs": []
    },
    {
      "cell_type": "code",
      "source": [
        "#First Iteration\n",
        "Iterate(G4)"
      ],
      "metadata": {
        "colab": {
          "base_uri": "https://localhost:8080/"
        },
        "id": "lnJJ3WlBQxh1",
        "outputId": "8a8cbd2c-4113-447a-c7a8-cb7a47158e62"
      },
      "execution_count": null,
      "outputs": [
        {
          "output_type": "stream",
          "name": "stdout",
          "text": [
            "Incremental Network: {(6, 18), (21, 10), (24, 27), (22, 11), (26, 27), (15, 27), (17, 6), (1, 6), (1, 3), (1, 9), (17, 27), (11, 23), (1, 12), (19, 27), (18, 7), (7, 19), (23, 12), (21, 27), (12, 24), (3, 15), (23, 27), (19, 8), (1, 2), (1, 5), (1, 11), (15, 4), (8, 20), (1, 8), (1, 14), (24, 13), (20, 9), (25, 27), (13, 25), (16, 27), (18, 27), (4, 16), (22, 27), (20, 27), (5, 17), (14, 26), (1, 4), (2, 3), (9, 21), (1, 7), (1, 13), (16, 5), (1, 10), (25, 14), (10, 22)}\n",
            "Paths from source to sink:  {(1, 11, 23, 12, 24, 27), (1, 5, 17, 27), (1, 9, 21, 27), (1, 8, 20, 9, 21, 10, 22, 11, 23, 27), (1, 11, 23, 12, 24, 13, 25, 27), (1, 5, 17, 6, 18, 7, 19, 8, 20, 9, 21, 27), (1, 8, 20, 9, 21, 10, 22, 11, 23, 12, 24, 13, 25, 27), (1, 4, 16, 5, 17, 6, 18, 7, 19, 8, 20, 9, 21, 10, 22, 27), (1, 10, 22, 11, 23, 12, 24, 13, 25, 14, 26, 27), (1, 5, 17, 6, 18, 7, 19, 8, 20, 9, 21, 10, 22, 11, 23, 12, 24, 13, 25, 14, 26, 27), (1, 9, 21, 10, 22, 11, 23, 27), (1, 7, 19, 27), (1, 11, 23, 27), (1, 4, 16, 5, 17, 6, 18, 27), (1, 2, 3, 15, 4, 16, 5, 17, 6, 18, 7, 19, 27), (1, 3, 15, 4, 16, 5, 17, 6, 18, 7, 19, 8, 20, 9, 21, 10, 22, 11, 23, 12, 24, 13, 25, 14, 26, 27), (1, 3, 15, 27), (1, 8, 20, 9, 21, 10, 22, 27), (1, 7, 19, 8, 20, 27), (1, 3, 15, 4, 16, 5, 17, 27), (1, 3, 15, 4, 16, 5, 17, 6, 18, 7, 19, 27), (1, 4, 16, 5, 17, 27), (1, 7, 19, 8, 20, 9, 21, 10, 22, 11, 23, 12, 24, 27), (1, 2, 3, 15, 4, 16, 5, 17, 6, 18, 7, 19, 8, 20, 9, 21, 10, 22, 11, 23, 12, 24, 27), (1, 2, 3, 15, 4, 16, 5, 17, 27), (1, 7, 19, 8, 20, 9, 21, 10, 22, 11, 23, 12, 24, 13, 25, 14, 26, 27), (1, 8, 20, 9, 21, 10, 22, 11, 23, 12, 24, 13, 25, 14, 26, 27), (1, 9, 21, 10, 22, 27), (1, 10, 22, 11, 23, 12, 24, 27), (1, 2, 3, 15, 4, 16, 5, 17, 6, 18, 27), (1, 3, 15, 4, 16, 5, 17, 6, 18, 7, 19, 8, 20, 9, 21, 27), (1, 2, 3, 15, 4, 16, 5, 17, 6, 18, 7, 19, 8, 20, 9, 21, 10, 22, 11, 23, 12, 24, 13, 25, 14, 26, 27), (1, 5, 17, 6, 18, 7, 19, 8, 20, 27), (1, 6, 18, 27), (1, 5, 17, 6, 18, 7, 19, 8, 20, 9, 21, 10, 22, 11, 23, 27), (1, 12, 24, 13, 25, 14, 26, 27), (1, 3, 15, 4, 16, 5, 17, 6, 18, 7, 19, 8, 20, 9, 21, 10, 22, 27), (1, 2, 3, 15, 4, 16, 5, 17, 6, 18, 7, 19, 8, 20, 9, 21, 10, 22, 27), (1, 6, 18, 7, 19, 8, 20, 9, 21, 10, 22, 11, 23, 12, 24, 27), (1, 3, 15, 4, 16, 5, 17, 6, 18, 7, 19, 8, 20, 9, 21, 10, 22, 11, 23, 27), (1, 4, 16, 27), (1, 2, 3, 15, 4, 16, 5, 17, 6, 18, 7, 19, 8, 20, 9, 21, 10, 22, 11, 23, 27), (1, 6, 18, 7, 19, 27), (1, 5, 17, 6, 18, 7, 19, 8, 20, 9, 21, 10, 22, 11, 23, 12, 24, 27), (1, 6, 18, 7, 19, 8, 20, 9, 21, 10, 22, 11, 23, 12, 24, 13, 25, 14, 26, 27), (1, 3, 15, 4, 16, 5, 17, 6, 18, 7, 19, 8, 20, 9, 21, 10, 22, 11, 23, 12, 24, 13, 25, 27), (1, 3, 15, 4, 16, 5, 17, 6, 18, 7, 19, 8, 20, 9, 21, 10, 22, 11, 23, 12, 24, 27), (1, 7, 19, 8, 20, 9, 21, 10, 22, 11, 23, 12, 24, 13, 25, 27), (1, 5, 17, 6, 18, 7, 19, 27), (1, 3, 15, 4, 16, 27), (1, 7, 19, 8, 20, 9, 21, 10, 22, 27), (1, 5, 17, 6, 18, 7, 19, 8, 20, 9, 21, 10, 22, 27), (1, 13, 25, 27), (1, 4, 16, 5, 17, 6, 18, 7, 19, 8, 20, 9, 21, 27), (1, 4, 16, 5, 17, 6, 18, 7, 19, 8, 20, 9, 21, 10, 22, 11, 23, 12, 24, 13, 25, 14, 26, 27), (1, 9, 21, 10, 22, 11, 23, 12, 24, 27), (1, 4, 16, 5, 17, 6, 18, 7, 19, 8, 20, 9, 21, 10, 22, 11, 23, 12, 24, 27), (1, 8, 20, 9, 21, 27), (1, 10, 22, 27), (1, 14, 26, 27), (1, 2, 3, 15, 4, 16, 27), (1, 4, 16, 5, 17, 6, 18, 7, 19, 27), (1, 5, 17, 6, 18, 27), (1, 6, 18, 7, 19, 8, 20, 9, 21, 10, 22, 11, 23, 27), (1, 2, 3, 15, 27), (1, 6, 18, 7, 19, 8, 20, 9, 21, 10, 22, 27), (1, 2, 3, 15, 4, 16, 5, 17, 6, 18, 7, 19, 8, 20, 9, 21, 27), (1, 6, 18, 7, 19, 8, 20, 9, 21, 27), (1, 10, 22, 11, 23, 27), (1, 13, 25, 14, 26, 27), (1, 8, 20, 9, 21, 10, 22, 11, 23, 12, 24, 27), (1, 6, 18, 7, 19, 8, 20, 9, 21, 10, 22, 11, 23, 12, 24, 13, 25, 27), (1, 12, 24, 27), (1, 2, 3, 15, 4, 16, 5, 17, 6, 18, 7, 19, 8, 20, 9, 21, 10, 22, 11, 23, 12, 24, 13, 25, 27), (1, 9, 21, 10, 22, 11, 23, 12, 24, 13, 25, 27), (1, 7, 19, 8, 20, 9, 21, 27), (1, 2, 3, 15, 4, 16, 5, 17, 6, 18, 7, 19, 8, 20, 27), (1, 8, 20, 27), (1, 7, 19, 8, 20, 9, 21, 10, 22, 11, 23, 27), (1, 5, 17, 6, 18, 7, 19, 8, 20, 9, 21, 10, 22, 11, 23, 12, 24, 13, 25, 27), (1, 6, 18, 7, 19, 8, 20, 27), (1, 12, 24, 13, 25, 27), (1, 3, 15, 4, 16, 5, 17, 6, 18, 7, 19, 8, 20, 27), (1, 4, 16, 5, 17, 6, 18, 7, 19, 8, 20, 27), (1, 9, 21, 10, 22, 11, 23, 12, 24, 13, 25, 14, 26, 27), (1, 4, 16, 5, 17, 6, 18, 7, 19, 8, 20, 9, 21, 10, 22, 11, 23, 27), (1, 3, 15, 4, 16, 5, 17, 6, 18, 27), (1, 10, 22, 11, 23, 12, 24, 13, 25, 27), (1, 4, 16, 5, 17, 6, 18, 7, 19, 8, 20, 9, 21, 10, 22, 11, 23, 12, 24, 13, 25, 27), (1, 11, 23, 12, 24, 13, 25, 14, 26, 27)}\n",
            "A best path in Gp is  (1, 2, 3, 15, 27)  of minimum cost  0\n",
            "The min capacity on this path is epsilon  5\n",
            "The min cost is  0\n",
            "(6, 18)  flow =  0\n",
            "(21, 10)  flow =  0\n",
            "(24, 27)  flow =  0\n",
            "(22, 11)  flow =  0\n",
            "(15, 27)  flow =  5\n",
            "(26, 27)  flow =  0\n",
            "(17, 6)  flow =  0\n",
            "(1, 6)  flow =  0\n",
            "(1, 3)  flow =  0\n",
            "(1, 9)  flow =  0\n",
            "(17, 27)  flow =  0\n",
            "(11, 23)  flow =  0\n",
            "(1, 12)  flow =  0\n",
            "(19, 27)  flow =  0\n",
            "(18, 7)  flow =  0\n",
            "(7, 19)  flow =  0\n",
            "(23, 12)  flow =  0\n",
            "(21, 27)  flow =  0\n",
            "(3, 15)  flow =  5\n",
            "(12, 24)  flow =  0\n",
            "(23, 27)  flow =  0\n",
            "(19, 8)  flow =  0\n",
            "(1, 2)  flow =  5\n",
            "(1, 5)  flow =  0\n",
            "(1, 11)  flow =  0\n",
            "(15, 4)  flow =  0\n",
            "(8, 20)  flow =  0\n",
            "(1, 8)  flow =  0\n",
            "(1, 14)  flow =  0\n",
            "(24, 13)  flow =  0\n",
            "(20, 9)  flow =  0\n",
            "(25, 27)  flow =  0\n",
            "(13, 25)  flow =  0\n",
            "(16, 27)  flow =  0\n",
            "(18, 27)  flow =  0\n",
            "(4, 16)  flow =  0\n",
            "(22, 27)  flow =  0\n",
            "(20, 27)  flow =  0\n",
            "(5, 17)  flow =  0\n",
            "(14, 26)  flow =  0\n",
            "(1, 4)  flow =  0\n",
            "(2, 3)  flow =  5\n",
            "(9, 21)  flow =  0\n",
            "(1, 7)  flow =  0\n",
            "(1, 13)  flow =  0\n",
            "(16, 5)  flow =  0\n",
            "(1, 10)  flow =  0\n",
            "(25, 14)  flow =  0\n",
            "(10, 22)  flow =  0\n"
          ]
        }
      ]
    },
    {
      "cell_type": "code",
      "source": [
        "#Second Iteration\n",
        "Iterate(G4)"
      ],
      "metadata": {
        "colab": {
          "base_uri": "https://localhost:8080/"
        },
        "id": "iWsWm2AgQ0Bk",
        "outputId": "425a7d87-fb45-4de7-cc00-3b038d75cddd"
      },
      "execution_count": null,
      "outputs": [
        {
          "output_type": "stream",
          "name": "stdout",
          "text": [
            "Incremental Network: {(6, 18), (21, 10), (24, 27), (22, 11), (26, 27), (15, 27), (17, 6), (1, 6), (1, 3), (1, 9), (17, 27), (11, 23), (1, 12), (19, 27), (18, 7), (7, 19), (23, 12), (21, 27), (12, 24), (3, 15), (23, 27), (19, 8), (27, 15), (2, 1), (1, 5), (1, 11), (15, 4), (8, 20), (1, 8), (1, 14), (24, 13), (20, 9), (25, 27), (13, 25), (3, 2), (16, 27), (18, 27), (4, 16), (22, 27), (20, 27), (5, 17), (14, 26), (1, 4), (9, 21), (1, 7), (1, 13), (16, 5), (15, 3), (1, 10), (25, 14), (10, 22)}\n",
            "Paths from source to sink:  {(1, 11, 23, 12, 24, 27), (1, 5, 17, 27), (1, 9, 21, 27), (1, 8, 20, 9, 21, 10, 22, 11, 23, 27), (1, 11, 23, 12, 24, 13, 25, 27), (1, 5, 17, 6, 18, 7, 19, 8, 20, 9, 21, 27), (1, 8, 20, 9, 21, 10, 22, 11, 23, 12, 24, 13, 25, 27), (1, 4, 16, 5, 17, 6, 18, 7, 19, 8, 20, 9, 21, 10, 22, 27), (1, 10, 22, 11, 23, 12, 24, 13, 25, 14, 26, 27), (1, 5, 17, 6, 18, 7, 19, 8, 20, 9, 21, 10, 22, 11, 23, 12, 24, 13, 25, 14, 26, 27), (1, 9, 21, 10, 22, 11, 23, 27), (1, 7, 19, 27), (1, 11, 23, 27), (1, 4, 16, 5, 17, 6, 18, 27), (1, 3, 15, 4, 16, 5, 17, 6, 18, 7, 19, 8, 20, 9, 21, 10, 22, 11, 23, 12, 24, 13, 25, 14, 26, 27), (1, 8, 20, 9, 21, 10, 22, 27), (1, 3, 15, 27), (1, 3, 15, 4, 16, 5, 17, 27), (1, 7, 19, 8, 20, 27), (1, 3, 15, 4, 16, 5, 17, 6, 18, 7, 19, 27), (1, 4, 16, 5, 17, 27), (1, 7, 19, 8, 20, 9, 21, 10, 22, 11, 23, 12, 24, 27), (1, 7, 19, 8, 20, 9, 21, 10, 22, 11, 23, 12, 24, 13, 25, 14, 26, 27), (1, 8, 20, 9, 21, 10, 22, 11, 23, 12, 24, 13, 25, 14, 26, 27), (1, 9, 21, 10, 22, 27), (1, 10, 22, 11, 23, 12, 24, 27), (1, 3, 15, 4, 16, 5, 17, 6, 18, 7, 19, 8, 20, 9, 21, 27), (1, 5, 17, 6, 18, 7, 19, 8, 20, 27), (1, 6, 18, 27), (1, 5, 17, 6, 18, 7, 19, 8, 20, 9, 21, 10, 22, 11, 23, 27), (1, 12, 24, 13, 25, 14, 26, 27), (1, 3, 15, 4, 16, 5, 17, 6, 18, 7, 19, 8, 20, 9, 21, 10, 22, 27), (1, 6, 18, 7, 19, 8, 20, 9, 21, 10, 22, 11, 23, 12, 24, 27), (1, 3, 15, 4, 16, 5, 17, 6, 18, 7, 19, 8, 20, 9, 21, 10, 22, 11, 23, 27), (1, 4, 16, 27), (1, 6, 18, 7, 19, 27), (1, 5, 17, 6, 18, 7, 19, 8, 20, 9, 21, 10, 22, 11, 23, 12, 24, 27), (1, 6, 18, 7, 19, 8, 20, 9, 21, 10, 22, 11, 23, 12, 24, 13, 25, 14, 26, 27), (1, 3, 15, 4, 16, 5, 17, 6, 18, 7, 19, 8, 20, 9, 21, 10, 22, 11, 23, 12, 24, 13, 25, 27), (1, 3, 15, 4, 16, 5, 17, 6, 18, 7, 19, 8, 20, 9, 21, 10, 22, 11, 23, 12, 24, 27), (1, 7, 19, 8, 20, 9, 21, 10, 22, 11, 23, 12, 24, 13, 25, 27), (1, 5, 17, 6, 18, 7, 19, 27), (1, 3, 15, 4, 16, 27), (1, 7, 19, 8, 20, 9, 21, 10, 22, 27), (1, 5, 17, 6, 18, 7, 19, 8, 20, 9, 21, 10, 22, 27), (1, 13, 25, 27), (1, 4, 16, 5, 17, 6, 18, 7, 19, 8, 20, 9, 21, 27), (1, 4, 16, 5, 17, 6, 18, 7, 19, 8, 20, 9, 21, 10, 22, 11, 23, 12, 24, 13, 25, 14, 26, 27), (1, 9, 21, 10, 22, 11, 23, 12, 24, 27), (1, 4, 16, 5, 17, 6, 18, 7, 19, 8, 20, 9, 21, 10, 22, 11, 23, 12, 24, 27), (1, 8, 20, 9, 21, 27), (1, 10, 22, 27), (1, 14, 26, 27), (1, 4, 16, 5, 17, 6, 18, 7, 19, 27), (1, 5, 17, 6, 18, 27), (1, 6, 18, 7, 19, 8, 20, 9, 21, 10, 22, 11, 23, 27), (1, 6, 18, 7, 19, 8, 20, 9, 21, 10, 22, 27), (1, 6, 18, 7, 19, 8, 20, 9, 21, 27), (1, 10, 22, 11, 23, 27), (1, 13, 25, 14, 26, 27), (1, 8, 20, 9, 21, 10, 22, 11, 23, 12, 24, 27), (1, 6, 18, 7, 19, 8, 20, 9, 21, 10, 22, 11, 23, 12, 24, 13, 25, 27), (1, 12, 24, 27), (1, 9, 21, 10, 22, 11, 23, 12, 24, 13, 25, 27), (1, 7, 19, 8, 20, 9, 21, 27), (1, 8, 20, 27), (1, 7, 19, 8, 20, 9, 21, 10, 22, 11, 23, 27), (1, 5, 17, 6, 18, 7, 19, 8, 20, 9, 21, 10, 22, 11, 23, 12, 24, 13, 25, 27), (1, 6, 18, 7, 19, 8, 20, 27), (1, 12, 24, 13, 25, 27), (1, 3, 15, 4, 16, 5, 17, 6, 18, 7, 19, 8, 20, 27), (1, 4, 16, 5, 17, 6, 18, 7, 19, 8, 20, 27), (1, 9, 21, 10, 22, 11, 23, 12, 24, 13, 25, 14, 26, 27), (1, 4, 16, 5, 17, 6, 18, 7, 19, 8, 20, 9, 21, 10, 22, 11, 23, 27), (1, 3, 15, 4, 16, 5, 17, 6, 18, 27), (1, 10, 22, 11, 23, 12, 24, 13, 25, 27), (1, 4, 16, 5, 17, 6, 18, 7, 19, 8, 20, 9, 21, 10, 22, 11, 23, 12, 24, 13, 25, 27), (1, 11, 23, 12, 24, 13, 25, 14, 26, 27)}\n",
            "A best path in Gp is  (1, 10, 22, 27)  of minimum cost  6\n",
            "The min capacity on this path is epsilon  18\n",
            "The min cost is  6\n",
            "(6, 18)  flow =  0\n",
            "(21, 10)  flow =  0\n",
            "(24, 27)  flow =  0\n",
            "(22, 11)  flow =  0\n",
            "(15, 27)  flow =  5\n",
            "(26, 27)  flow =  0\n",
            "(17, 6)  flow =  0\n",
            "(1, 6)  flow =  0\n",
            "(1, 3)  flow =  0\n",
            "(1, 9)  flow =  0\n",
            "(17, 27)  flow =  0\n",
            "(11, 23)  flow =  0\n",
            "(1, 12)  flow =  0\n",
            "(19, 27)  flow =  0\n",
            "(18, 7)  flow =  0\n",
            "(7, 19)  flow =  0\n",
            "(23, 12)  flow =  0\n",
            "(21, 27)  flow =  0\n",
            "(3, 15)  flow =  5\n",
            "(12, 24)  flow =  0\n",
            "(23, 27)  flow =  0\n",
            "(19, 8)  flow =  0\n",
            "(1, 2)  flow =  5\n",
            "(1, 5)  flow =  0\n",
            "(1, 11)  flow =  0\n",
            "(15, 4)  flow =  0\n",
            "(8, 20)  flow =  0\n",
            "(1, 8)  flow =  0\n",
            "(1, 14)  flow =  0\n",
            "(24, 13)  flow =  0\n",
            "(20, 9)  flow =  0\n",
            "(25, 27)  flow =  0\n",
            "(13, 25)  flow =  0\n",
            "(16, 27)  flow =  0\n",
            "(18, 27)  flow =  0\n",
            "(4, 16)  flow =  0\n",
            "(22, 27)  flow =  18\n",
            "(20, 27)  flow =  0\n",
            "(5, 17)  flow =  0\n",
            "(14, 26)  flow =  0\n",
            "(1, 4)  flow =  0\n",
            "(2, 3)  flow =  5\n",
            "(9, 21)  flow =  0\n",
            "(1, 7)  flow =  0\n",
            "(1, 13)  flow =  0\n",
            "(16, 5)  flow =  0\n",
            "(1, 10)  flow =  18\n",
            "(25, 14)  flow =  0\n",
            "(10, 22)  flow =  18\n"
          ]
        }
      ]
    },
    {
      "cell_type": "code",
      "source": [
        "#Third Iteration\n",
        "Iterate(G4)"
      ],
      "metadata": {
        "colab": {
          "base_uri": "https://localhost:8080/"
        },
        "id": "a9QHPxFZQ0zw",
        "outputId": "f5d46aa1-46e5-45f5-bfc7-b58dcd0464a3"
      },
      "execution_count": null,
      "outputs": [
        {
          "output_type": "stream",
          "name": "stdout",
          "text": [
            "Incremental Network: {(6, 18), (21, 10), (24, 27), (22, 11), (26, 27), (15, 27), (17, 6), (1, 6), (1, 3), (1, 9), (27, 22), (17, 27), (11, 23), (1, 12), (19, 27), (18, 7), (7, 19), (23, 12), (22, 10), (21, 27), (12, 24), (3, 15), (23, 27), (19, 8), (27, 15), (2, 1), (1, 5), (1, 11), (15, 4), (8, 20), (1, 8), (1, 14), (24, 13), (20, 9), (25, 27), (13, 25), (3, 2), (16, 27), (18, 27), (4, 16), (20, 27), (5, 17), (14, 26), (1, 4), (10, 1), (9, 21), (1, 7), (1, 13), (16, 5), (15, 3), (1, 10), (25, 14), (10, 22)}\n",
            "Paths from source to sink:  {(1, 11, 23, 12, 24, 27), (1, 5, 17, 27), (1, 9, 21, 27), (1, 8, 20, 9, 21, 10, 22, 11, 23, 27), (1, 11, 23, 12, 24, 13, 25, 27), (1, 5, 17, 6, 18, 7, 19, 8, 20, 9, 21, 27), (1, 8, 20, 9, 21, 10, 22, 11, 23, 12, 24, 13, 25, 27), (1, 10, 22, 11, 23, 12, 24, 13, 25, 14, 26, 27), (1, 5, 17, 6, 18, 7, 19, 8, 20, 9, 21, 10, 22, 11, 23, 12, 24, 13, 25, 14, 26, 27), (1, 9, 21, 10, 22, 11, 23, 27), (1, 7, 19, 27), (1, 11, 23, 27), (1, 4, 16, 5, 17, 6, 18, 27), (1, 3, 15, 4, 16, 5, 17, 6, 18, 7, 19, 8, 20, 9, 21, 10, 22, 11, 23, 12, 24, 13, 25, 14, 26, 27), (1, 3, 15, 27), (1, 3, 15, 4, 16, 5, 17, 27), (1, 7, 19, 8, 20, 27), (1, 3, 15, 4, 16, 5, 17, 6, 18, 7, 19, 27), (1, 4, 16, 5, 17, 27), (1, 7, 19, 8, 20, 9, 21, 10, 22, 11, 23, 12, 24, 27), (1, 7, 19, 8, 20, 9, 21, 10, 22, 11, 23, 12, 24, 13, 25, 14, 26, 27), (1, 8, 20, 9, 21, 10, 22, 11, 23, 12, 24, 13, 25, 14, 26, 27), (1, 10, 22, 11, 23, 12, 24, 27), (1, 3, 15, 4, 16, 5, 17, 6, 18, 7, 19, 8, 20, 9, 21, 27), (1, 5, 17, 6, 18, 7, 19, 8, 20, 27), (1, 6, 18, 27), (1, 5, 17, 6, 18, 7, 19, 8, 20, 9, 21, 10, 22, 11, 23, 27), (1, 12, 24, 13, 25, 14, 26, 27), (1, 6, 18, 7, 19, 8, 20, 9, 21, 10, 22, 11, 23, 12, 24, 27), (1, 3, 15, 4, 16, 5, 17, 6, 18, 7, 19, 8, 20, 9, 21, 10, 22, 11, 23, 27), (1, 4, 16, 27), (1, 6, 18, 7, 19, 27), (1, 5, 17, 6, 18, 7, 19, 8, 20, 9, 21, 10, 22, 11, 23, 12, 24, 27), (1, 6, 18, 7, 19, 8, 20, 9, 21, 10, 22, 11, 23, 12, 24, 13, 25, 14, 26, 27), (1, 3, 15, 4, 16, 5, 17, 6, 18, 7, 19, 8, 20, 9, 21, 10, 22, 11, 23, 12, 24, 13, 25, 27), (1, 3, 15, 4, 16, 5, 17, 6, 18, 7, 19, 8, 20, 9, 21, 10, 22, 11, 23, 12, 24, 27), (1, 7, 19, 8, 20, 9, 21, 10, 22, 11, 23, 12, 24, 13, 25, 27), (1, 5, 17, 6, 18, 7, 19, 27), (1, 3, 15, 4, 16, 27), (1, 4, 16, 5, 17, 6, 18, 7, 19, 8, 20, 9, 21, 27), (1, 13, 25, 27), (1, 4, 16, 5, 17, 6, 18, 7, 19, 8, 20, 9, 21, 10, 22, 11, 23, 12, 24, 13, 25, 14, 26, 27), (1, 9, 21, 10, 22, 11, 23, 12, 24, 27), (1, 4, 16, 5, 17, 6, 18, 7, 19, 8, 20, 9, 21, 10, 22, 11, 23, 12, 24, 27), (1, 8, 20, 9, 21, 27), (1, 14, 26, 27), (1, 4, 16, 5, 17, 6, 18, 7, 19, 27), (1, 5, 17, 6, 18, 27), (1, 6, 18, 7, 19, 8, 20, 9, 21, 10, 22, 11, 23, 27), (1, 6, 18, 7, 19, 8, 20, 9, 21, 27), (1, 10, 22, 11, 23, 27), (1, 13, 25, 14, 26, 27), (1, 8, 20, 9, 21, 10, 22, 11, 23, 12, 24, 27), (1, 6, 18, 7, 19, 8, 20, 9, 21, 10, 22, 11, 23, 12, 24, 13, 25, 27), (1, 12, 24, 27), (1, 9, 21, 10, 22, 11, 23, 12, 24, 13, 25, 27), (1, 7, 19, 8, 20, 9, 21, 27), (1, 8, 20, 27), (1, 7, 19, 8, 20, 9, 21, 10, 22, 11, 23, 27), (1, 5, 17, 6, 18, 7, 19, 8, 20, 9, 21, 10, 22, 11, 23, 12, 24, 13, 25, 27), (1, 6, 18, 7, 19, 8, 20, 27), (1, 12, 24, 13, 25, 27), (1, 3, 15, 4, 16, 5, 17, 6, 18, 7, 19, 8, 20, 27), (1, 4, 16, 5, 17, 6, 18, 7, 19, 8, 20, 27), (1, 9, 21, 10, 22, 11, 23, 12, 24, 13, 25, 14, 26, 27), (1, 4, 16, 5, 17, 6, 18, 7, 19, 8, 20, 9, 21, 10, 22, 11, 23, 27), (1, 3, 15, 4, 16, 5, 17, 6, 18, 27), (1, 10, 22, 11, 23, 12, 24, 13, 25, 27), (1, 4, 16, 5, 17, 6, 18, 7, 19, 8, 20, 9, 21, 10, 22, 11, 23, 12, 24, 13, 25, 27), (1, 11, 23, 12, 24, 13, 25, 14, 26, 27)}\n",
            "A best path in Gp is  (1, 9, 21, 27)  of minimum cost  7\n",
            "The min capacity on this path is epsilon  16\n",
            "The min cost is  7\n",
            "(6, 18)  flow =  0\n",
            "(21, 10)  flow =  0\n",
            "(24, 27)  flow =  0\n",
            "(22, 11)  flow =  0\n",
            "(15, 27)  flow =  5\n",
            "(26, 27)  flow =  0\n",
            "(17, 6)  flow =  0\n",
            "(1, 6)  flow =  0\n",
            "(1, 3)  flow =  0\n",
            "(1, 9)  flow =  16\n",
            "(17, 27)  flow =  0\n",
            "(11, 23)  flow =  0\n",
            "(1, 12)  flow =  0\n",
            "(19, 27)  flow =  0\n",
            "(18, 7)  flow =  0\n",
            "(7, 19)  flow =  0\n",
            "(23, 12)  flow =  0\n",
            "(21, 27)  flow =  16\n",
            "(3, 15)  flow =  5\n",
            "(12, 24)  flow =  0\n",
            "(23, 27)  flow =  0\n",
            "(19, 8)  flow =  0\n",
            "(1, 2)  flow =  5\n",
            "(1, 5)  flow =  0\n",
            "(1, 11)  flow =  0\n",
            "(15, 4)  flow =  0\n",
            "(8, 20)  flow =  0\n",
            "(1, 8)  flow =  0\n",
            "(1, 14)  flow =  0\n",
            "(24, 13)  flow =  0\n",
            "(20, 9)  flow =  0\n",
            "(25, 27)  flow =  0\n",
            "(13, 25)  flow =  0\n",
            "(16, 27)  flow =  0\n",
            "(18, 27)  flow =  0\n",
            "(4, 16)  flow =  0\n",
            "(22, 27)  flow =  18\n",
            "(20, 27)  flow =  0\n",
            "(5, 17)  flow =  0\n",
            "(14, 26)  flow =  0\n",
            "(1, 4)  flow =  0\n",
            "(2, 3)  flow =  5\n",
            "(9, 21)  flow =  16\n",
            "(1, 7)  flow =  0\n",
            "(1, 13)  flow =  0\n",
            "(16, 5)  flow =  0\n",
            "(1, 10)  flow =  18\n",
            "(25, 14)  flow =  0\n",
            "(10, 22)  flow =  18\n"
          ]
        }
      ]
    },
    {
      "cell_type": "code",
      "source": [
        "#Fourth Iteration\n",
        "Iterate(G4)"
      ],
      "metadata": {
        "colab": {
          "base_uri": "https://localhost:8080/"
        },
        "id": "Z5yc-kGOQ1k1",
        "outputId": "132b8c08-2e47-4947-9e5b-89b50fba8933"
      },
      "execution_count": null,
      "outputs": [
        {
          "output_type": "stream",
          "name": "stdout",
          "text": [
            "Incremental Network: {(6, 18), (21, 10), (24, 27), (22, 11), (26, 27), (15, 27), (17, 6), (1, 6), (1, 3), (1, 9), (27, 22), (17, 27), (11, 23), (1, 12), (19, 27), (18, 7), (21, 9), (7, 19), (23, 12), (22, 10), (9, 1), (12, 24), (3, 15), (23, 27), (19, 8), (27, 15), (27, 21), (2, 1), (1, 5), (1, 11), (15, 4), (8, 20), (1, 8), (1, 14), (24, 13), (20, 9), (25, 27), (13, 25), (3, 2), (16, 27), (18, 27), (4, 16), (20, 27), (5, 17), (14, 26), (1, 4), (10, 1), (9, 21), (1, 7), (1, 13), (16, 5), (15, 3), (1, 10), (25, 14), (10, 22)}\n",
            "Paths from source to sink:  {(1, 11, 23, 12, 24, 27), (1, 5, 17, 6, 18, 7, 19, 8, 20, 9, 21, 10, 22, 11, 23, 12, 24, 27), (1, 6, 18, 7, 19, 8, 20, 9, 21, 10, 22, 11, 23, 12, 24, 13, 25, 14, 26, 27), (1, 3, 15, 4, 16, 5, 17, 6, 18, 7, 19, 8, 20, 9, 21, 10, 22, 11, 23, 12, 24, 13, 25, 27), (1, 3, 15, 4, 16, 5, 17, 6, 18, 7, 19, 8, 20, 9, 21, 10, 22, 11, 23, 12, 24, 27), (1, 5, 17, 27), (1, 7, 19, 8, 20, 9, 21, 10, 22, 11, 23, 12, 24, 13, 25, 27), (1, 8, 20, 9, 21, 10, 22, 11, 23, 27), (1, 5, 17, 6, 18, 7, 19, 27), (1, 3, 15, 4, 16, 27), (1, 11, 23, 12, 24, 13, 25, 27), (1, 13, 25, 27), (1, 4, 16, 5, 17, 6, 18, 7, 19, 8, 20, 9, 21, 10, 22, 11, 23, 12, 24, 13, 25, 14, 26, 27), (1, 9, 21, 10, 22, 11, 23, 12, 24, 27), (1, 4, 16, 5, 17, 6, 18, 7, 19, 8, 20, 9, 21, 10, 22, 11, 23, 12, 24, 27), (1, 8, 20, 9, 21, 10, 22, 11, 23, 12, 24, 13, 25, 27), (1, 10, 22, 11, 23, 12, 24, 13, 25, 14, 26, 27), (1, 14, 26, 27), (1, 5, 17, 6, 18, 7, 19, 8, 20, 9, 21, 10, 22, 11, 23, 12, 24, 13, 25, 14, 26, 27), (1, 4, 16, 5, 17, 6, 18, 7, 19, 27), (1, 5, 17, 6, 18, 27), (1, 6, 18, 7, 19, 8, 20, 9, 21, 10, 22, 11, 23, 27), (1, 10, 22, 11, 23, 27), (1, 9, 21, 10, 22, 11, 23, 27), (1, 7, 19, 27), (1, 11, 23, 27), (1, 13, 25, 14, 26, 27), (1, 4, 16, 5, 17, 6, 18, 27), (1, 3, 15, 4, 16, 5, 17, 6, 18, 7, 19, 8, 20, 9, 21, 10, 22, 11, 23, 12, 24, 13, 25, 14, 26, 27), (1, 8, 20, 9, 21, 10, 22, 11, 23, 12, 24, 27), (1, 3, 15, 27), (1, 3, 15, 4, 16, 5, 17, 27), (1, 7, 19, 8, 20, 27), (1, 6, 18, 7, 19, 27), (1, 6, 18, 7, 19, 8, 20, 9, 21, 10, 22, 11, 23, 12, 24, 13, 25, 27), (1, 3, 15, 4, 16, 5, 17, 6, 18, 7, 19, 27), (1, 12, 24, 27), (1, 4, 16, 5, 17, 27), (1, 7, 19, 8, 20, 9, 21, 10, 22, 11, 23, 12, 24, 27), (1, 9, 21, 10, 22, 11, 23, 12, 24, 13, 25, 27), (1, 8, 20, 27), (1, 7, 19, 8, 20, 9, 21, 10, 22, 11, 23, 27), (1, 7, 19, 8, 20, 9, 21, 10, 22, 11, 23, 12, 24, 13, 25, 14, 26, 27), (1, 8, 20, 9, 21, 10, 22, 11, 23, 12, 24, 13, 25, 14, 26, 27), (1, 5, 17, 6, 18, 7, 19, 8, 20, 9, 21, 10, 22, 11, 23, 12, 24, 13, 25, 27), (1, 6, 18, 7, 19, 8, 20, 27), (1, 10, 22, 11, 23, 12, 24, 27), (1, 12, 24, 13, 25, 27), (1, 3, 15, 4, 16, 5, 17, 6, 18, 7, 19, 8, 20, 27), (1, 5, 17, 6, 18, 7, 19, 8, 20, 27), (1, 6, 18, 27), (1, 4, 16, 5, 17, 6, 18, 7, 19, 8, 20, 27), (1, 9, 21, 10, 22, 11, 23, 12, 24, 13, 25, 14, 26, 27), (1, 12, 24, 13, 25, 14, 26, 27), (1, 5, 17, 6, 18, 7, 19, 8, 20, 9, 21, 10, 22, 11, 23, 27), (1, 3, 15, 4, 16, 5, 17, 6, 18, 27), (1, 4, 16, 5, 17, 6, 18, 7, 19, 8, 20, 9, 21, 10, 22, 11, 23, 27), (1, 10, 22, 11, 23, 12, 24, 13, 25, 27), (1, 6, 18, 7, 19, 8, 20, 9, 21, 10, 22, 11, 23, 12, 24, 27), (1, 3, 15, 4, 16, 5, 17, 6, 18, 7, 19, 8, 20, 9, 21, 10, 22, 11, 23, 27), (1, 4, 16, 5, 17, 6, 18, 7, 19, 8, 20, 9, 21, 10, 22, 11, 23, 12, 24, 13, 25, 27), (1, 4, 16, 27), (1, 11, 23, 12, 24, 13, 25, 14, 26, 27)}\n",
            "A best path in Gp is  (1, 8, 20, 27)  of minimum cost  8\n",
            "The min capacity on this path is epsilon  14\n",
            "The min cost is  8\n",
            "(6, 18)  flow =  0\n",
            "(21, 10)  flow =  0\n",
            "(24, 27)  flow =  0\n",
            "(22, 11)  flow =  0\n",
            "(15, 27)  flow =  5\n",
            "(26, 27)  flow =  0\n",
            "(17, 6)  flow =  0\n",
            "(1, 6)  flow =  0\n",
            "(1, 3)  flow =  0\n",
            "(1, 9)  flow =  16\n",
            "(17, 27)  flow =  0\n",
            "(11, 23)  flow =  0\n",
            "(1, 12)  flow =  0\n",
            "(19, 27)  flow =  0\n",
            "(18, 7)  flow =  0\n",
            "(7, 19)  flow =  0\n",
            "(23, 12)  flow =  0\n",
            "(21, 27)  flow =  16\n",
            "(3, 15)  flow =  5\n",
            "(12, 24)  flow =  0\n",
            "(23, 27)  flow =  0\n",
            "(19, 8)  flow =  0\n",
            "(1, 2)  flow =  5\n",
            "(1, 5)  flow =  0\n",
            "(1, 11)  flow =  0\n",
            "(15, 4)  flow =  0\n",
            "(8, 20)  flow =  14\n",
            "(1, 8)  flow =  14\n",
            "(1, 14)  flow =  0\n",
            "(24, 13)  flow =  0\n",
            "(20, 9)  flow =  0\n",
            "(25, 27)  flow =  0\n",
            "(13, 25)  flow =  0\n",
            "(16, 27)  flow =  0\n",
            "(18, 27)  flow =  0\n",
            "(4, 16)  flow =  0\n",
            "(22, 27)  flow =  18\n",
            "(20, 27)  flow =  14\n",
            "(5, 17)  flow =  0\n",
            "(14, 26)  flow =  0\n",
            "(1, 4)  flow =  0\n",
            "(2, 3)  flow =  5\n",
            "(9, 21)  flow =  16\n",
            "(1, 7)  flow =  0\n",
            "(1, 13)  flow =  0\n",
            "(16, 5)  flow =  0\n",
            "(1, 10)  flow =  18\n",
            "(25, 14)  flow =  0\n",
            "(10, 22)  flow =  18\n"
          ]
        }
      ]
    },
    {
      "cell_type": "code",
      "source": [
        "#Fifth Iteration\n",
        "Iterate(G4)"
      ],
      "metadata": {
        "colab": {
          "base_uri": "https://localhost:8080/"
        },
        "id": "jCFjF8IHQ2Y0",
        "outputId": "bda0a0a3-a708-4b55-857a-addd6f4eb5ec"
      },
      "execution_count": null,
      "outputs": [
        {
          "output_type": "stream",
          "name": "stdout",
          "text": [
            "Incremental Network: {(6, 18), (21, 10), (24, 27), (20, 8), (22, 11), (26, 27), (15, 27), (17, 6), (1, 6), (1, 3), (1, 9), (27, 22), (17, 27), (11, 23), (1, 12), (19, 27), (18, 7), (21, 9), (7, 19), (23, 12), (22, 10), (9, 1), (12, 24), (3, 15), (23, 27), (19, 8), (27, 15), (27, 21), (2, 1), (1, 5), (1, 11), (15, 4), (8, 20), (1, 8), (1, 14), (24, 13), (20, 9), (25, 27), (13, 25), (3, 2), (16, 27), (18, 27), (4, 16), (8, 1), (27, 20), (5, 17), (14, 26), (1, 4), (10, 1), (9, 21), (1, 7), (1, 13), (16, 5), (15, 3), (1, 10), (25, 14), (10, 22)}\n",
            "Paths from source to sink:  {(1, 11, 23, 12, 24, 27), (1, 5, 17, 6, 18, 7, 19, 8, 20, 9, 21, 10, 22, 11, 23, 12, 24, 27), (1, 6, 18, 7, 19, 8, 20, 9, 21, 10, 22, 11, 23, 12, 24, 13, 25, 14, 26, 27), (1, 3, 15, 4, 16, 5, 17, 6, 18, 7, 19, 8, 20, 9, 21, 10, 22, 11, 23, 12, 24, 13, 25, 27), (1, 3, 15, 4, 16, 5, 17, 6, 18, 7, 19, 8, 20, 9, 21, 10, 22, 11, 23, 12, 24, 27), (1, 5, 17, 27), (1, 7, 19, 8, 20, 9, 21, 10, 22, 11, 23, 12, 24, 13, 25, 27), (1, 8, 20, 9, 21, 10, 22, 11, 23, 27), (1, 5, 17, 6, 18, 7, 19, 27), (1, 3, 15, 4, 16, 27), (1, 11, 23, 12, 24, 13, 25, 27), (1, 13, 25, 27), (1, 4, 16, 5, 17, 6, 18, 7, 19, 8, 20, 9, 21, 10, 22, 11, 23, 12, 24, 13, 25, 14, 26, 27), (1, 9, 21, 10, 22, 11, 23, 12, 24, 27), (1, 4, 16, 5, 17, 6, 18, 7, 19, 8, 20, 9, 21, 10, 22, 11, 23, 12, 24, 27), (1, 8, 20, 9, 21, 10, 22, 11, 23, 12, 24, 13, 25, 27), (1, 10, 22, 11, 23, 12, 24, 13, 25, 14, 26, 27), (1, 14, 26, 27), (1, 5, 17, 6, 18, 7, 19, 8, 20, 9, 21, 10, 22, 11, 23, 12, 24, 13, 25, 14, 26, 27), (1, 4, 16, 5, 17, 6, 18, 7, 19, 27), (1, 5, 17, 6, 18, 27), (1, 6, 18, 7, 19, 8, 20, 9, 21, 10, 22, 11, 23, 27), (1, 10, 22, 11, 23, 27), (1, 9, 21, 10, 22, 11, 23, 27), (1, 7, 19, 27), (1, 11, 23, 27), (1, 13, 25, 14, 26, 27), (1, 4, 16, 5, 17, 6, 18, 27), (1, 3, 15, 4, 16, 5, 17, 6, 18, 7, 19, 8, 20, 9, 21, 10, 22, 11, 23, 12, 24, 13, 25, 14, 26, 27), (1, 8, 20, 9, 21, 10, 22, 11, 23, 12, 24, 27), (1, 3, 15, 27), (1, 3, 15, 4, 16, 5, 17, 27), (1, 6, 18, 7, 19, 27), (1, 6, 18, 7, 19, 8, 20, 9, 21, 10, 22, 11, 23, 12, 24, 13, 25, 27), (1, 3, 15, 4, 16, 5, 17, 6, 18, 7, 19, 27), (1, 12, 24, 27), (1, 4, 16, 5, 17, 27), (1, 7, 19, 8, 20, 9, 21, 10, 22, 11, 23, 12, 24, 27), (1, 9, 21, 10, 22, 11, 23, 12, 24, 13, 25, 27), (1, 7, 19, 8, 20, 9, 21, 10, 22, 11, 23, 27), (1, 7, 19, 8, 20, 9, 21, 10, 22, 11, 23, 12, 24, 13, 25, 14, 26, 27), (1, 8, 20, 9, 21, 10, 22, 11, 23, 12, 24, 13, 25, 14, 26, 27), (1, 5, 17, 6, 18, 7, 19, 8, 20, 9, 21, 10, 22, 11, 23, 12, 24, 13, 25, 27), (1, 10, 22, 11, 23, 12, 24, 27), (1, 12, 24, 13, 25, 27), (1, 6, 18, 27), (1, 9, 21, 10, 22, 11, 23, 12, 24, 13, 25, 14, 26, 27), (1, 5, 17, 6, 18, 7, 19, 8, 20, 9, 21, 10, 22, 11, 23, 27), (1, 12, 24, 13, 25, 14, 26, 27), (1, 4, 16, 5, 17, 6, 18, 7, 19, 8, 20, 9, 21, 10, 22, 11, 23, 27), (1, 3, 15, 4, 16, 5, 17, 6, 18, 27), (1, 10, 22, 11, 23, 12, 24, 13, 25, 27), (1, 6, 18, 7, 19, 8, 20, 9, 21, 10, 22, 11, 23, 12, 24, 27), (1, 3, 15, 4, 16, 5, 17, 6, 18, 7, 19, 8, 20, 9, 21, 10, 22, 11, 23, 27), (1, 4, 16, 5, 17, 6, 18, 7, 19, 8, 20, 9, 21, 10, 22, 11, 23, 12, 24, 13, 25, 27), (1, 4, 16, 27), (1, 11, 23, 12, 24, 13, 25, 14, 26, 27)}\n",
            "A best path in Gp is  (1, 11, 23, 27)  of minimum cost  9\n",
            "The min capacity on this path is epsilon  15\n",
            "The min cost is  9\n",
            "(6, 18)  flow =  0\n",
            "(21, 10)  flow =  0\n",
            "(24, 27)  flow =  0\n",
            "(22, 11)  flow =  0\n",
            "(15, 27)  flow =  5\n",
            "(26, 27)  flow =  0\n",
            "(17, 6)  flow =  0\n",
            "(1, 6)  flow =  0\n",
            "(1, 3)  flow =  0\n",
            "(1, 9)  flow =  16\n",
            "(17, 27)  flow =  0\n",
            "(11, 23)  flow =  15\n",
            "(1, 12)  flow =  0\n",
            "(19, 27)  flow =  0\n",
            "(18, 7)  flow =  0\n",
            "(7, 19)  flow =  0\n",
            "(23, 12)  flow =  0\n",
            "(21, 27)  flow =  16\n",
            "(3, 15)  flow =  5\n",
            "(12, 24)  flow =  0\n",
            "(23, 27)  flow =  15\n",
            "(19, 8)  flow =  0\n",
            "(1, 2)  flow =  5\n",
            "(1, 5)  flow =  0\n",
            "(1, 11)  flow =  15\n",
            "(15, 4)  flow =  0\n",
            "(8, 20)  flow =  14\n",
            "(1, 8)  flow =  14\n",
            "(1, 14)  flow =  0\n",
            "(24, 13)  flow =  0\n",
            "(20, 9)  flow =  0\n",
            "(25, 27)  flow =  0\n",
            "(13, 25)  flow =  0\n",
            "(16, 27)  flow =  0\n",
            "(18, 27)  flow =  0\n",
            "(4, 16)  flow =  0\n",
            "(22, 27)  flow =  18\n",
            "(20, 27)  flow =  14\n",
            "(5, 17)  flow =  0\n",
            "(14, 26)  flow =  0\n",
            "(1, 4)  flow =  0\n",
            "(2, 3)  flow =  5\n",
            "(9, 21)  flow =  16\n",
            "(1, 7)  flow =  0\n",
            "(1, 13)  flow =  0\n",
            "(16, 5)  flow =  0\n",
            "(1, 10)  flow =  18\n",
            "(25, 14)  flow =  0\n",
            "(10, 22)  flow =  18\n"
          ]
        }
      ]
    },
    {
      "cell_type": "code",
      "source": [
        "#Sixth Iteration\n",
        "Iterate(G4)"
      ],
      "metadata": {
        "colab": {
          "base_uri": "https://localhost:8080/"
        },
        "id": "-dVWpjO6Q3DV",
        "outputId": "b12c009d-f06b-4b37-dc7f-17ff62c3c74a"
      },
      "execution_count": null,
      "outputs": [
        {
          "output_type": "stream",
          "name": "stdout",
          "text": [
            "Incremental Network: {(6, 18), (21, 10), (24, 27), (20, 8), (22, 11), (26, 27), (15, 27), (17, 6), (1, 6), (1, 3), (1, 9), (27, 22), (17, 27), (11, 23), (1, 12), (19, 27), (18, 7), (21, 9), (7, 19), (23, 12), (22, 10), (9, 1), (12, 24), (3, 15), (11, 1), (19, 8), (27, 15), (27, 21), (2, 1), (1, 5), (1, 11), (15, 4), (8, 20), (1, 8), (1, 14), (24, 13), (20, 9), (25, 27), (13, 25), (23, 11), (3, 2), (16, 27), (18, 27), (4, 16), (8, 1), (27, 20), (5, 17), (14, 26), (27, 23), (1, 4), (9, 21), (10, 1), (1, 7), (1, 13), (16, 5), (15, 3), (1, 10), (25, 14), (10, 22)}\n",
            "Paths from source to sink:  {(1, 11, 23, 12, 24, 27), (1, 5, 17, 6, 18, 7, 19, 8, 20, 9, 21, 10, 22, 11, 23, 12, 24, 27), (1, 6, 18, 7, 19, 8, 20, 9, 21, 10, 22, 11, 23, 12, 24, 13, 25, 14, 26, 27), (1, 3, 15, 4, 16, 5, 17, 6, 18, 7, 19, 8, 20, 9, 21, 10, 22, 11, 23, 12, 24, 13, 25, 27), (1, 3, 15, 4, 16, 5, 17, 6, 18, 7, 19, 8, 20, 9, 21, 10, 22, 11, 23, 12, 24, 27), (1, 5, 17, 27), (1, 7, 19, 8, 20, 9, 21, 10, 22, 11, 23, 12, 24, 13, 25, 27), (1, 5, 17, 6, 18, 7, 19, 27), (1, 3, 15, 4, 16, 27), (1, 11, 23, 12, 24, 13, 25, 27), (1, 13, 25, 27), (1, 4, 16, 5, 17, 6, 18, 7, 19, 8, 20, 9, 21, 10, 22, 11, 23, 12, 24, 13, 25, 14, 26, 27), (1, 9, 21, 10, 22, 11, 23, 12, 24, 27), (1, 4, 16, 5, 17, 6, 18, 7, 19, 8, 20, 9, 21, 10, 22, 11, 23, 12, 24, 27), (1, 8, 20, 9, 21, 10, 22, 11, 23, 12, 24, 13, 25, 27), (1, 10, 22, 11, 23, 12, 24, 13, 25, 14, 26, 27), (1, 14, 26, 27), (1, 5, 17, 6, 18, 7, 19, 8, 20, 9, 21, 10, 22, 11, 23, 12, 24, 13, 25, 14, 26, 27), (1, 4, 16, 5, 17, 6, 18, 7, 19, 27), (1, 5, 17, 6, 18, 27), (1, 7, 19, 27), (1, 13, 25, 14, 26, 27), (1, 4, 16, 5, 17, 6, 18, 27), (1, 3, 15, 4, 16, 5, 17, 6, 18, 7, 19, 8, 20, 9, 21, 10, 22, 11, 23, 12, 24, 13, 25, 14, 26, 27), (1, 8, 20, 9, 21, 10, 22, 11, 23, 12, 24, 27), (1, 3, 15, 27), (1, 3, 15, 4, 16, 5, 17, 27), (1, 6, 18, 7, 19, 27), (1, 6, 18, 7, 19, 8, 20, 9, 21, 10, 22, 11, 23, 12, 24, 13, 25, 27), (1, 3, 15, 4, 16, 5, 17, 6, 18, 7, 19, 27), (1, 12, 24, 27), (1, 4, 16, 5, 17, 27), (1, 7, 19, 8, 20, 9, 21, 10, 22, 11, 23, 12, 24, 27), (1, 9, 21, 10, 22, 11, 23, 12, 24, 13, 25, 27), (1, 7, 19, 8, 20, 9, 21, 10, 22, 11, 23, 12, 24, 13, 25, 14, 26, 27), (1, 8, 20, 9, 21, 10, 22, 11, 23, 12, 24, 13, 25, 14, 26, 27), (1, 5, 17, 6, 18, 7, 19, 8, 20, 9, 21, 10, 22, 11, 23, 12, 24, 13, 25, 27), (1, 10, 22, 11, 23, 12, 24, 27), (1, 12, 24, 13, 25, 27), (1, 6, 18, 27), (1, 9, 21, 10, 22, 11, 23, 12, 24, 13, 25, 14, 26, 27), (1, 12, 24, 13, 25, 14, 26, 27), (1, 3, 15, 4, 16, 5, 17, 6, 18, 27), (1, 10, 22, 11, 23, 12, 24, 13, 25, 27), (1, 6, 18, 7, 19, 8, 20, 9, 21, 10, 22, 11, 23, 12, 24, 27), (1, 4, 16, 5, 17, 6, 18, 7, 19, 8, 20, 9, 21, 10, 22, 11, 23, 12, 24, 13, 25, 27), (1, 4, 16, 27), (1, 11, 23, 12, 24, 13, 25, 14, 26, 27)}\n",
            "A best path in Gp is  (1, 7, 19, 27)  of minimum cost  12\n",
            "The min capacity on this path is epsilon  11\n",
            "The min cost is  12\n",
            "(6, 18)  flow =  0\n",
            "(21, 10)  flow =  0\n",
            "(24, 27)  flow =  0\n",
            "(22, 11)  flow =  0\n",
            "(15, 27)  flow =  5\n",
            "(26, 27)  flow =  0\n",
            "(17, 6)  flow =  0\n",
            "(1, 6)  flow =  0\n",
            "(1, 3)  flow =  0\n",
            "(1, 9)  flow =  16\n",
            "(17, 27)  flow =  0\n",
            "(11, 23)  flow =  15\n",
            "(1, 12)  flow =  0\n",
            "(19, 27)  flow =  11\n",
            "(18, 7)  flow =  0\n",
            "(7, 19)  flow =  11\n",
            "(23, 12)  flow =  0\n",
            "(21, 27)  flow =  16\n",
            "(3, 15)  flow =  5\n",
            "(12, 24)  flow =  0\n",
            "(23, 27)  flow =  15\n",
            "(19, 8)  flow =  0\n",
            "(1, 2)  flow =  5\n",
            "(1, 5)  flow =  0\n",
            "(1, 11)  flow =  15\n",
            "(15, 4)  flow =  0\n",
            "(8, 20)  flow =  14\n",
            "(1, 8)  flow =  14\n",
            "(1, 14)  flow =  0\n",
            "(24, 13)  flow =  0\n",
            "(20, 9)  flow =  0\n",
            "(25, 27)  flow =  0\n",
            "(13, 25)  flow =  0\n",
            "(16, 27)  flow =  0\n",
            "(18, 27)  flow =  0\n",
            "(4, 16)  flow =  0\n",
            "(22, 27)  flow =  18\n",
            "(20, 27)  flow =  14\n",
            "(5, 17)  flow =  0\n",
            "(14, 26)  flow =  0\n",
            "(1, 4)  flow =  0\n",
            "(2, 3)  flow =  5\n",
            "(9, 21)  flow =  16\n",
            "(1, 7)  flow =  11\n",
            "(1, 13)  flow =  0\n",
            "(16, 5)  flow =  0\n",
            "(1, 10)  flow =  18\n",
            "(25, 14)  flow =  0\n",
            "(10, 22)  flow =  18\n"
          ]
        }
      ]
    },
    {
      "cell_type": "code",
      "source": [
        "#Seventh Iteration\n",
        "Iterate(G4)"
      ],
      "metadata": {
        "colab": {
          "base_uri": "https://localhost:8080/"
        },
        "id": "iTX0sXnMQ4Go",
        "outputId": "03fe2356-ed26-4d9e-aedf-d069e56fe727"
      },
      "execution_count": null,
      "outputs": [
        {
          "output_type": "stream",
          "name": "stdout",
          "text": [
            "Incremental Network: {(6, 18), (21, 10), (24, 27), (20, 8), (22, 11), (26, 27), (15, 27), (17, 6), (27, 19), (1, 6), (1, 3), (1, 9), (27, 22), (17, 27), (11, 23), (1, 12), (7, 1), (18, 7), (21, 9), (7, 19), (23, 12), (22, 10), (9, 1), (12, 24), (3, 15), (11, 1), (19, 8), (27, 15), (27, 21), (2, 1), (1, 5), (1, 11), (15, 4), (8, 20), (1, 8), (1, 14), (24, 13), (20, 9), (25, 27), (13, 25), (23, 11), (3, 2), (16, 27), (18, 27), (4, 16), (8, 1), (19, 7), (27, 20), (5, 17), (14, 26), (27, 23), (1, 4), (9, 21), (10, 1), (1, 7), (1, 13), (16, 5), (15, 3), (1, 10), (25, 14), (10, 22)}\n",
            "Paths from source to sink:  {(1, 11, 23, 12, 24, 27), (1, 5, 17, 6, 18, 7, 19, 8, 20, 9, 21, 10, 22, 11, 23, 12, 24, 27), (1, 6, 18, 7, 19, 8, 20, 9, 21, 10, 22, 11, 23, 12, 24, 13, 25, 14, 26, 27), (1, 3, 15, 4, 16, 5, 17, 6, 18, 7, 19, 8, 20, 9, 21, 10, 22, 11, 23, 12, 24, 13, 25, 27), (1, 3, 15, 4, 16, 5, 17, 6, 18, 7, 19, 8, 20, 9, 21, 10, 22, 11, 23, 12, 24, 27), (1, 5, 17, 27), (1, 7, 19, 8, 20, 9, 21, 10, 22, 11, 23, 12, 24, 13, 25, 27), (1, 3, 15, 4, 16, 27), (1, 11, 23, 12, 24, 13, 25, 27), (1, 13, 25, 27), (1, 4, 16, 5, 17, 6, 18, 7, 19, 8, 20, 9, 21, 10, 22, 11, 23, 12, 24, 13, 25, 14, 26, 27), (1, 9, 21, 10, 22, 11, 23, 12, 24, 27), (1, 4, 16, 5, 17, 6, 18, 7, 19, 8, 20, 9, 21, 10, 22, 11, 23, 12, 24, 27), (1, 8, 20, 9, 21, 10, 22, 11, 23, 12, 24, 13, 25, 27), (1, 10, 22, 11, 23, 12, 24, 13, 25, 14, 26, 27), (1, 14, 26, 27), (1, 5, 17, 6, 18, 7, 19, 8, 20, 9, 21, 10, 22, 11, 23, 12, 24, 13, 25, 14, 26, 27), (1, 5, 17, 6, 18, 27), (1, 13, 25, 14, 26, 27), (1, 4, 16, 5, 17, 6, 18, 27), (1, 3, 15, 4, 16, 5, 17, 6, 18, 7, 19, 8, 20, 9, 21, 10, 22, 11, 23, 12, 24, 13, 25, 14, 26, 27), (1, 8, 20, 9, 21, 10, 22, 11, 23, 12, 24, 27), (1, 3, 15, 27), (1, 3, 15, 4, 16, 5, 17, 27), (1, 6, 18, 7, 19, 8, 20, 9, 21, 10, 22, 11, 23, 12, 24, 13, 25, 27), (1, 12, 24, 27), (1, 4, 16, 5, 17, 27), (1, 7, 19, 8, 20, 9, 21, 10, 22, 11, 23, 12, 24, 27), (1, 9, 21, 10, 22, 11, 23, 12, 24, 13, 25, 27), (1, 7, 19, 8, 20, 9, 21, 10, 22, 11, 23, 12, 24, 13, 25, 14, 26, 27), (1, 8, 20, 9, 21, 10, 22, 11, 23, 12, 24, 13, 25, 14, 26, 27), (1, 5, 17, 6, 18, 7, 19, 8, 20, 9, 21, 10, 22, 11, 23, 12, 24, 13, 25, 27), (1, 10, 22, 11, 23, 12, 24, 27), (1, 12, 24, 13, 25, 27), (1, 6, 18, 27), (1, 9, 21, 10, 22, 11, 23, 12, 24, 13, 25, 14, 26, 27), (1, 12, 24, 13, 25, 14, 26, 27), (1, 3, 15, 4, 16, 5, 17, 6, 18, 27), (1, 10, 22, 11, 23, 12, 24, 13, 25, 27), (1, 6, 18, 7, 19, 8, 20, 9, 21, 10, 22, 11, 23, 12, 24, 27), (1, 4, 16, 5, 17, 6, 18, 7, 19, 8, 20, 9, 21, 10, 22, 11, 23, 12, 24, 13, 25, 27), (1, 4, 16, 27), (1, 11, 23, 12, 24, 13, 25, 14, 26, 27)}\n",
            "A best path in Gp is  (1, 12, 24, 27)  of minimum cost  12\n",
            "The min capacity on this path is epsilon  10\n",
            "The min cost is  12\n",
            "(6, 18)  flow =  0\n",
            "(21, 10)  flow =  0\n",
            "(24, 27)  flow =  10\n",
            "(22, 11)  flow =  0\n",
            "(15, 27)  flow =  5\n",
            "(26, 27)  flow =  0\n",
            "(17, 6)  flow =  0\n",
            "(1, 6)  flow =  0\n",
            "(1, 3)  flow =  0\n",
            "(1, 9)  flow =  16\n",
            "(17, 27)  flow =  0\n",
            "(11, 23)  flow =  15\n",
            "(1, 12)  flow =  10\n",
            "(19, 27)  flow =  11\n",
            "(18, 7)  flow =  0\n",
            "(7, 19)  flow =  11\n",
            "(23, 12)  flow =  0\n",
            "(21, 27)  flow =  16\n",
            "(3, 15)  flow =  5\n",
            "(12, 24)  flow =  10\n",
            "(23, 27)  flow =  15\n",
            "(19, 8)  flow =  0\n",
            "(1, 2)  flow =  5\n",
            "(1, 5)  flow =  0\n",
            "(1, 11)  flow =  15\n",
            "(15, 4)  flow =  0\n",
            "(8, 20)  flow =  14\n",
            "(1, 8)  flow =  14\n",
            "(1, 14)  flow =  0\n",
            "(24, 13)  flow =  0\n",
            "(20, 9)  flow =  0\n",
            "(25, 27)  flow =  0\n",
            "(13, 25)  flow =  0\n",
            "(16, 27)  flow =  0\n",
            "(18, 27)  flow =  0\n",
            "(4, 16)  flow =  0\n",
            "(22, 27)  flow =  18\n",
            "(20, 27)  flow =  14\n",
            "(5, 17)  flow =  0\n",
            "(14, 26)  flow =  0\n",
            "(1, 4)  flow =  0\n",
            "(2, 3)  flow =  5\n",
            "(9, 21)  flow =  16\n",
            "(1, 7)  flow =  11\n",
            "(1, 13)  flow =  0\n",
            "(16, 5)  flow =  0\n",
            "(1, 10)  flow =  18\n",
            "(25, 14)  flow =  0\n",
            "(10, 22)  flow =  18\n"
          ]
        }
      ]
    },
    {
      "cell_type": "code",
      "source": [
        "#Eight iteration\n",
        "Iterate(G4)"
      ],
      "metadata": {
        "colab": {
          "base_uri": "https://localhost:8080/"
        },
        "id": "T564JHS5Q7C2",
        "outputId": "775a8d1d-8e9d-4db1-aa3f-2f625e0a3379"
      },
      "execution_count": null,
      "outputs": [
        {
          "output_type": "stream",
          "name": "stdout",
          "text": [
            "Incremental Network: {(6, 18), (21, 10), (12, 1), (20, 8), (22, 11), (26, 27), (15, 27), (17, 6), (27, 19), (1, 6), (1, 3), (1, 9), (27, 22), (17, 27), (11, 23), (1, 12), (7, 1), (18, 7), (21, 9), (7, 19), (23, 12), (22, 10), (9, 1), (12, 24), (3, 15), (11, 1), (19, 8), (27, 15), (27, 21), (2, 1), (27, 24), (1, 5), (1, 11), (15, 4), (8, 20), (1, 8), (1, 14), (24, 13), (20, 9), (25, 27), (13, 25), (23, 11), (3, 2), (16, 27), (18, 27), (4, 16), (8, 1), (19, 7), (27, 20), (5, 17), (14, 26), (27, 23), (1, 4), (9, 21), (10, 1), (1, 7), (1, 13), (16, 5), (15, 3), (24, 12), (1, 10), (25, 14), (10, 22)}\n",
            "Paths from source to sink:  {(1, 6, 18, 7, 19, 8, 20, 9, 21, 10, 22, 11, 23, 12, 24, 13, 25, 14, 26, 27), (1, 3, 15, 4, 16, 5, 17, 6, 18, 7, 19, 8, 20, 9, 21, 10, 22, 11, 23, 12, 24, 13, 25, 27), (1, 5, 17, 27), (1, 7, 19, 8, 20, 9, 21, 10, 22, 11, 23, 12, 24, 13, 25, 27), (1, 3, 15, 4, 16, 27), (1, 11, 23, 12, 24, 13, 25, 27), (1, 13, 25, 27), (1, 4, 16, 5, 17, 6, 18, 7, 19, 8, 20, 9, 21, 10, 22, 11, 23, 12, 24, 13, 25, 14, 26, 27), (1, 8, 20, 9, 21, 10, 22, 11, 23, 12, 24, 13, 25, 27), (1, 10, 22, 11, 23, 12, 24, 13, 25, 14, 26, 27), (1, 14, 26, 27), (1, 5, 17, 6, 18, 7, 19, 8, 20, 9, 21, 10, 22, 11, 23, 12, 24, 13, 25, 14, 26, 27), (1, 5, 17, 6, 18, 27), (1, 13, 25, 14, 26, 27), (1, 4, 16, 5, 17, 6, 18, 27), (1, 3, 15, 4, 16, 5, 17, 6, 18, 7, 19, 8, 20, 9, 21, 10, 22, 11, 23, 12, 24, 13, 25, 14, 26, 27), (1, 3, 15, 27), (1, 3, 15, 4, 16, 5, 17, 27), (1, 6, 18, 7, 19, 8, 20, 9, 21, 10, 22, 11, 23, 12, 24, 13, 25, 27), (1, 4, 16, 5, 17, 27), (1, 9, 21, 10, 22, 11, 23, 12, 24, 13, 25, 27), (1, 7, 19, 8, 20, 9, 21, 10, 22, 11, 23, 12, 24, 13, 25, 14, 26, 27), (1, 8, 20, 9, 21, 10, 22, 11, 23, 12, 24, 13, 25, 14, 26, 27), (1, 5, 17, 6, 18, 7, 19, 8, 20, 9, 21, 10, 22, 11, 23, 12, 24, 13, 25, 27), (1, 12, 24, 13, 25, 27), (1, 6, 18, 27), (1, 9, 21, 10, 22, 11, 23, 12, 24, 13, 25, 14, 26, 27), (1, 12, 24, 13, 25, 14, 26, 27), (1, 3, 15, 4, 16, 5, 17, 6, 18, 27), (1, 10, 22, 11, 23, 12, 24, 13, 25, 27), (1, 4, 16, 5, 17, 6, 18, 7, 19, 8, 20, 9, 21, 10, 22, 11, 23, 12, 24, 13, 25, 27), (1, 4, 16, 27), (1, 11, 23, 12, 24, 13, 25, 14, 26, 27)}\n",
            "A best path in Gp is  (1, 13, 25, 27)  of minimum cost  14\n",
            "The min capacity on this path is epsilon  7\n",
            "The min cost is  14\n",
            "(6, 18)  flow =  0\n",
            "(21, 10)  flow =  0\n",
            "(24, 27)  flow =  10\n",
            "(22, 11)  flow =  0\n",
            "(15, 27)  flow =  5\n",
            "(26, 27)  flow =  0\n",
            "(17, 6)  flow =  0\n",
            "(1, 6)  flow =  0\n",
            "(1, 3)  flow =  0\n",
            "(1, 9)  flow =  16\n",
            "(17, 27)  flow =  0\n",
            "(11, 23)  flow =  15\n",
            "(1, 12)  flow =  10\n",
            "(19, 27)  flow =  11\n",
            "(18, 7)  flow =  0\n",
            "(7, 19)  flow =  11\n",
            "(23, 12)  flow =  0\n",
            "(21, 27)  flow =  16\n",
            "(3, 15)  flow =  5\n",
            "(12, 24)  flow =  10\n",
            "(23, 27)  flow =  15\n",
            "(19, 8)  flow =  0\n",
            "(1, 2)  flow =  5\n",
            "(1, 5)  flow =  0\n",
            "(1, 11)  flow =  15\n",
            "(15, 4)  flow =  0\n",
            "(8, 20)  flow =  14\n",
            "(1, 8)  flow =  14\n",
            "(1, 14)  flow =  0\n",
            "(24, 13)  flow =  0\n",
            "(20, 9)  flow =  0\n",
            "(25, 27)  flow =  7\n",
            "(13, 25)  flow =  7\n",
            "(16, 27)  flow =  0\n",
            "(18, 27)  flow =  0\n",
            "(4, 16)  flow =  0\n",
            "(22, 27)  flow =  18\n",
            "(20, 27)  flow =  14\n",
            "(5, 17)  flow =  0\n",
            "(14, 26)  flow =  0\n",
            "(1, 4)  flow =  0\n",
            "(2, 3)  flow =  5\n",
            "(9, 21)  flow =  16\n",
            "(1, 7)  flow =  11\n",
            "(1, 13)  flow =  7\n",
            "(16, 5)  flow =  0\n",
            "(1, 10)  flow =  18\n",
            "(25, 14)  flow =  0\n",
            "(10, 22)  flow =  18\n"
          ]
        }
      ]
    },
    {
      "cell_type": "code",
      "source": [
        "#Ninth Iteration\n",
        "Iterate(G4)"
      ],
      "metadata": {
        "colab": {
          "base_uri": "https://localhost:8080/"
        },
        "id": "cyuWYZjqQ72K",
        "outputId": "9d323ab1-8475-4c82-bb03-b53d6a882ec0"
      },
      "execution_count": null,
      "outputs": [
        {
          "output_type": "stream",
          "name": "stdout",
          "text": [
            "Incremental Network: {(6, 18), (12, 1), (22, 11), (26, 27), (15, 27), (27, 19), (1, 9), (17, 27), (11, 23), (7, 1), (21, 9), (7, 19), (23, 12), (22, 10), (9, 1), (3, 15), (19, 8), (27, 21), (2, 1), (13, 1), (1, 11), (1, 8), (20, 9), (13, 25), (3, 2), (18, 27), (8, 1), (14, 26), (27, 23), (1, 4), (9, 21), (1, 13), (25, 14), (24, 12), (1, 10), (10, 22), (21, 10), (20, 8), (17, 6), (1, 6), (27, 25), (1, 3), (27, 22), (1, 12), (25, 13), (18, 7), (12, 24), (11, 1), (27, 15), (27, 24), (1, 5), (15, 4), (8, 20), (1, 14), (24, 13), (23, 11), (16, 27), (4, 16), (19, 7), (27, 20), (5, 17), (10, 1), (1, 7), (16, 5), (15, 3)}\n",
            "Paths from source to sink:  {(1, 6, 18, 7, 19, 8, 20, 9, 21, 10, 22, 11, 23, 12, 24, 13, 25, 14, 26, 27), (1, 5, 17, 27), (1, 4, 16, 5, 17, 27), (1, 3, 15, 4, 16, 27), (1, 4, 16, 5, 17, 6, 18, 7, 19, 8, 20, 9, 21, 10, 22, 11, 23, 12, 24, 13, 25, 14, 26, 27), (1, 7, 19, 8, 20, 9, 21, 10, 22, 11, 23, 12, 24, 13, 25, 14, 26, 27), (1, 8, 20, 9, 21, 10, 22, 11, 23, 12, 24, 13, 25, 14, 26, 27), (1, 10, 22, 11, 23, 12, 24, 13, 25, 14, 26, 27), (1, 14, 26, 27), (1, 5, 17, 6, 18, 7, 19, 8, 20, 9, 21, 10, 22, 11, 23, 12, 24, 13, 25, 14, 26, 27), (1, 5, 17, 6, 18, 27), (1, 6, 18, 27), (1, 9, 21, 10, 22, 11, 23, 12, 24, 13, 25, 14, 26, 27), (1, 12, 24, 13, 25, 14, 26, 27), (1, 3, 15, 4, 16, 5, 17, 6, 18, 27), (1, 13, 25, 14, 26, 27), (1, 4, 16, 27), (1, 4, 16, 5, 17, 6, 18, 27), (1, 3, 15, 4, 16, 5, 17, 6, 18, 7, 19, 8, 20, 9, 21, 10, 22, 11, 23, 12, 24, 13, 25, 14, 26, 27), (1, 3, 15, 27), (1, 11, 23, 12, 24, 13, 25, 14, 26, 27), (1, 3, 15, 4, 16, 5, 17, 27)}\n",
            "A best path in Gp is  (1, 6, 18, 27)  of minimum cost  15\n",
            "The min capacity on this path is epsilon  7\n",
            "The min cost is  15\n",
            "(6, 18)  flow =  7\n",
            "(21, 10)  flow =  0\n",
            "(24, 27)  flow =  10\n",
            "(22, 11)  flow =  0\n",
            "(15, 27)  flow =  5\n",
            "(26, 27)  flow =  0\n",
            "(17, 6)  flow =  0\n",
            "(1, 6)  flow =  7\n",
            "(1, 3)  flow =  0\n",
            "(1, 9)  flow =  16\n",
            "(17, 27)  flow =  0\n",
            "(11, 23)  flow =  15\n",
            "(1, 12)  flow =  10\n",
            "(19, 27)  flow =  11\n",
            "(18, 7)  flow =  0\n",
            "(7, 19)  flow =  11\n",
            "(23, 12)  flow =  0\n",
            "(21, 27)  flow =  16\n",
            "(3, 15)  flow =  5\n",
            "(12, 24)  flow =  10\n",
            "(23, 27)  flow =  15\n",
            "(19, 8)  flow =  0\n",
            "(1, 2)  flow =  5\n",
            "(1, 5)  flow =  0\n",
            "(1, 11)  flow =  15\n",
            "(15, 4)  flow =  0\n",
            "(8, 20)  flow =  14\n",
            "(1, 8)  flow =  14\n",
            "(1, 14)  flow =  0\n",
            "(24, 13)  flow =  0\n",
            "(20, 9)  flow =  0\n",
            "(25, 27)  flow =  7\n",
            "(13, 25)  flow =  7\n",
            "(16, 27)  flow =  0\n",
            "(18, 27)  flow =  7\n",
            "(4, 16)  flow =  0\n",
            "(22, 27)  flow =  18\n",
            "(20, 27)  flow =  14\n",
            "(5, 17)  flow =  0\n",
            "(14, 26)  flow =  0\n",
            "(1, 4)  flow =  0\n",
            "(2, 3)  flow =  5\n",
            "(9, 21)  flow =  16\n",
            "(1, 7)  flow =  11\n",
            "(1, 13)  flow =  7\n",
            "(16, 5)  flow =  0\n",
            "(1, 10)  flow =  18\n",
            "(25, 14)  flow =  0\n",
            "(10, 22)  flow =  18\n"
          ]
        }
      ]
    },
    {
      "cell_type": "code",
      "source": [
        "#Tenth Iteration\n",
        "Iterate(G4)"
      ],
      "metadata": {
        "colab": {
          "base_uri": "https://localhost:8080/"
        },
        "id": "wG54aOgAQ8qh",
        "outputId": "a796ff2c-4a64-4786-d52b-822b844df8c7"
      },
      "execution_count": null,
      "outputs": [
        {
          "output_type": "stream",
          "name": "stdout",
          "text": [
            "Incremental Network: {(6, 18), (12, 1), (22, 11), (26, 27), (15, 27), (27, 19), (1, 9), (17, 27), (11, 23), (7, 1), (21, 9), (7, 19), (23, 12), (22, 10), (9, 1), (3, 15), (19, 8), (27, 21), (2, 1), (13, 1), (1, 11), (1, 8), (20, 9), (13, 25), (3, 2), (8, 1), (14, 26), (27, 23), (1, 4), (9, 21), (1, 13), (25, 14), (24, 12), (1, 10), (10, 22), (21, 10), (20, 8), (17, 6), (1, 6), (27, 25), (1, 3), (27, 22), (1, 12), (25, 13), (18, 7), (12, 24), (27, 18), (11, 1), (27, 15), (27, 24), (1, 5), (6, 1), (15, 4), (8, 20), (1, 14), (24, 13), (18, 6), (23, 11), (16, 27), (4, 16), (19, 7), (27, 20), (5, 17), (10, 1), (1, 7), (16, 5), (15, 3)}\n",
            "Paths from source to sink:  {(1, 6, 18, 7, 19, 8, 20, 9, 21, 10, 22, 11, 23, 12, 24, 13, 25, 14, 26, 27), (1, 5, 17, 27), (1, 4, 16, 5, 17, 27), (1, 3, 15, 4, 16, 27), (1, 4, 16, 5, 17, 6, 18, 7, 19, 8, 20, 9, 21, 10, 22, 11, 23, 12, 24, 13, 25, 14, 26, 27), (1, 7, 19, 8, 20, 9, 21, 10, 22, 11, 23, 12, 24, 13, 25, 14, 26, 27), (1, 8, 20, 9, 21, 10, 22, 11, 23, 12, 24, 13, 25, 14, 26, 27), (1, 10, 22, 11, 23, 12, 24, 13, 25, 14, 26, 27), (1, 14, 26, 27), (1, 5, 17, 6, 18, 7, 19, 8, 20, 9, 21, 10, 22, 11, 23, 12, 24, 13, 25, 14, 26, 27), (1, 9, 21, 10, 22, 11, 23, 12, 24, 13, 25, 14, 26, 27), (1, 12, 24, 13, 25, 14, 26, 27), (1, 13, 25, 14, 26, 27), (1, 4, 16, 27), (1, 3, 15, 4, 16, 5, 17, 6, 18, 7, 19, 8, 20, 9, 21, 10, 22, 11, 23, 12, 24, 13, 25, 14, 26, 27), (1, 3, 15, 27), (1, 11, 23, 12, 24, 13, 25, 14, 26, 27), (1, 3, 15, 4, 16, 5, 17, 27)}\n",
            "A best path in Gp is  (1, 13, 25, 14, 26, 27)  of minimum cost  16\n",
            "The min capacity on this path is epsilon  11\n",
            "The min cost is  16\n",
            "(6, 18)  flow =  7\n",
            "(21, 10)  flow =  0\n",
            "(24, 27)  flow =  10\n",
            "(22, 11)  flow =  0\n",
            "(15, 27)  flow =  5\n",
            "(26, 27)  flow =  11\n",
            "(17, 6)  flow =  0\n",
            "(1, 6)  flow =  7\n",
            "(1, 3)  flow =  0\n",
            "(1, 9)  flow =  16\n",
            "(17, 27)  flow =  0\n",
            "(11, 23)  flow =  15\n",
            "(1, 12)  flow =  10\n",
            "(19, 27)  flow =  11\n",
            "(18, 7)  flow =  0\n",
            "(7, 19)  flow =  11\n",
            "(23, 12)  flow =  0\n",
            "(21, 27)  flow =  16\n",
            "(3, 15)  flow =  5\n",
            "(12, 24)  flow =  10\n",
            "(23, 27)  flow =  15\n",
            "(19, 8)  flow =  0\n",
            "(1, 2)  flow =  5\n",
            "(1, 5)  flow =  0\n",
            "(1, 11)  flow =  15\n",
            "(15, 4)  flow =  0\n",
            "(8, 20)  flow =  14\n",
            "(1, 8)  flow =  14\n",
            "(1, 14)  flow =  0\n",
            "(24, 13)  flow =  0\n",
            "(20, 9)  flow =  0\n",
            "(25, 27)  flow =  7\n",
            "(13, 25)  flow =  18\n",
            "(16, 27)  flow =  0\n",
            "(18, 27)  flow =  7\n",
            "(4, 16)  flow =  0\n",
            "(22, 27)  flow =  18\n",
            "(20, 27)  flow =  14\n",
            "(5, 17)  flow =  0\n",
            "(14, 26)  flow =  11\n",
            "(1, 4)  flow =  0\n",
            "(2, 3)  flow =  5\n",
            "(9, 21)  flow =  16\n",
            "(1, 7)  flow =  11\n",
            "(1, 13)  flow =  18\n",
            "(16, 5)  flow =  0\n",
            "(1, 10)  flow =  18\n",
            "(25, 14)  flow =  11\n",
            "(10, 22)  flow =  18\n"
          ]
        }
      ]
    },
    {
      "cell_type": "code",
      "source": [
        "#Eleventh Iteration\n",
        "Iterate(G4)"
      ],
      "metadata": {
        "colab": {
          "base_uri": "https://localhost:8080/"
        },
        "id": "9SFH5opmQ-A7",
        "outputId": "6c2269d1-ad7c-49c7-f9cc-10bfff8a59da"
      },
      "execution_count": null,
      "outputs": [
        {
          "output_type": "stream",
          "name": "stdout",
          "text": [
            "Incremental Network: {(6, 18), (12, 1), (22, 11), (15, 27), (14, 25), (27, 19), (1, 9), (17, 27), (11, 23), (7, 1), (26, 14), (21, 9), (7, 19), (23, 12), (22, 10), (9, 1), (3, 15), (19, 8), (27, 21), (2, 1), (13, 1), (1, 11), (1, 8), (20, 9), (13, 25), (3, 2), (8, 1), (14, 26), (27, 23), (1, 4), (9, 21), (1, 13), (25, 14), (24, 12), (1, 10), (10, 22), (21, 10), (20, 8), (17, 6), (1, 6), (27, 25), (1, 3), (27, 22), (1, 12), (25, 13), (18, 7), (12, 24), (27, 18), (11, 1), (27, 15), (27, 24), (1, 5), (6, 1), (15, 4), (8, 20), (1, 14), (24, 13), (18, 6), (23, 11), (16, 27), (4, 16), (19, 7), (27, 20), (5, 17), (10, 1), (27, 26), (1, 7), (16, 5), (15, 3)}\n",
            "Paths from source to sink:  {(1, 4, 16, 27), (1, 5, 17, 27), (1, 4, 16, 5, 17, 27), (1, 3, 15, 27), (1, 3, 15, 4, 16, 27), (1, 3, 15, 4, 16, 5, 17, 27)}\n",
            "A best path in Gp is  (1, 4, 16, 27)  of minimum cost  17\n",
            "The min capacity on this path is epsilon  6\n",
            "The min cost is  17\n",
            "(6, 18)  flow =  7\n",
            "(21, 10)  flow =  0\n",
            "(24, 27)  flow =  10\n",
            "(22, 11)  flow =  0\n",
            "(15, 27)  flow =  5\n",
            "(26, 27)  flow =  11\n",
            "(17, 6)  flow =  0\n",
            "(1, 6)  flow =  7\n",
            "(1, 3)  flow =  0\n",
            "(1, 9)  flow =  16\n",
            "(17, 27)  flow =  0\n",
            "(11, 23)  flow =  15\n",
            "(1, 12)  flow =  10\n",
            "(19, 27)  flow =  11\n",
            "(18, 7)  flow =  0\n",
            "(7, 19)  flow =  11\n",
            "(23, 12)  flow =  0\n",
            "(21, 27)  flow =  16\n",
            "(3, 15)  flow =  5\n",
            "(12, 24)  flow =  10\n",
            "(23, 27)  flow =  15\n",
            "(19, 8)  flow =  0\n",
            "(1, 2)  flow =  5\n",
            "(1, 5)  flow =  0\n",
            "(1, 11)  flow =  15\n",
            "(15, 4)  flow =  0\n",
            "(8, 20)  flow =  14\n",
            "(1, 8)  flow =  14\n",
            "(1, 14)  flow =  0\n",
            "(24, 13)  flow =  0\n",
            "(20, 9)  flow =  0\n",
            "(25, 27)  flow =  7\n",
            "(13, 25)  flow =  18\n",
            "(16, 27)  flow =  6\n",
            "(18, 27)  flow =  7\n",
            "(4, 16)  flow =  6\n",
            "(22, 27)  flow =  18\n",
            "(20, 27)  flow =  14\n",
            "(5, 17)  flow =  0\n",
            "(14, 26)  flow =  11\n",
            "(1, 4)  flow =  6\n",
            "(2, 3)  flow =  5\n",
            "(9, 21)  flow =  16\n",
            "(1, 7)  flow =  11\n",
            "(1, 13)  flow =  18\n",
            "(16, 5)  flow =  0\n",
            "(1, 10)  flow =  18\n",
            "(25, 14)  flow =  11\n",
            "(10, 22)  flow =  18\n"
          ]
        }
      ]
    },
    {
      "cell_type": "code",
      "source": [
        "#Twelfth Iteration\n",
        "Iterate(G4)"
      ],
      "metadata": {
        "colab": {
          "base_uri": "https://localhost:8080/"
        },
        "id": "HmqeS-cBQ-u4",
        "outputId": "35e70bfc-fc20-4220-cf59-9662929bec08"
      },
      "execution_count": null,
      "outputs": [
        {
          "output_type": "stream",
          "name": "stdout",
          "text": [
            "Incremental Network: {(6, 18), (12, 1), (22, 11), (15, 27), (14, 25), (27, 19), (1, 9), (17, 27), (11, 23), (7, 1), (26, 14), (21, 9), (7, 19), (23, 12), (22, 10), (9, 1), (3, 15), (19, 8), (27, 21), (2, 1), (13, 1), (1, 11), (1, 8), (20, 9), (13, 25), (3, 2), (4, 1), (8, 1), (14, 26), (27, 23), (1, 4), (9, 21), (1, 13), (25, 14), (24, 12), (1, 10), (10, 22), (21, 10), (20, 8), (17, 6), (27, 16), (1, 6), (27, 25), (1, 3), (16, 4), (27, 22), (1, 12), (25, 13), (18, 7), (12, 24), (27, 18), (11, 1), (27, 15), (27, 24), (1, 5), (6, 1), (15, 4), (8, 20), (1, 14), (24, 13), (18, 6), (23, 11), (4, 16), (19, 7), (27, 20), (5, 17), (10, 1), (27, 26), (1, 7), (16, 5), (15, 3)}\n",
            "Paths from source to sink:  {(1, 5, 17, 27), (1, 4, 16, 5, 17, 27), (1, 3, 15, 27), (1, 3, 15, 4, 16, 5, 17, 27)}\n",
            "A best path in Gp is  (1, 5, 17, 27)  of minimum cost  17\n",
            "The min capacity on this path is epsilon  6\n",
            "The min cost is  17\n",
            "(6, 18)  flow =  7\n",
            "(21, 10)  flow =  0\n",
            "(24, 27)  flow =  10\n",
            "(22, 11)  flow =  0\n",
            "(15, 27)  flow =  5\n",
            "(26, 27)  flow =  11\n",
            "(17, 6)  flow =  0\n",
            "(1, 6)  flow =  7\n",
            "(1, 3)  flow =  0\n",
            "(1, 9)  flow =  16\n",
            "(17, 27)  flow =  6\n",
            "(11, 23)  flow =  15\n",
            "(1, 12)  flow =  10\n",
            "(19, 27)  flow =  11\n",
            "(18, 7)  flow =  0\n",
            "(7, 19)  flow =  11\n",
            "(23, 12)  flow =  0\n",
            "(21, 27)  flow =  16\n",
            "(3, 15)  flow =  5\n",
            "(12, 24)  flow =  10\n",
            "(23, 27)  flow =  15\n",
            "(19, 8)  flow =  0\n",
            "(1, 2)  flow =  5\n",
            "(1, 5)  flow =  6\n",
            "(1, 11)  flow =  15\n",
            "(15, 4)  flow =  0\n",
            "(8, 20)  flow =  14\n",
            "(1, 8)  flow =  14\n",
            "(1, 14)  flow =  0\n",
            "(24, 13)  flow =  0\n",
            "(20, 9)  flow =  0\n",
            "(25, 27)  flow =  7\n",
            "(13, 25)  flow =  18\n",
            "(16, 27)  flow =  6\n",
            "(18, 27)  flow =  7\n",
            "(4, 16)  flow =  6\n",
            "(22, 27)  flow =  18\n",
            "(20, 27)  flow =  14\n",
            "(5, 17)  flow =  6\n",
            "(14, 26)  flow =  11\n",
            "(1, 4)  flow =  6\n",
            "(2, 3)  flow =  5\n",
            "(9, 21)  flow =  16\n",
            "(1, 7)  flow =  11\n",
            "(1, 13)  flow =  18\n",
            "(16, 5)  flow =  0\n",
            "(1, 10)  flow =  18\n",
            "(25, 14)  flow =  11\n",
            "(10, 22)  flow =  18\n"
          ]
        }
      ]
    },
    {
      "cell_type": "code",
      "source": [
        "#Thirteenth Iteration\n",
        "Iterate(G4)"
      ],
      "metadata": {
        "colab": {
          "base_uri": "https://localhost:8080/"
        },
        "id": "8hPzNxaKQ_Vu",
        "outputId": "cc5af0bf-ef02-4e89-9fc4-c6ff2fb98704"
      },
      "execution_count": null,
      "outputs": [
        {
          "output_type": "stream",
          "name": "stdout",
          "text": [
            "Incremental Network: {(6, 18), (12, 1), (22, 11), (15, 27), (5, 1), (14, 25), (27, 19), (1, 9), (11, 23), (7, 1), (26, 14), (21, 9), (7, 19), (23, 12), (22, 10), (17, 5), (9, 1), (3, 15), (19, 8), (27, 21), (2, 1), (13, 1), (1, 11), (1, 8), (20, 9), (13, 25), (3, 2), (4, 1), (8, 1), (14, 26), (27, 23), (1, 4), (9, 21), (1, 13), (25, 14), (24, 12), (1, 10), (10, 22), (21, 10), (20, 8), (17, 6), (27, 16), (1, 6), (27, 25), (1, 3), (16, 4), (27, 22), (1, 12), (25, 13), (18, 7), (12, 24), (27, 18), (11, 1), (27, 15), (27, 24), (1, 5), (6, 1), (15, 4), (8, 20), (1, 14), (24, 13), (18, 6), (23, 11), (4, 16), (19, 7), (27, 20), (5, 17), (27, 17), (10, 1), (27, 26), (1, 7), (16, 5), (15, 3)}\n",
            "Paths from source to sink:  {(1, 3, 15, 27)}\n",
            "A best path in Gp is  (1, 3, 15, 27)  of minimum cost  18\n",
            "The min capacity on this path is epsilon  4\n",
            "The min cost is  18\n",
            "(6, 18)  flow =  7\n",
            "(21, 10)  flow =  0\n",
            "(24, 27)  flow =  10\n",
            "(22, 11)  flow =  0\n",
            "(15, 27)  flow =  9\n",
            "(26, 27)  flow =  11\n",
            "(17, 6)  flow =  0\n",
            "(1, 6)  flow =  7\n",
            "(1, 3)  flow =  4\n",
            "(1, 9)  flow =  16\n",
            "(17, 27)  flow =  6\n",
            "(11, 23)  flow =  15\n",
            "(1, 12)  flow =  10\n",
            "(19, 27)  flow =  11\n",
            "(18, 7)  flow =  0\n",
            "(7, 19)  flow =  11\n",
            "(23, 12)  flow =  0\n",
            "(21, 27)  flow =  16\n",
            "(3, 15)  flow =  9\n",
            "(12, 24)  flow =  10\n",
            "(23, 27)  flow =  15\n",
            "(19, 8)  flow =  0\n",
            "(1, 2)  flow =  5\n",
            "(1, 5)  flow =  6\n",
            "(1, 11)  flow =  15\n",
            "(15, 4)  flow =  0\n",
            "(8, 20)  flow =  14\n",
            "(1, 8)  flow =  14\n",
            "(1, 14)  flow =  0\n",
            "(24, 13)  flow =  0\n",
            "(20, 9)  flow =  0\n",
            "(25, 27)  flow =  7\n",
            "(13, 25)  flow =  18\n",
            "(16, 27)  flow =  6\n",
            "(18, 27)  flow =  7\n",
            "(4, 16)  flow =  6\n",
            "(22, 27)  flow =  18\n",
            "(20, 27)  flow =  14\n",
            "(5, 17)  flow =  6\n",
            "(14, 26)  flow =  11\n",
            "(1, 4)  flow =  6\n",
            "(2, 3)  flow =  5\n",
            "(9, 21)  flow =  16\n",
            "(1, 7)  flow =  11\n",
            "(1, 13)  flow =  18\n",
            "(16, 5)  flow =  0\n",
            "(1, 10)  flow =  18\n",
            "(25, 14)  flow =  11\n",
            "(10, 22)  flow =  18\n"
          ]
        }
      ]
    },
    {
      "cell_type": "code",
      "source": [
        "#Fourteenth Iteration\n",
        "Iterate(G4)"
      ],
      "metadata": {
        "colab": {
          "base_uri": "https://localhost:8080/"
        },
        "id": "eSOv4k_uCv9-",
        "outputId": "60a10972-2fc5-4629-e4f5-46ddf75cd630"
      },
      "execution_count": null,
      "outputs": [
        {
          "output_type": "stream",
          "name": "stdout",
          "text": [
            "Incremental Network: {(6, 18), (12, 1), (22, 11), (5, 1), (14, 25), (27, 19), (1, 9), (11, 23), (7, 1), (26, 14), (21, 9), (7, 19), (23, 12), (22, 10), (17, 5), (9, 1), (3, 15), (19, 8), (27, 21), (2, 1), (13, 1), (1, 11), (1, 8), (20, 9), (13, 25), (3, 2), (4, 1), (8, 1), (14, 26), (27, 23), (1, 4), (9, 21), (1, 13), (25, 14), (24, 12), (1, 10), (10, 22), (21, 10), (20, 8), (3, 1), (17, 6), (27, 16), (1, 6), (27, 25), (1, 3), (16, 4), (27, 22), (1, 12), (25, 13), (18, 7), (12, 24), (27, 18), (11, 1), (27, 15), (27, 24), (1, 5), (6, 1), (15, 4), (8, 20), (1, 14), (24, 13), (18, 6), (23, 11), (4, 16), (19, 7), (27, 20), (5, 17), (27, 17), (10, 1), (27, 26), (1, 7), (16, 5), (15, 3)}\n",
            "Paths from source to sink:  set()\n",
            "Maximal flow found: 130  with minimal cost  1374\n",
            "(6, 18)  flow =  7\n",
            "(21, 10)  flow =  0\n",
            "(24, 27)  flow =  10\n",
            "(22, 11)  flow =  0\n",
            "(15, 27)  flow =  9\n",
            "(26, 27)  flow =  11\n",
            "(17, 6)  flow =  0\n",
            "(1, 6)  flow =  7\n",
            "(1, 3)  flow =  4\n",
            "(1, 9)  flow =  16\n",
            "(17, 27)  flow =  6\n",
            "(11, 23)  flow =  15\n",
            "(1, 12)  flow =  10\n",
            "(19, 27)  flow =  11\n",
            "(18, 7)  flow =  0\n",
            "(7, 19)  flow =  11\n",
            "(23, 12)  flow =  0\n",
            "(21, 27)  flow =  16\n",
            "(3, 15)  flow =  9\n",
            "(12, 24)  flow =  10\n",
            "(23, 27)  flow =  15\n",
            "(19, 8)  flow =  0\n",
            "(1, 2)  flow =  5\n",
            "(1, 5)  flow =  6\n",
            "(1, 11)  flow =  15\n",
            "(15, 4)  flow =  0\n",
            "(8, 20)  flow =  14\n",
            "(1, 8)  flow =  14\n",
            "(1, 14)  flow =  0\n",
            "(24, 13)  flow =  0\n",
            "(20, 9)  flow =  0\n",
            "(25, 27)  flow =  7\n",
            "(13, 25)  flow =  18\n",
            "(16, 27)  flow =  6\n",
            "(18, 27)  flow =  7\n",
            "(4, 16)  flow =  6\n",
            "(22, 27)  flow =  18\n",
            "(20, 27)  flow =  14\n",
            "(5, 17)  flow =  6\n",
            "(14, 26)  flow =  11\n",
            "(1, 4)  flow =  6\n",
            "(2, 3)  flow =  5\n",
            "(9, 21)  flow =  16\n",
            "(1, 7)  flow =  11\n",
            "(1, 13)  flow =  18\n",
            "(16, 5)  flow =  0\n",
            "(1, 10)  flow =  18\n",
            "(25, 14)  flow =  11\n",
            "(10, 22)  flow =  18\n"
          ]
        }
      ]
    },
    {
      "cell_type": "code",
      "source": [
        "#Fifteenth Iteration\n",
        "Iterate(G4)"
      ],
      "metadata": {
        "colab": {
          "base_uri": "https://localhost:8080/"
        },
        "id": "w3CAQbnJCSWG",
        "outputId": "66a293d0-a341-43fe-c025-39a2d53ed3f2"
      },
      "execution_count": null,
      "outputs": [
        {
          "output_type": "stream",
          "name": "stdout",
          "text": [
            "Incremental Network: {(6, 18), (12, 1), (22, 11), (5, 1), (14, 25), (27, 19), (1, 9), (11, 23), (7, 1), (26, 14), (21, 9), (7, 19), (23, 12), (22, 10), (17, 5), (9, 1), (3, 15), (19, 8), (27, 21), (2, 1), (13, 1), (1, 11), (1, 8), (20, 9), (13, 25), (3, 2), (4, 1), (8, 1), (14, 26), (27, 23), (1, 4), (9, 21), (1, 13), (25, 14), (24, 12), (1, 10), (10, 22), (21, 10), (20, 8), (3, 1), (17, 6), (27, 16), (1, 6), (27, 25), (1, 3), (16, 4), (27, 22), (1, 12), (25, 13), (18, 7), (12, 24), (27, 18), (11, 1), (27, 15), (27, 24), (1, 5), (6, 1), (15, 4), (8, 20), (1, 14), (24, 13), (18, 6), (23, 11), (4, 16), (19, 7), (27, 20), (5, 17), (27, 17), (10, 1), (27, 26), (1, 7), (16, 5), (15, 3)}\n",
            "Paths from source to sink:  set()\n",
            "Maximal flow found: 130  with minimal cost  1374\n",
            "(6, 18)  flow =  7\n",
            "(21, 10)  flow =  0\n",
            "(24, 27)  flow =  10\n",
            "(22, 11)  flow =  0\n",
            "(15, 27)  flow =  9\n",
            "(26, 27)  flow =  11\n",
            "(17, 6)  flow =  0\n",
            "(1, 6)  flow =  7\n",
            "(1, 3)  flow =  4\n",
            "(1, 9)  flow =  16\n",
            "(17, 27)  flow =  6\n",
            "(11, 23)  flow =  15\n",
            "(1, 12)  flow =  10\n",
            "(19, 27)  flow =  11\n",
            "(18, 7)  flow =  0\n",
            "(7, 19)  flow =  11\n",
            "(23, 12)  flow =  0\n",
            "(21, 27)  flow =  16\n",
            "(3, 15)  flow =  9\n",
            "(12, 24)  flow =  10\n",
            "(23, 27)  flow =  15\n",
            "(19, 8)  flow =  0\n",
            "(1, 2)  flow =  5\n",
            "(1, 5)  flow =  6\n",
            "(1, 11)  flow =  15\n",
            "(15, 4)  flow =  0\n",
            "(8, 20)  flow =  14\n",
            "(1, 8)  flow =  14\n",
            "(1, 14)  flow =  0\n",
            "(24, 13)  flow =  0\n",
            "(20, 9)  flow =  0\n",
            "(25, 27)  flow =  7\n",
            "(13, 25)  flow =  18\n",
            "(16, 27)  flow =  6\n",
            "(18, 27)  flow =  7\n",
            "(4, 16)  flow =  6\n",
            "(22, 27)  flow =  18\n",
            "(20, 27)  flow =  14\n",
            "(5, 17)  flow =  6\n",
            "(14, 26)  flow =  11\n",
            "(1, 4)  flow =  6\n",
            "(2, 3)  flow =  5\n",
            "(9, 21)  flow =  16\n",
            "(1, 7)  flow =  11\n",
            "(1, 13)  flow =  18\n",
            "(16, 5)  flow =  0\n",
            "(1, 10)  flow =  18\n",
            "(25, 14)  flow =  11\n",
            "(10, 22)  flow =  18\n"
          ]
        }
      ]
    }
  ],
  "metadata": {
    "kernelspec": {
      "display_name": "Python 3 (ipykernel)",
      "language": "python",
      "name": "python3"
    },
    "language_info": {
      "codemirror_mode": {
        "name": "ipython",
        "version": 3
      },
      "file_extension": ".py",
      "mimetype": "text/x-python",
      "name": "python",
      "nbconvert_exporter": "python",
      "pygments_lexer": "ipython3",
      "version": "3.11.4"
    },
    "colab": {
      "provenance": [],
      "include_colab_link": true
    }
  },
  "nbformat": 4,
  "nbformat_minor": 0
}